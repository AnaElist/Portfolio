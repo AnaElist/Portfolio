{
  "cells": [
    {
      "cell_type": "markdown",
      "metadata": {
        "id": "AYa-JyfJJGnL"
      },
      "source": [
        "# А/Б тестирование новой системы рекомендаций товара"
      ]
    },
    {
      "cell_type": "code",
      "execution_count": null,
      "metadata": {
        "id": "a8HknqOSJGnM"
      },
      "outputs": [],
      "source": [
        "import pandas as pd\n",
        "import numpy as np\n",
        "%matplotlib inline\n",
        "import matplotlib.pyplot as plt\n",
        "import seaborn as sns\n",
        "import plotly.express as px\n",
        "from scipy import stats\n",
        "import pingouin as pg"
      ]
    },
    {
      "cell_type": "markdown",
      "metadata": {
        "id": "G9GExDAcJGnN"
      },
      "source": [
        "Команда внедрила в приложение умную систему рекомендации товаров – предполагается, что такая система поможет пользователям эффективнее работать с приложением и лучше находить необходимые товары.\n",
        "\n",
        "Чтобы проверить эффективность системы рекомендаций, был проведен АБ-тест. В группе 1 оказались пользователи с новой системой рекомендаций, в группе 0 пользователи со старой версией приложения, где нет рекомендации товаров.\n",
        "\n",
        "Задача – оценить, смогла ли новая система рекомендаций принести пользу бизнесу и пользователям приложения. Для этого нужно выбрать метрики, которые отвечают за качество сервиса, и статистически сравнить эти метрики в двух группах."
      ]
    },
    {
      "cell_type": "code",
      "execution_count": null,
      "metadata": {
        "scrolled": true,
        "id": "mWVFxdZfJGnO",
        "outputId": "7a9e34d5-03f4-4ed9-e6d0-5aa601d6c36e"
      },
      "outputs": [
        {
          "data": {
            "text/html": [
              "<div>\n",
              "<style scoped>\n",
              "    .dataframe tbody tr th:only-of-type {\n",
              "        vertical-align: middle;\n",
              "    }\n",
              "\n",
              "    .dataframe tbody tr th {\n",
              "        vertical-align: top;\n",
              "    }\n",
              "\n",
              "    .dataframe thead th {\n",
              "        text-align: right;\n",
              "    }\n",
              "</style>\n",
              "<table border=\"1\" class=\"dataframe\">\n",
              "  <thead>\n",
              "    <tr style=\"text-align: right;\">\n",
              "      <th></th>\n",
              "      <th>product_id</th>\n",
              "      <th>name</th>\n",
              "      <th>price</th>\n",
              "    </tr>\n",
              "  </thead>\n",
              "  <tbody>\n",
              "    <tr>\n",
              "      <th>0</th>\n",
              "      <td>1</td>\n",
              "      <td>сахар</td>\n",
              "      <td>150.0</td>\n",
              "    </tr>\n",
              "    <tr>\n",
              "      <th>1</th>\n",
              "      <td>2</td>\n",
              "      <td>чай зеленый в пакетиках</td>\n",
              "      <td>50.0</td>\n",
              "    </tr>\n",
              "    <tr>\n",
              "      <th>2</th>\n",
              "      <td>3</td>\n",
              "      <td>вода негазированная</td>\n",
              "      <td>80.4</td>\n",
              "    </tr>\n",
              "  </tbody>\n",
              "</table>\n",
              "</div>"
            ],
            "text/plain": [
              "   product_id                     name  price\n",
              "0           1                    сахар  150.0\n",
              "1           2  чай зеленый в пакетиках   50.0\n",
              "2           3      вода негазированная   80.4"
            ]
          },
          "execution_count": 2,
          "metadata": {},
          "output_type": "execute_result"
        }
      ],
      "source": [
        "products = pd.read_csv('ab_products.csv')\n",
        "products.head(3)"
      ]
    },
    {
      "cell_type": "code",
      "execution_count": null,
      "metadata": {
        "id": "ivQ0HVlFJGnO"
      },
      "outputs": [],
      "source": [
        "prod_id     = products.product_id.to_list()\n",
        "prod_prices = products.price.to_list()\n",
        "prices_dict = dict(zip(prod_id, prod_prices))"
      ]
    },
    {
      "cell_type": "code",
      "execution_count": null,
      "metadata": {
        "id": "HZrogm7jJGnP"
      },
      "outputs": [],
      "source": [
        "prices_dict = {1: 150.0, 2: 50.0, 3: 80.4, 4: 45.5, 5: 15.0, 6: 25.0, 7: 350.8, 8: 30.4, 9: 83.5, 10: 12.0, 11: 200.0, 12: 278.3, 13: 800.0, 14: 60.0, 15: 450.0, 16: 120.0, 17: 190.0, 18: 58.0, 19: 180.0, 20: 50.0, 21: 282.5, 22: 120.0, 23: 45.3,  24: 120.4, 25: 150.0, 26: 70.0, 27: 120.6, 28: 75.3, 29: 170.0, 30: 140.0, 31: 67.4, 32: 55.0, 33: 60.0, 34: 98.0, 35: 90.4, 36: 250.8, 37: 559.3, 38: 76.3, 39: 45.0, 40: 40.0, 41: 80.4, 42: 66.0, 43: 400.0, 44: 60.0, 45: 78.0,  46: 45.5, 47: 50.0, 48: 50.5, 49: 55.0, 50: 35.0, 51: 194.5, 52: 76.3, 53: 78.3, 54: 1.0, 55: 150.0, 56: 150.0, 57: 450.3, 58: 70.0, 59: 250.0, 60: 60.0, 61: 380.0, 62: 120.0, 63: 38.8, 64: 200.0, 65: 100.0, 66: 370.4, 67: 30.0, 68: 115.5, 69: 175.3, 70: 75.0, 71: 75.4, 72: 66.3, 73: 15.4, 74: 60.0,75: 120.0, 76: 55.5, 77: 298.4, 78: 70.0, 79: 64.9, 80: 50.0, 81: 30.0, 82: 30.4, 83: 55.0, 84: 90.4, 85: 200.3, 86: 70.3, 87: 398.3}"
      ]
    },
    {
      "cell_type": "code",
      "execution_count": null,
      "metadata": {
        "scrolled": true,
        "id": "2ABpLVcpJGnP",
        "outputId": "8936c553-0271-42fc-db10-306325580b21"
      },
      "outputs": [
        {
          "data": {
            "text/html": [
              "<div>\n",
              "<style scoped>\n",
              "    .dataframe tbody tr th:only-of-type {\n",
              "        vertical-align: middle;\n",
              "    }\n",
              "\n",
              "    .dataframe tbody tr th {\n",
              "        vertical-align: top;\n",
              "    }\n",
              "\n",
              "    .dataframe thead th {\n",
              "        text-align: right;\n",
              "    }\n",
              "</style>\n",
              "<table border=\"1\" class=\"dataframe\">\n",
              "  <thead>\n",
              "    <tr style=\"text-align: right;\">\n",
              "      <th></th>\n",
              "      <th>order_id</th>\n",
              "      <th>creation_time</th>\n",
              "      <th>product_ids</th>\n",
              "    </tr>\n",
              "  </thead>\n",
              "  <tbody>\n",
              "    <tr>\n",
              "      <th>0</th>\n",
              "      <td>1255</td>\n",
              "      <td>2022-08-26 00:00:19.000000</td>\n",
              "      <td>{75, 22, 53, 84}</td>\n",
              "    </tr>\n",
              "    <tr>\n",
              "      <th>1</th>\n",
              "      <td>1256</td>\n",
              "      <td>2022-08-26 00:02:21.000000</td>\n",
              "      <td>{56, 76, 39}</td>\n",
              "    </tr>\n",
              "    <tr>\n",
              "      <th>2</th>\n",
              "      <td>1257</td>\n",
              "      <td>2022-08-26 00:02:27.000000</td>\n",
              "      <td>{76, 34, 41, 38}</td>\n",
              "    </tr>\n",
              "  </tbody>\n",
              "</table>\n",
              "</div>"
            ],
            "text/plain": [
              "   order_id               creation_time       product_ids\n",
              "0      1255  2022-08-26 00:00:19.000000  {75, 22, 53, 84}\n",
              "1      1256  2022-08-26 00:02:21.000000      {56, 76, 39}\n",
              "2      1257  2022-08-26 00:02:27.000000  {76, 34, 41, 38}"
            ]
          },
          "execution_count": 5,
          "metadata": {},
          "output_type": "execute_result"
        }
      ],
      "source": [
        "orders = pd.read_csv('ab_orders.csv')\n",
        "orders.head(3)"
      ]
    },
    {
      "cell_type": "code",
      "execution_count": null,
      "metadata": {
        "id": "DPCOvbwnJGnP",
        "outputId": "62602696-d222-418a-9509-b88cac59e828"
      },
      "outputs": [
        {
          "data": {
            "text/plain": [
              "4123"
            ]
          },
          "execution_count": 6,
          "metadata": {},
          "output_type": "execute_result"
        },
        {
          "name": "stderr",
          "output_type": "stream",
          "text": [
            "/opt/tljh/user/lib/python3.7/site-packages/outdated/utils.py:18: OutdatedCacheFailedWarning: Failed to use cache while checking for outdated package.\n",
            "Set the environment variable OUTDATED_RAISE_EXCEPTION=1 for a full traceback.\n",
            "Set the environment variable OUTDATED_IGNORE=1 to disable these warnings.\n",
            "  **kwargs\n",
            "/opt/tljh/user/lib/python3.7/site-packages/outdated/utils.py:18: OutdatedPackageWarning: The package outdated is out of date. Your version is 0.2.1, the latest is 0.2.2.\n",
            "Set the environment variable OUTDATED_IGNORE=1 to disable these warnings.\n",
            "  **kwargs\n"
          ]
        }
      ],
      "source": [
        "# Посмотрим количество заказов\n",
        "orders.shape[0]"
      ]
    },
    {
      "cell_type": "code",
      "execution_count": null,
      "metadata": {
        "id": "bKwNgNzyJGnQ",
        "outputId": "bd4e4ef2-bcb1-48c0-df1d-299119b8947c"
      },
      "outputs": [
        {
          "name": "stderr",
          "output_type": "stream",
          "text": [
            "/opt/tljh/user/lib/python3.7/site-packages/outdated/utils.py:18: OutdatedPackageWarning: The package pingouin is out of date. Your version is 0.4.0, the latest is 0.5.4.\n",
            "Set the environment variable OUTDATED_IGNORE=1 to disable these warnings.\n",
            "  **kwargs\n"
          ]
        }
      ],
      "source": [
        "# Объединяю таблицы для последующей работы\n",
        "# users_data.merge(orders, on = ['order_id', 'creation_time'])"
      ]
    },
    {
      "cell_type": "code",
      "execution_count": null,
      "metadata": {
        "scrolled": false,
        "id": "EEb76HTBJGnQ",
        "outputId": "e734ec49-03b4-4971-d6b1-fb787091de1e"
      },
      "outputs": [
        {
          "data": {
            "text/html": [
              "<div>\n",
              "<style scoped>\n",
              "    .dataframe tbody tr th:only-of-type {\n",
              "        vertical-align: middle;\n",
              "    }\n",
              "\n",
              "    .dataframe tbody tr th {\n",
              "        vertical-align: top;\n",
              "    }\n",
              "\n",
              "    .dataframe thead th {\n",
              "        text-align: right;\n",
              "    }\n",
              "</style>\n",
              "<table border=\"1\" class=\"dataframe\">\n",
              "  <thead>\n",
              "    <tr style=\"text-align: right;\">\n",
              "      <th></th>\n",
              "      <th>user_id</th>\n",
              "      <th>order_id</th>\n",
              "      <th>action</th>\n",
              "      <th>time</th>\n",
              "      <th>date</th>\n",
              "      <th>group</th>\n",
              "    </tr>\n",
              "  </thead>\n",
              "  <tbody>\n",
              "    <tr>\n",
              "      <th>0</th>\n",
              "      <td>964</td>\n",
              "      <td>1255</td>\n",
              "      <td>create_order</td>\n",
              "      <td>2022-08-26 00:00:19.000000</td>\n",
              "      <td>2022-08-26</td>\n",
              "      <td>0</td>\n",
              "    </tr>\n",
              "    <tr>\n",
              "      <th>1</th>\n",
              "      <td>965</td>\n",
              "      <td>1256</td>\n",
              "      <td>create_order</td>\n",
              "      <td>2022-08-26 00:02:21.000000</td>\n",
              "      <td>2022-08-26</td>\n",
              "      <td>1</td>\n",
              "    </tr>\n",
              "    <tr>\n",
              "      <th>2</th>\n",
              "      <td>964</td>\n",
              "      <td>1257</td>\n",
              "      <td>create_order</td>\n",
              "      <td>2022-08-26 00:02:27.000000</td>\n",
              "      <td>2022-08-26</td>\n",
              "      <td>0</td>\n",
              "    </tr>\n",
              "  </tbody>\n",
              "</table>\n",
              "</div>"
            ],
            "text/plain": [
              "   user_id  order_id        action                        time        date  \\\n",
              "0      964      1255  create_order  2022-08-26 00:00:19.000000  2022-08-26   \n",
              "1      965      1256  create_order  2022-08-26 00:02:21.000000  2022-08-26   \n",
              "2      964      1257  create_order  2022-08-26 00:02:27.000000  2022-08-26   \n",
              "\n",
              "   group  \n",
              "0      0  \n",
              "1      1  \n",
              "2      0  "
            ]
          },
          "execution_count": 8,
          "metadata": {},
          "output_type": "execute_result"
        }
      ],
      "source": [
        "users_data = pd.read_csv('ab_users_data.csv')\n",
        "users_data.head(3)"
      ]
    },
    {
      "cell_type": "code",
      "execution_count": null,
      "metadata": {
        "scrolled": true,
        "id": "uq4AOohxJGnQ",
        "outputId": "2921bb95-ec55-416e-9f6c-a5fb92ecb38f"
      },
      "outputs": [
        {
          "data": {
            "text/plain": [
              "array(['create_order', 'cancel_order'], dtype=object)"
            ]
          },
          "execution_count": 9,
          "metadata": {},
          "output_type": "execute_result"
        }
      ],
      "source": [
        "# Посмотрим, какие бывают действия\n",
        "users_data.action.unique()"
      ]
    },
    {
      "cell_type": "code",
      "execution_count": null,
      "metadata": {
        "id": "crueBCI8JGnR",
        "outputId": "f5bc8c11-5584-4513-a7a9-347f84468bfd"
      },
      "outputs": [
        {
          "data": {
            "text/plain": [
              "4337"
            ]
          },
          "execution_count": 10,
          "metadata": {},
          "output_type": "execute_result"
        }
      ],
      "source": [
        "users_data.shape[0]"
      ]
    },
    {
      "cell_type": "code",
      "execution_count": null,
      "metadata": {
        "id": "XcUqHO-BJGnR",
        "outputId": "7834e372-e8fa-4538-bf07-ce0e0e3470a7"
      },
      "outputs": [
        {
          "data": {
            "text/plain": [
              "4123"
            ]
          },
          "execution_count": 11,
          "metadata": {},
          "output_type": "execute_result"
        }
      ],
      "source": [
        "# Количество созданных заказов совпадает с размерам таблицы orders\n",
        "users_data.query('action == \"create_order\"').shape[0]"
      ]
    },
    {
      "cell_type": "code",
      "execution_count": null,
      "metadata": {
        "id": "Pub4fI8BJGnR"
      },
      "outputs": [],
      "source": [
        "# Переводим дату в правильный формат\n",
        "users_data.time = users_data.time.apply(pd.to_datetime, format='%Y-%m-%d %H:%M:%S', errors='coerce')\n",
        "users_data.time = users_data.time.dt.time\n",
        "users_data.date = users_data.date.apply(pd.to_datetime, format='%Y-%m-%d', errors='coerce')"
      ]
    },
    {
      "cell_type": "code",
      "execution_count": null,
      "metadata": {
        "id": "qqKFiQhbJGnR"
      },
      "outputs": [],
      "source": [
        "cancel_orders = users_data.query('action == \"cancel_order\"').order_id.to_list()"
      ]
    },
    {
      "cell_type": "code",
      "execution_count": null,
      "metadata": {
        "id": "f2TLzpSiJGnR"
      },
      "outputs": [],
      "source": [
        "# Оставим только те заказы, которые не были отмены\n",
        "approved_users_data =  users_data.query('order_id not in @cancel_orders')"
      ]
    },
    {
      "cell_type": "code",
      "execution_count": null,
      "metadata": {
        "id": "AvYlXWGkJGnR",
        "outputId": "c114d636-3cc5-4295-bd93-5fdf848c64a8"
      },
      "outputs": [
        {
          "data": {
            "text/plain": [
              "214"
            ]
          },
          "execution_count": 15,
          "metadata": {},
          "output_type": "execute_result"
        }
      ],
      "source": [
        "# Посмотрим, сколько заказов были отменены\n",
        "users_data.query('action == \"cancel_order\"').shape[0]"
      ]
    },
    {
      "cell_type": "code",
      "execution_count": null,
      "metadata": {
        "id": "4vV8eRX0JGnS",
        "outputId": "1109778f-838f-42c3-a2aa-0d70992510a1"
      },
      "outputs": [
        {
          "data": {
            "text/plain": [
              "3909"
            ]
          },
          "execution_count": 16,
          "metadata": {},
          "output_type": "execute_result"
        }
      ],
      "source": [
        "# Сколько осталось\n",
        "users_data.query('order_id not in @cancel_orders').shape[0]"
      ]
    },
    {
      "cell_type": "code",
      "execution_count": null,
      "metadata": {
        "id": "OjddSU95JGnS",
        "outputId": "db8a0e19-f4df-42a2-d2a7-ca0252aa392f"
      },
      "outputs": [
        {
          "data": {
            "text/plain": [
              "True"
            ]
          },
          "execution_count": 17,
          "metadata": {},
          "output_type": "execute_result"
        }
      ],
      "source": [
        "# Проверяем, что осталось нужное количество\n",
        "4337-2*214 == 3909"
      ]
    },
    {
      "cell_type": "markdown",
      "metadata": {
        "id": "n3ZWYyN_JGnS"
      },
      "source": [
        "   "
      ]
    },
    {
      "cell_type": "markdown",
      "metadata": {
        "id": "pZ8ulMJuJGnS"
      },
      "source": [
        "### Оценим различие суммы чека внутри групп"
      ]
    },
    {
      "cell_type": "code",
      "execution_count": null,
      "metadata": {
        "scrolled": true,
        "id": "zS7AmzZVJGnS",
        "outputId": "0c184b9c-d9d6-4ac6-f68c-6db6de4f8f62"
      },
      "outputs": [
        {
          "data": {
            "text/html": [
              "<div>\n",
              "<style scoped>\n",
              "    .dataframe tbody tr th:only-of-type {\n",
              "        vertical-align: middle;\n",
              "    }\n",
              "\n",
              "    .dataframe tbody tr th {\n",
              "        vertical-align: top;\n",
              "    }\n",
              "\n",
              "    .dataframe thead th {\n",
              "        text-align: right;\n",
              "    }\n",
              "</style>\n",
              "<table border=\"1\" class=\"dataframe\">\n",
              "  <thead>\n",
              "    <tr style=\"text-align: right;\">\n",
              "      <th></th>\n",
              "      <th>user_id</th>\n",
              "      <th>order_id</th>\n",
              "      <th>action</th>\n",
              "      <th>time</th>\n",
              "      <th>date</th>\n",
              "      <th>group</th>\n",
              "      <th>product_ids</th>\n",
              "    </tr>\n",
              "  </thead>\n",
              "  <tbody>\n",
              "    <tr>\n",
              "      <th>0</th>\n",
              "      <td>964</td>\n",
              "      <td>1255</td>\n",
              "      <td>create_order</td>\n",
              "      <td>00:00:19</td>\n",
              "      <td>2022-08-26</td>\n",
              "      <td>0</td>\n",
              "      <td>{75, 22, 53, 84}</td>\n",
              "    </tr>\n",
              "    <tr>\n",
              "      <th>1</th>\n",
              "      <td>965</td>\n",
              "      <td>1256</td>\n",
              "      <td>create_order</td>\n",
              "      <td>00:02:21</td>\n",
              "      <td>2022-08-26</td>\n",
              "      <td>1</td>\n",
              "      <td>{56, 76, 39}</td>\n",
              "    </tr>\n",
              "    <tr>\n",
              "      <th>2</th>\n",
              "      <td>964</td>\n",
              "      <td>1257</td>\n",
              "      <td>create_order</td>\n",
              "      <td>00:02:27</td>\n",
              "      <td>2022-08-26</td>\n",
              "      <td>0</td>\n",
              "      <td>{76, 34, 41, 38}</td>\n",
              "    </tr>\n",
              "  </tbody>\n",
              "</table>\n",
              "</div>"
            ],
            "text/plain": [
              "   user_id  order_id        action      time       date  group  \\\n",
              "0      964      1255  create_order  00:00:19 2022-08-26      0   \n",
              "1      965      1256  create_order  00:02:21 2022-08-26      1   \n",
              "2      964      1257  create_order  00:02:27 2022-08-26      0   \n",
              "\n",
              "        product_ids  \n",
              "0  {75, 22, 53, 84}  \n",
              "1      {56, 76, 39}  \n",
              "2  {76, 34, 41, 38}  "
            ]
          },
          "execution_count": 18,
          "metadata": {},
          "output_type": "execute_result"
        }
      ],
      "source": [
        "user_orders = approved_users_data.merge(orders, on=['order_id']).drop(columns='creation_time')\n",
        "user_orders.head(3)"
      ]
    },
    {
      "cell_type": "code",
      "execution_count": null,
      "metadata": {
        "scrolled": true,
        "id": "CSAIDglmJGnT"
      },
      "outputs": [],
      "source": [
        "# Избавимся от скобок\n",
        "user_orders.product_ids = user_orders.product_ids.str.strip(\"{}\")\n",
        "ids = user_orders.product_ids.str.split(', ', expand=True)\n",
        "user_orders = pd.concat([user_orders, ids], axis=1)"
      ]
    },
    {
      "cell_type": "code",
      "execution_count": null,
      "metadata": {
        "id": "nGu_bR6zJGnT"
      },
      "outputs": [],
      "source": [
        "user_orders = user_orders.rename(columns={0: 'c0', 1: 'c1', 2: 'c2', 3: 'c3', 4: 'c4', 5: 'c5', 6: 'c6', 7: 'c7'})"
      ]
    },
    {
      "cell_type": "code",
      "execution_count": null,
      "metadata": {
        "id": "onYs6R_-JGnT"
      },
      "outputs": [],
      "source": [
        "# чтобы поменять тип колонок, избавимя от пропусков\n",
        "user_orders = user_orders.fillna(0)"
      ]
    },
    {
      "cell_type": "code",
      "execution_count": null,
      "metadata": {
        "id": "fh0sNXJJJGnT"
      },
      "outputs": [],
      "source": [
        "user_orders = user_orders.astype({'c0': 'int64', 'c1': 'int64', 'c2': 'int64', 'c3': 'int64', 'c4': 'int64', 'c5': 'int64', 'c6': 'int64', 'c7': 'int64'})"
      ]
    },
    {
      "cell_type": "code",
      "execution_count": null,
      "metadata": {
        "scrolled": false,
        "id": "Qal39iYHJGnT",
        "outputId": "0e94c18b-1aa7-4256-9e9c-96d72441d868"
      },
      "outputs": [
        {
          "data": {
            "text/plain": [
              "user_id                 int64\n",
              "order_id                int64\n",
              "action                 object\n",
              "time                   object\n",
              "date           datetime64[ns]\n",
              "group                   int64\n",
              "product_ids            object\n",
              "c0                      int64\n",
              "c1                      int64\n",
              "c2                      int64\n",
              "c3                      int64\n",
              "c4                      int64\n",
              "c5                      int64\n",
              "c6                      int64\n",
              "c7                      int64\n",
              "dtype: object"
            ]
          },
          "execution_count": 23,
          "metadata": {},
          "output_type": "execute_result"
        }
      ],
      "source": [
        "user_orders.dtypes"
      ]
    },
    {
      "cell_type": "code",
      "execution_count": null,
      "metadata": {
        "id": "Cj3q4tDbJGnT"
      },
      "outputs": [],
      "source": [
        "# Меняем значения на цены из словаря с ценами\n",
        "user_orders['c0'] = user_orders['c0'].map(prices_dict)\n",
        "user_orders['c1'] = user_orders['c1'].map(prices_dict)\n",
        "user_orders['c2'] = user_orders['c2'].map(prices_dict)\n",
        "user_orders['c3'] = user_orders['c3'].map(prices_dict)\n",
        "user_orders['c4'] = user_orders['c4'].map(prices_dict)\n",
        "user_orders['c5'] = user_orders['c5'].map(prices_dict)\n",
        "user_orders['c6'] = user_orders['c6'].map(prices_dict)\n",
        "user_orders['c7'] = user_orders['c7'].map(prices_dict)"
      ]
    },
    {
      "cell_type": "code",
      "execution_count": null,
      "metadata": {
        "id": "ZnbJzdH-JGnT"
      },
      "outputs": [],
      "source": [
        "user_orders = user_orders.fillna(0)\n",
        "user_orders['orded_price'] = user_orders['c0'] + user_orders['c1'] + user_orders['c2'] + user_orders['c3'] + user_orders['c4'] + user_orders['c5'] + user_orders['c6'] + user_orders['c7']"
      ]
    },
    {
      "cell_type": "code",
      "execution_count": null,
      "metadata": {
        "id": "n4CXD_v7JGnT",
        "outputId": "8e5a5683-f485-4fa3-dfcd-d29e74f75c67"
      },
      "outputs": [
        {
          "data": {
            "text/html": [
              "<div>\n",
              "<style scoped>\n",
              "    .dataframe tbody tr th:only-of-type {\n",
              "        vertical-align: middle;\n",
              "    }\n",
              "\n",
              "    .dataframe tbody tr th {\n",
              "        vertical-align: top;\n",
              "    }\n",
              "\n",
              "    .dataframe thead th {\n",
              "        text-align: right;\n",
              "    }\n",
              "</style>\n",
              "<table border=\"1\" class=\"dataframe\">\n",
              "  <thead>\n",
              "    <tr style=\"text-align: right;\">\n",
              "      <th></th>\n",
              "      <th>user_id</th>\n",
              "      <th>order_id</th>\n",
              "      <th>action</th>\n",
              "      <th>time</th>\n",
              "      <th>date</th>\n",
              "      <th>group</th>\n",
              "      <th>product_ids</th>\n",
              "      <th>c0</th>\n",
              "      <th>c1</th>\n",
              "      <th>c2</th>\n",
              "      <th>c3</th>\n",
              "      <th>c4</th>\n",
              "      <th>c5</th>\n",
              "      <th>c6</th>\n",
              "      <th>c7</th>\n",
              "      <th>orded_price</th>\n",
              "    </tr>\n",
              "  </thead>\n",
              "  <tbody>\n",
              "    <tr>\n",
              "      <th>0</th>\n",
              "      <td>964</td>\n",
              "      <td>1255</td>\n",
              "      <td>create_order</td>\n",
              "      <td>00:00:19</td>\n",
              "      <td>2022-08-26</td>\n",
              "      <td>0</td>\n",
              "      <td>75, 22, 53, 84</td>\n",
              "      <td>120.0</td>\n",
              "      <td>120.0</td>\n",
              "      <td>78.3</td>\n",
              "      <td>90.4</td>\n",
              "      <td>0.0</td>\n",
              "      <td>0.0</td>\n",
              "      <td>0.0</td>\n",
              "      <td>0.0</td>\n",
              "      <td>408.7</td>\n",
              "    </tr>\n",
              "    <tr>\n",
              "      <th>1</th>\n",
              "      <td>965</td>\n",
              "      <td>1256</td>\n",
              "      <td>create_order</td>\n",
              "      <td>00:02:21</td>\n",
              "      <td>2022-08-26</td>\n",
              "      <td>1</td>\n",
              "      <td>56, 76, 39</td>\n",
              "      <td>150.0</td>\n",
              "      <td>55.5</td>\n",
              "      <td>45.0</td>\n",
              "      <td>0.0</td>\n",
              "      <td>0.0</td>\n",
              "      <td>0.0</td>\n",
              "      <td>0.0</td>\n",
              "      <td>0.0</td>\n",
              "      <td>250.5</td>\n",
              "    </tr>\n",
              "    <tr>\n",
              "      <th>2</th>\n",
              "      <td>964</td>\n",
              "      <td>1257</td>\n",
              "      <td>create_order</td>\n",
              "      <td>00:02:27</td>\n",
              "      <td>2022-08-26</td>\n",
              "      <td>0</td>\n",
              "      <td>76, 34, 41, 38</td>\n",
              "      <td>55.5</td>\n",
              "      <td>98.0</td>\n",
              "      <td>80.4</td>\n",
              "      <td>76.3</td>\n",
              "      <td>0.0</td>\n",
              "      <td>0.0</td>\n",
              "      <td>0.0</td>\n",
              "      <td>0.0</td>\n",
              "      <td>310.2</td>\n",
              "    </tr>\n",
              "    <tr>\n",
              "      <th>3</th>\n",
              "      <td>967</td>\n",
              "      <td>1259</td>\n",
              "      <td>create_order</td>\n",
              "      <td>00:03:37</td>\n",
              "      <td>2022-08-26</td>\n",
              "      <td>1</td>\n",
              "      <td>20, 45, 67, 26</td>\n",
              "      <td>50.0</td>\n",
              "      <td>78.0</td>\n",
              "      <td>30.0</td>\n",
              "      <td>70.0</td>\n",
              "      <td>0.0</td>\n",
              "      <td>0.0</td>\n",
              "      <td>0.0</td>\n",
              "      <td>0.0</td>\n",
              "      <td>228.0</td>\n",
              "    </tr>\n",
              "    <tr>\n",
              "      <th>4</th>\n",
              "      <td>968</td>\n",
              "      <td>1261</td>\n",
              "      <td>create_order</td>\n",
              "      <td>00:05:35</td>\n",
              "      <td>2022-08-26</td>\n",
              "      <td>0</td>\n",
              "      <td>30, 35, 69, 6</td>\n",
              "      <td>140.0</td>\n",
              "      <td>90.4</td>\n",
              "      <td>175.3</td>\n",
              "      <td>25.0</td>\n",
              "      <td>0.0</td>\n",
              "      <td>0.0</td>\n",
              "      <td>0.0</td>\n",
              "      <td>0.0</td>\n",
              "      <td>430.7</td>\n",
              "    </tr>\n",
              "    <tr>\n",
              "      <th>...</th>\n",
              "      <td>...</td>\n",
              "      <td>...</td>\n",
              "      <td>...</td>\n",
              "      <td>...</td>\n",
              "      <td>...</td>\n",
              "      <td>...</td>\n",
              "      <td>...</td>\n",
              "      <td>...</td>\n",
              "      <td>...</td>\n",
              "      <td>...</td>\n",
              "      <td>...</td>\n",
              "      <td>...</td>\n",
              "      <td>...</td>\n",
              "      <td>...</td>\n",
              "      <td>...</td>\n",
              "      <td>...</td>\n",
              "    </tr>\n",
              "    <tr>\n",
              "      <th>3904</th>\n",
              "      <td>990</td>\n",
              "      <td>59422</td>\n",
              "      <td>create_order</td>\n",
              "      <td>23:13:03</td>\n",
              "      <td>2022-09-08</td>\n",
              "      <td>1</td>\n",
              "      <td>84, 8, 24</td>\n",
              "      <td>90.4</td>\n",
              "      <td>30.4</td>\n",
              "      <td>120.4</td>\n",
              "      <td>0.0</td>\n",
              "      <td>0.0</td>\n",
              "      <td>0.0</td>\n",
              "      <td>0.0</td>\n",
              "      <td>0.0</td>\n",
              "      <td>241.2</td>\n",
              "    </tr>\n",
              "    <tr>\n",
              "      <th>3905</th>\n",
              "      <td>1418</td>\n",
              "      <td>59439</td>\n",
              "      <td>create_order</td>\n",
              "      <td>23:18:05</td>\n",
              "      <td>2022-09-08</td>\n",
              "      <td>1</td>\n",
              "      <td>9, 25, 75, 30, 6</td>\n",
              "      <td>83.5</td>\n",
              "      <td>150.0</td>\n",
              "      <td>120.0</td>\n",
              "      <td>140.0</td>\n",
              "      <td>25.0</td>\n",
              "      <td>0.0</td>\n",
              "      <td>0.0</td>\n",
              "      <td>0.0</td>\n",
              "      <td>518.5</td>\n",
              "    </tr>\n",
              "    <tr>\n",
              "      <th>3906</th>\n",
              "      <td>1605</td>\n",
              "      <td>59464</td>\n",
              "      <td>create_order</td>\n",
              "      <td>23:22:27</td>\n",
              "      <td>2022-09-08</td>\n",
              "      <td>0</td>\n",
              "      <td>60, 41, 46</td>\n",
              "      <td>60.0</td>\n",
              "      <td>80.4</td>\n",
              "      <td>45.5</td>\n",
              "      <td>0.0</td>\n",
              "      <td>0.0</td>\n",
              "      <td>0.0</td>\n",
              "      <td>0.0</td>\n",
              "      <td>0.0</td>\n",
              "      <td>185.9</td>\n",
              "    </tr>\n",
              "    <tr>\n",
              "      <th>3907</th>\n",
              "      <td>1461</td>\n",
              "      <td>59487</td>\n",
              "      <td>create_order</td>\n",
              "      <td>23:29:06</td>\n",
              "      <td>2022-09-08</td>\n",
              "      <td>0</td>\n",
              "      <td>9, 62, 77</td>\n",
              "      <td>83.5</td>\n",
              "      <td>120.0</td>\n",
              "      <td>298.4</td>\n",
              "      <td>0.0</td>\n",
              "      <td>0.0</td>\n",
              "      <td>0.0</td>\n",
              "      <td>0.0</td>\n",
              "      <td>0.0</td>\n",
              "      <td>501.9</td>\n",
              "    </tr>\n",
              "    <tr>\n",
              "      <th>3908</th>\n",
              "      <td>1376</td>\n",
              "      <td>59533</td>\n",
              "      <td>create_order</td>\n",
              "      <td>23:41:24</td>\n",
              "      <td>2022-09-08</td>\n",
              "      <td>0</td>\n",
              "      <td>17, 85</td>\n",
              "      <td>190.0</td>\n",
              "      <td>200.3</td>\n",
              "      <td>0.0</td>\n",
              "      <td>0.0</td>\n",
              "      <td>0.0</td>\n",
              "      <td>0.0</td>\n",
              "      <td>0.0</td>\n",
              "      <td>0.0</td>\n",
              "      <td>390.3</td>\n",
              "    </tr>\n",
              "  </tbody>\n",
              "</table>\n",
              "<p>3909 rows × 16 columns</p>\n",
              "</div>"
            ],
            "text/plain": [
              "      user_id  order_id        action      time       date  group  \\\n",
              "0         964      1255  create_order  00:00:19 2022-08-26      0   \n",
              "1         965      1256  create_order  00:02:21 2022-08-26      1   \n",
              "2         964      1257  create_order  00:02:27 2022-08-26      0   \n",
              "3         967      1259  create_order  00:03:37 2022-08-26      1   \n",
              "4         968      1261  create_order  00:05:35 2022-08-26      0   \n",
              "...       ...       ...           ...       ...        ...    ...   \n",
              "3904      990     59422  create_order  23:13:03 2022-09-08      1   \n",
              "3905     1418     59439  create_order  23:18:05 2022-09-08      1   \n",
              "3906     1605     59464  create_order  23:22:27 2022-09-08      0   \n",
              "3907     1461     59487  create_order  23:29:06 2022-09-08      0   \n",
              "3908     1376     59533  create_order  23:41:24 2022-09-08      0   \n",
              "\n",
              "           product_ids     c0     c1     c2     c3    c4   c5   c6   c7  \\\n",
              "0       75, 22, 53, 84  120.0  120.0   78.3   90.4   0.0  0.0  0.0  0.0   \n",
              "1           56, 76, 39  150.0   55.5   45.0    0.0   0.0  0.0  0.0  0.0   \n",
              "2       76, 34, 41, 38   55.5   98.0   80.4   76.3   0.0  0.0  0.0  0.0   \n",
              "3       20, 45, 67, 26   50.0   78.0   30.0   70.0   0.0  0.0  0.0  0.0   \n",
              "4        30, 35, 69, 6  140.0   90.4  175.3   25.0   0.0  0.0  0.0  0.0   \n",
              "...                ...    ...    ...    ...    ...   ...  ...  ...  ...   \n",
              "3904         84, 8, 24   90.4   30.4  120.4    0.0   0.0  0.0  0.0  0.0   \n",
              "3905  9, 25, 75, 30, 6   83.5  150.0  120.0  140.0  25.0  0.0  0.0  0.0   \n",
              "3906        60, 41, 46   60.0   80.4   45.5    0.0   0.0  0.0  0.0  0.0   \n",
              "3907         9, 62, 77   83.5  120.0  298.4    0.0   0.0  0.0  0.0  0.0   \n",
              "3908            17, 85  190.0  200.3    0.0    0.0   0.0  0.0  0.0  0.0   \n",
              "\n",
              "      orded_price  \n",
              "0           408.7  \n",
              "1           250.5  \n",
              "2           310.2  \n",
              "3           228.0  \n",
              "4           430.7  \n",
              "...           ...  \n",
              "3904        241.2  \n",
              "3905        518.5  \n",
              "3906        185.9  \n",
              "3907        501.9  \n",
              "3908        390.3  \n",
              "\n",
              "[3909 rows x 16 columns]"
            ]
          },
          "execution_count": 50,
          "metadata": {},
          "output_type": "execute_result"
        }
      ],
      "source": [
        "user_orders"
      ]
    },
    {
      "cell_type": "code",
      "execution_count": null,
      "metadata": {
        "scrolled": true,
        "id": "hEp6VxyEJGnU",
        "outputId": "bfc7f75f-ee08-4420-9a78-2e31e3afe342"
      },
      "outputs": [
        {
          "data": {
            "text/plain": [
              "1527"
            ]
          },
          "execution_count": 26,
          "metadata": {},
          "output_type": "execute_result"
        }
      ],
      "source": [
        "control_orders = user_orders.query('group==0')\n",
        "user_orders.query('group==0').shape[0]"
      ]
    },
    {
      "cell_type": "code",
      "execution_count": null,
      "metadata": {
        "scrolled": true,
        "id": "PE7rkyfuJGnU",
        "outputId": "348eb40d-d40b-4a93-a73f-b3e23d042509"
      },
      "outputs": [
        {
          "data": {
            "text/plain": [
              "2382"
            ]
          },
          "execution_count": 27,
          "metadata": {},
          "output_type": "execute_result"
        }
      ],
      "source": [
        "test_orders = user_orders.query('group==1')\n",
        "user_orders.query('group==1').shape[0]"
      ]
    },
    {
      "cell_type": "code",
      "execution_count": null,
      "metadata": {
        "scrolled": true,
        "id": "QMldn4m2JGnU",
        "outputId": "0539338c-41ad-42e5-e36e-ecfb8be4694e"
      },
      "outputs": [
        {
          "data": {
            "text/html": [
              "<div>\n",
              "<style scoped>\n",
              "    .dataframe tbody tr th:only-of-type {\n",
              "        vertical-align: middle;\n",
              "    }\n",
              "\n",
              "    .dataframe tbody tr th {\n",
              "        vertical-align: top;\n",
              "    }\n",
              "\n",
              "    .dataframe thead th {\n",
              "        text-align: right;\n",
              "    }\n",
              "</style>\n",
              "<table border=\"1\" class=\"dataframe\">\n",
              "  <thead>\n",
              "    <tr style=\"text-align: right;\">\n",
              "      <th></th>\n",
              "      <th>W</th>\n",
              "      <th>pval</th>\n",
              "      <th>normal</th>\n",
              "    </tr>\n",
              "  </thead>\n",
              "  <tbody>\n",
              "    <tr>\n",
              "      <th>orded_price</th>\n",
              "      <td>0.917026</td>\n",
              "      <td>3.811184e-28</td>\n",
              "      <td>False</td>\n",
              "    </tr>\n",
              "  </tbody>\n",
              "</table>\n",
              "</div>"
            ],
            "text/plain": [
              "                    W          pval  normal\n",
              "orded_price  0.917026  3.811184e-28   False"
            ]
          },
          "execution_count": 28,
          "metadata": {},
          "output_type": "execute_result"
        }
      ],
      "source": [
        "pg.normality(control_orders['orded_price'])"
      ]
    },
    {
      "cell_type": "code",
      "execution_count": null,
      "metadata": {
        "scrolled": true,
        "id": "ncancmVkJGnU",
        "outputId": "8de6d289-9016-4ec1-e848-1db458e8b4b1"
      },
      "outputs": [
        {
          "data": {
            "text/html": [
              "<div>\n",
              "<style scoped>\n",
              "    .dataframe tbody tr th:only-of-type {\n",
              "        vertical-align: middle;\n",
              "    }\n",
              "\n",
              "    .dataframe tbody tr th {\n",
              "        vertical-align: top;\n",
              "    }\n",
              "\n",
              "    .dataframe thead th {\n",
              "        text-align: right;\n",
              "    }\n",
              "</style>\n",
              "<table border=\"1\" class=\"dataframe\">\n",
              "  <thead>\n",
              "    <tr style=\"text-align: right;\">\n",
              "      <th></th>\n",
              "      <th>W</th>\n",
              "      <th>pval</th>\n",
              "      <th>normal</th>\n",
              "    </tr>\n",
              "  </thead>\n",
              "  <tbody>\n",
              "    <tr>\n",
              "      <th>orded_price</th>\n",
              "      <td>0.900532</td>\n",
              "      <td>8.388620e-37</td>\n",
              "      <td>False</td>\n",
              "    </tr>\n",
              "  </tbody>\n",
              "</table>\n",
              "</div>"
            ],
            "text/plain": [
              "                    W          pval  normal\n",
              "orded_price  0.900532  8.388620e-37   False"
            ]
          },
          "execution_count": 29,
          "metadata": {},
          "output_type": "execute_result"
        }
      ],
      "source": [
        "pg.normality(test_orders['orded_price'])"
      ]
    },
    {
      "cell_type": "markdown",
      "metadata": {
        "id": "rHhQu5TcJGnU"
      },
      "source": [
        "Значение p-уровня значимости настолько низкие, что смысла проверять выборку на нормальность другими методами не вижу. T-тест можно провести и в случае ненормального распределения при достаточно большой выборке, но сначала посмотрим на характер распределения и наличие выбросов."
      ]
    },
    {
      "cell_type": "code",
      "execution_count": null,
      "metadata": {
        "id": "JSRN13jlJGnU",
        "outputId": "7065a9ad-9105-4caa-f9ed-3eaefd9b9ef1"
      },
      "outputs": [
        {
          "data": {
            "text/plain": [
              "Text(0.5, 1.0, 'Распределение суммы чека внутри групп')"
            ]
          },
          "execution_count": 30,
          "metadata": {},
          "output_type": "execute_result"
        },
        {
          "data": {
            "image/png": "[encoded data removed]",
            "text/plain": [
              "<Figure size 864x720 with 1 Axes>"
            ]
          },
          "metadata": {
            "needs_background": "light"
          },
          "output_type": "display_data"
        }
      ],
      "source": [
        "# Визуализируем разброс суммы заказов\n",
        "plt.rcParams['figure.figsize'] = [12, 10]\n",
        "sns.boxplot(data = user_orders, x='group', y='orded_price')\n",
        "plt.ylabel('Сумма заказа \\n', size=16)\n",
        "plt.xlabel('\\n Группа',       size=16)\n",
        "plt.title('Распределение суммы чека внутри групп',  size=20)"
      ]
    },
    {
      "cell_type": "markdown",
      "metadata": {
        "id": "AlKrvvZpJGnV"
      },
      "source": [
        "Распределение сумм заказов ненормальное, имеет большое количество выбросов. На графике видим, что квартили распределений значительно пересекаются. Будем использовать метод бутстрап."
      ]
    },
    {
      "cell_type": "code",
      "execution_count": null,
      "metadata": {
        "id": "1HAS72lfJGnV",
        "outputId": "3976c3d7-6dd2-4b3d-eb9d-f468c4ae672f"
      },
      "outputs": [
        {
          "name": "stdout",
          "output_type": "stream",
          "text": [
            "[-5.71 29.96]\n"
          ]
        }
      ],
      "source": [
        "Nboot = 10000\n",
        "x_p = user_orders.query('group==0')['orded_price'].to_numpy()\n",
        "y_p = user_orders.query('group==1')['orded_price'].to_numpy()\n",
        "ci, dist = pg.compute_bootci(\n",
        "    x_p,\n",
        "    y_p,\n",
        "    func=lambda x, y: np.mean(x) - np.mean(y),\n",
        "    confidence=0.95,\n",
        "    n_boot=Nboot,\n",
        "    return_dist=True\n",
        ")\n",
        "print(ci)"
      ]
    },
    {
      "cell_type": "markdown",
      "metadata": {
        "id": "FZ3s_rb3JGnV"
      },
      "source": [
        "#### Даже с помощью метода бутстрап не удалось получить статистически значимые различия между средними двух групп. Раздность средних проходит через 0."
      ]
    },
    {
      "cell_type": "markdown",
      "metadata": {
        "id": "quhVBGS_JGnZ"
      },
      "source": [
        "\n"
      ]
    },
    {
      "cell_type": "markdown",
      "metadata": {
        "id": "0v9LRN7bJGnZ"
      },
      "source": [
        "##  Оценим различия средней выручки на пользователя"
      ]
    },
    {
      "cell_type": "code",
      "execution_count": null,
      "metadata": {
        "id": "YRBLNu09JGnZ",
        "outputId": "6b561399-be8e-4e28-cb66-e17082044ffd"
      },
      "outputs": [
        {
          "data": {
            "text/html": [
              "<div>\n",
              "<style scoped>\n",
              "    .dataframe tbody tr th:only-of-type {\n",
              "        vertical-align: middle;\n",
              "    }\n",
              "\n",
              "    .dataframe tbody tr th {\n",
              "        vertical-align: top;\n",
              "    }\n",
              "\n",
              "    .dataframe thead th {\n",
              "        text-align: right;\n",
              "    }\n",
              "</style>\n",
              "<table border=\"1\" class=\"dataframe\">\n",
              "  <thead>\n",
              "    <tr style=\"text-align: right;\">\n",
              "      <th></th>\n",
              "      <th>group</th>\n",
              "      <th>user_id</th>\n",
              "      <th>user_rev</th>\n",
              "    </tr>\n",
              "  </thead>\n",
              "  <tbody>\n",
              "    <tr>\n",
              "      <th>0</th>\n",
              "      <td>0</td>\n",
              "      <td>964</td>\n",
              "      <td>718.9</td>\n",
              "    </tr>\n",
              "    <tr>\n",
              "      <th>1</th>\n",
              "      <td>0</td>\n",
              "      <td>968</td>\n",
              "      <td>1590.7</td>\n",
              "    </tr>\n",
              "    <tr>\n",
              "      <th>2</th>\n",
              "      <td>0</td>\n",
              "      <td>969</td>\n",
              "      <td>681.9</td>\n",
              "    </tr>\n",
              "    <tr>\n",
              "      <th>3</th>\n",
              "      <td>0</td>\n",
              "      <td>972</td>\n",
              "      <td>546.4</td>\n",
              "    </tr>\n",
              "    <tr>\n",
              "      <th>4</th>\n",
              "      <td>0</td>\n",
              "      <td>975</td>\n",
              "      <td>1432.9</td>\n",
              "    </tr>\n",
              "  </tbody>\n",
              "</table>\n",
              "</div>"
            ],
            "text/plain": [
              "   group  user_id  user_rev\n",
              "0      0      964     718.9\n",
              "1      0      968    1590.7\n",
              "2      0      969     681.9\n",
              "3      0      972     546.4\n",
              "4      0      975    1432.9"
            ]
          },
          "execution_count": 32,
          "metadata": {},
          "output_type": "execute_result"
        }
      ],
      "source": [
        "rev_per_user = user_orders.groupby(['group', 'user_id'], as_index=False)\\\n",
        "                           .agg({'orded_price':'sum'})\\\n",
        "                           .rename(columns={'orded_price': 'user_rev'})\n",
        "\n",
        "rev_per_user['user_rev'] = rev_per_user.user_rev.round(2)\n",
        "rev_per_user.head()"
      ]
    },
    {
      "cell_type": "code",
      "execution_count": null,
      "metadata": {
        "id": "h63vlJh2JGna",
        "outputId": "6f2075a0-3dcf-48be-fa4c-e480c5e9850d"
      },
      "outputs": [
        {
          "data": {
            "text/html": [
              "<div>\n",
              "<style scoped>\n",
              "    .dataframe tbody tr th:only-of-type {\n",
              "        vertical-align: middle;\n",
              "    }\n",
              "\n",
              "    .dataframe tbody tr th {\n",
              "        vertical-align: top;\n",
              "    }\n",
              "\n",
              "    .dataframe thead th {\n",
              "        text-align: right;\n",
              "    }\n",
              "</style>\n",
              "<table border=\"1\" class=\"dataframe\">\n",
              "  <thead>\n",
              "    <tr style=\"text-align: right;\">\n",
              "      <th></th>\n",
              "      <th>W</th>\n",
              "      <th>pval</th>\n",
              "      <th>normal</th>\n",
              "    </tr>\n",
              "  </thead>\n",
              "  <tbody>\n",
              "    <tr>\n",
              "      <th>user_rev</th>\n",
              "      <td>0.888535</td>\n",
              "      <td>8.713837e-19</td>\n",
              "      <td>False</td>\n",
              "    </tr>\n",
              "  </tbody>\n",
              "</table>\n",
              "</div>"
            ],
            "text/plain": [
              "                 W          pval  normal\n",
              "user_rev  0.888535  8.713837e-19   False"
            ]
          },
          "execution_count": 33,
          "metadata": {},
          "output_type": "execute_result"
        }
      ],
      "source": [
        "pg.normality(rev_per_user.query('group==0')['user_rev'])"
      ]
    },
    {
      "cell_type": "code",
      "execution_count": null,
      "metadata": {
        "scrolled": true,
        "id": "Tfoafu2_JGna",
        "outputId": "bfc3f153-5de0-4d7e-f417-a4533f8deebf"
      },
      "outputs": [
        {
          "data": {
            "text/plain": [
              "Text(0.5, 1.0, 'Распределение выручки с пользователя внутри групп')"
            ]
          },
          "execution_count": 34,
          "metadata": {},
          "output_type": "execute_result"
        },
        {
          "data": {
            "image/png": "[encoded data removed]",
            "text/plain": [
              "<Figure size 864x720 with 1 Axes>"
            ]
          },
          "metadata": {
            "needs_background": "light"
          },
          "output_type": "display_data"
        }
      ],
      "source": [
        "# Визуализируем разброс суммы заказов\n",
        "plt.rcParams['figure.figsize'] = [12, 10]\n",
        "sns.boxplot(data = rev_per_user, x='group', y='user_rev')\n",
        "plt.ylabel('Выручка с позьзователя \\n', size=16)\n",
        "plt.xlabel('\\n Группа',                 size=16)\n",
        "plt.title('Распределение выручки с пользователя внутри групп',  size=20)"
      ]
    },
    {
      "cell_type": "code",
      "execution_count": null,
      "metadata": {
        "id": "c5Me2D9nJGna"
      },
      "outputs": [],
      "source": [
        "Nboot = 10000\n",
        "x = rev_per_user.query('group==0')['user_rev'].to_numpy()\n",
        "y = rev_per_user.query('group==1')['user_rev'].to_numpy()"
      ]
    },
    {
      "cell_type": "code",
      "execution_count": null,
      "metadata": {
        "id": "qvPSBRuIJGna",
        "outputId": "22aa0d7d-8f67-4987-a3d4-07aede661587"
      },
      "outputs": [
        {
          "name": "stdout",
          "output_type": "stream",
          "text": [
            "[1071.73 1211.16]\n"
          ]
        }
      ],
      "source": [
        "ci, dist = pg.compute_bootci(\n",
        "    x,\n",
        "    func='mean',\n",
        "    confidence=0.95,\n",
        "    n_boot=Nboot,\n",
        "    paired=False,\n",
        "    return_dist=True\n",
        ")\n",
        "print(ci)"
      ]
    },
    {
      "cell_type": "code",
      "execution_count": null,
      "metadata": {
        "id": "vnwzmFJQJGna",
        "outputId": "47f78719-4fd5-461e-cd41-7f50329af89d"
      },
      "outputs": [
        {
          "name": "stdout",
          "output_type": "stream",
          "text": [
            "[1672.59 1835.93]\n"
          ]
        }
      ],
      "source": [
        "ci, dist = pg.compute_bootci(\n",
        "    y,\n",
        "    func='mean',\n",
        "    confidence=0.95,\n",
        "    n_boot=Nboot,\n",
        "    paired=False,\n",
        "    return_dist=True\n",
        ")\n",
        "print(ci)"
      ]
    },
    {
      "cell_type": "code",
      "execution_count": null,
      "metadata": {
        "id": "QF5HWvMeJGnb",
        "outputId": "678f607e-2854-434a-9b1e-9371acbdbfef"
      },
      "outputs": [
        {
          "name": "stdout",
          "output_type": "stream",
          "text": [
            "[-721.04 -512.22]\n"
          ]
        }
      ],
      "source": [
        "ci, dist = pg.compute_bootci(\n",
        "    x,\n",
        "    y,\n",
        "    func=lambda x, y: np.mean(x) - np.mean(y),\n",
        "    confidence=0.95,\n",
        "    n_boot=Nboot,\n",
        "    return_dist=True\n",
        ")\n",
        "print(ci)"
      ]
    },
    {
      "cell_type": "code",
      "execution_count": null,
      "metadata": {
        "scrolled": true,
        "id": "p5px3TP8JGnb",
        "outputId": "2a18ae11-8c0f-4cea-eccd-63f393a305b1"
      },
      "outputs": [
        {
          "data": {
            "text/plain": [
              "<matplotlib.axes._subplots.AxesSubplot at 0x7f5ca6d79ba8>"
            ]
          },
          "execution_count": 39,
          "metadata": {},
          "output_type": "execute_result"
        },
        {
          "data": {
            "image/png": "[encoded data removed]",
            "text/plain": [
              "<Figure size 864x720 with 1 Axes>"
            ]
          },
          "metadata": {
            "needs_background": "light"
          },
          "output_type": "display_data"
        }
      ],
      "source": [
        "sns.histplot(dist)"
      ]
    },
    {
      "cell_type": "markdown",
      "metadata": {
        "id": "kDxqbJbIJGnb"
      },
      "source": [
        "#### Можем заключить, что средняя выручка на одного пользователя статистически значимо отличается в тестовой и контрольной группах, доверительные интервалы не пересекаются. В тестовой группе в среднем выручка на пользователя больше. При том, что мы не увидели значительных различий между суммами чеков в группах, похоже, что пользователи в тестовой группе делают заказы чаще."
      ]
    },
    {
      "cell_type": "markdown",
      "metadata": {
        "id": "15wk6gz2JGnb"
      },
      "source": [
        "\n"
      ]
    },
    {
      "cell_type": "markdown",
      "metadata": {
        "id": "G481G71dJGnb"
      },
      "source": [
        "##  Оценим среднее количество заказов пользователей"
      ]
    },
    {
      "cell_type": "code",
      "execution_count": null,
      "metadata": {
        "id": "oK2qU1CsJGnb"
      },
      "outputs": [],
      "source": [
        "orders_num = user_orders.groupby(['group', 'user_id'], as_index=False)\\\n",
        "                         .agg({'orded_price':'count'})\\\n",
        "                         .rename(columns={'orded_price': 'orders_num'})"
      ]
    },
    {
      "cell_type": "code",
      "execution_count": null,
      "metadata": {
        "scrolled": false,
        "id": "nPwK6ok2JGnc",
        "outputId": "3d036284-2c1e-4728-e292-f090a4903b12"
      },
      "outputs": [
        {
          "data": {
            "text/plain": [
              "<seaborn.axisgrid.FacetGrid at 0x7f5ca6c92f28>"
            ]
          },
          "execution_count": 41,
          "metadata": {},
          "output_type": "execute_result"
        },
        {
          "data": {
            "image/png": "[encoded data removed]",
            "text/plain": [
              "<Figure size 402.375x360 with 1 Axes>"
            ]
          },
          "metadata": {
            "needs_background": "light"
          },
          "output_type": "display_data"
        }
      ],
      "source": [
        "sns.displot(data=orders_num, x='orders_num', hue='group')"
      ]
    },
    {
      "cell_type": "code",
      "execution_count": null,
      "metadata": {
        "id": "48PBAFZjJGnc"
      },
      "outputs": [],
      "source": [
        "Nboot = 10000\n",
        "x2 = orders_num.query('group==0')['orders_num'].to_numpy()\n",
        "y2 = orders_num.query('group==1')['orders_num'].to_numpy()"
      ]
    },
    {
      "cell_type": "code",
      "execution_count": null,
      "metadata": {
        "id": "iCil0iTfJGnc",
        "outputId": "6e63da7c-1037-48fe-c499-4bb08cf35ff4"
      },
      "outputs": [
        {
          "name": "stdout",
          "output_type": "stream",
          "text": [
            "[2.82 3.15]\n"
          ]
        }
      ],
      "source": [
        "ci, dist = pg.compute_bootci(\n",
        "    x2,\n",
        "    func='mean',\n",
        "    confidence=0.95,\n",
        "    n_boot=Nboot,\n",
        "    paired=False,\n",
        "    return_dist=True\n",
        ")\n",
        "print(ci)"
      ]
    },
    {
      "cell_type": "code",
      "execution_count": null,
      "metadata": {
        "id": "G0KUxcz2JGnc",
        "outputId": "a6a0aead-dae1-4c9c-c358-d84121c9e412"
      },
      "outputs": [
        {
          "name": "stdout",
          "output_type": "stream",
          "text": [
            "[4.57 4.94]\n"
          ]
        }
      ],
      "source": [
        "ci, dist = pg.compute_bootci(\n",
        "    y2,\n",
        "    func='mean',\n",
        "    confidence=0.95,\n",
        "    n_boot=Nboot,\n",
        "    paired=False,\n",
        "    return_dist=True\n",
        ")\n",
        "print(ci)"
      ]
    },
    {
      "cell_type": "code",
      "execution_count": null,
      "metadata": {
        "id": "-OU3Co_pJGnc",
        "outputId": "a5173572-7d0c-40f2-eaec-fdfc57bcefb2"
      },
      "outputs": [
        {
          "name": "stdout",
          "output_type": "stream",
          "text": [
            "[1.53 2.01]\n"
          ]
        }
      ],
      "source": [
        "ci, dist = pg.compute_bootci(\n",
        "    x2,\n",
        "    y2,\n",
        "    func=lambda x, y: np.mean(y) - np.mean(x),\n",
        "    confidence=0.95,\n",
        "    n_boot=Nboot,\n",
        "    return_dist=True\n",
        ")\n",
        "print(ci)"
      ]
    },
    {
      "cell_type": "code",
      "execution_count": null,
      "metadata": {
        "scrolled": true,
        "id": "sD2e-B80JGnc",
        "outputId": "137e8179-4e07-4bba-b54c-fdda2270ed28"
      },
      "outputs": [
        {
          "data": {
            "text/plain": [
              "<matplotlib.axes._subplots.AxesSubplot at 0x7f5ca6954860>"
            ]
          },
          "execution_count": 46,
          "metadata": {},
          "output_type": "execute_result"
        },
        {
          "data": {
            "image/png": "[encoded data removed]",
            "text/plain": [
              "<Figure size 864x720 with 1 Axes>"
            ]
          },
          "metadata": {
            "needs_background": "light"
          },
          "output_type": "display_data"
        }
      ],
      "source": [
        "sns.histplot(dist)"
      ]
    },
    {
      "cell_type": "markdown",
      "metadata": {
        "id": "nygx97biJGnd"
      },
      "source": [
        "#### Видим статистически значимое различие средних значений числа покупок. Доверительные интервалы не пересекаются. Можем сделать вывод, что в условиях тестовой группы пользователи будут делать покупки чаще."
      ]
    },
    {
      "cell_type": "markdown",
      "metadata": {
        "id": "51lkk1yeJGnd"
      },
      "source": [
        ""
      ]
    },
    {
      "cell_type": "markdown",
      "metadata": {
        "id": "08eP5c0vJGnd"
      },
      "source": [
        "## Узнаем, различается ли количество отменённых заказов"
      ]
    },
    {
      "cell_type": "code",
      "execution_count": null,
      "metadata": {
        "id": "uUF8_ZxmJGnd",
        "outputId": "b31a83fd-afe3-40cf-f057-27eafac93cf9"
      },
      "outputs": [
        {
          "data": {
            "text/html": [
              "<div>\n",
              "<style scoped>\n",
              "    .dataframe tbody tr th:only-of-type {\n",
              "        vertical-align: middle;\n",
              "    }\n",
              "\n",
              "    .dataframe tbody tr th {\n",
              "        vertical-align: top;\n",
              "    }\n",
              "\n",
              "    .dataframe thead th {\n",
              "        text-align: right;\n",
              "    }\n",
              "</style>\n",
              "<table border=\"1\" class=\"dataframe\">\n",
              "  <thead>\n",
              "    <tr style=\"text-align: right;\">\n",
              "      <th></th>\n",
              "      <th>group</th>\n",
              "      <th>order_num</th>\n",
              "    </tr>\n",
              "  </thead>\n",
              "  <tbody>\n",
              "    <tr>\n",
              "      <th>0</th>\n",
              "      <td>0</td>\n",
              "      <td>1527</td>\n",
              "    </tr>\n",
              "    <tr>\n",
              "      <th>1</th>\n",
              "      <td>1</td>\n",
              "      <td>2382</td>\n",
              "    </tr>\n",
              "  </tbody>\n",
              "</table>\n",
              "</div>"
            ],
            "text/plain": [
              "   group  order_num\n",
              "0      0       1527\n",
              "1      1       2382"
            ]
          },
          "execution_count": 47,
          "metadata": {},
          "output_type": "execute_result"
        }
      ],
      "source": [
        "user_orders.groupby(['group'], as_index=False)\\\n",
        "                                             .agg({'action':'count'})\\\n",
        "                                             .rename(columns={'action': 'order_num'})"
      ]
    },
    {
      "cell_type": "code",
      "execution_count": null,
      "metadata": {
        "id": "WGMEXSLIJGnd",
        "outputId": "f70ca1f0-e17d-44ee-d6b9-3e4697691e10"
      },
      "outputs": [
        {
          "data": {
            "text/html": [
              "<div>\n",
              "<style scoped>\n",
              "    .dataframe tbody tr th:only-of-type {\n",
              "        vertical-align: middle;\n",
              "    }\n",
              "\n",
              "    .dataframe tbody tr th {\n",
              "        vertical-align: top;\n",
              "    }\n",
              "\n",
              "    .dataframe thead th {\n",
              "        text-align: right;\n",
              "    }\n",
              "</style>\n",
              "<table border=\"1\" class=\"dataframe\">\n",
              "  <thead>\n",
              "    <tr style=\"text-align: right;\">\n",
              "      <th></th>\n",
              "      <th>group</th>\n",
              "      <th>cansel_num</th>\n",
              "    </tr>\n",
              "  </thead>\n",
              "  <tbody>\n",
              "    <tr>\n",
              "      <th>0</th>\n",
              "      <td>0</td>\n",
              "      <td>82</td>\n",
              "    </tr>\n",
              "    <tr>\n",
              "      <th>1</th>\n",
              "      <td>1</td>\n",
              "      <td>132</td>\n",
              "    </tr>\n",
              "  </tbody>\n",
              "</table>\n",
              "</div>"
            ],
            "text/plain": [
              "   group  cansel_num\n",
              "0      0          82\n",
              "1      1         132"
            ]
          },
          "execution_count": 48,
          "metadata": {},
          "output_type": "execute_result"
        }
      ],
      "source": [
        "users_data.query('action == \"cancel_order\"').groupby(['group'], as_index=False)\\\n",
        "                                             .agg({'action':'count'})\\\n",
        "                                             .rename(columns={'action': 'cansel_num'})"
      ]
    },
    {
      "cell_type": "markdown",
      "metadata": {
        "id": "wrC6M35UJGne"
      },
      "source": [
        "Посколько переменные категориальные (заказ был отменён/заказ не был отменён) будем использовать тест хи-квадрат"
      ]
    },
    {
      "cell_type": "markdown",
      "metadata": {
        "id": "r1zw9h0uJGne"
      },
      "source": [
        "Нулевая гипотиза: количество отменённых заказов в тестовой и контрольной группах не различаются\n",
        "Альтернативная:   количество отменённых заказов в тестовой и контрольной группах различаются"
      ]
    },
    {
      "cell_type": "code",
      "execution_count": null,
      "metadata": {
        "id": "Qav5PfWUJGne",
        "outputId": "f973bdc9-5d98-4866-966b-cfe1f0546ed0"
      },
      "outputs": [
        {
          "data": {
            "text/plain": [
              "(0.021274207290295187,\n",
              " 0.8840344321879333,\n",
              " 1,\n",
              " array([[1525.48653893,   83.51346107],\n",
              "        [2383.51346107,  130.48653893]]))"
            ]
          },
          "execution_count": 49,
          "metadata": {},
          "output_type": "execute_result"
        }
      ],
      "source": [
        "from scipy.stats import chi2_contingency\n",
        "obs = np.array([[1527, 82], [2382, 132]])\n",
        "\n",
        "chi2_contingency(obs)"
      ]
    },
    {
      "cell_type": "markdown",
      "metadata": {
        "id": "UbRcSmpAJGne"
      },
      "source": [
        "#### p-уровень значимости > 0.05,  поэтому у нас недостаточно оснований отклонить нулевую гипотезу. Т.е. Мы не можем сказать, что есть различие в количестве отмен в тестовой и контрольных группах."
      ]
    },
    {
      "cell_type": "markdown",
      "metadata": {
        "id": "1HmPSDq1JGne"
      },
      "source": [
        "# Вывод:"
      ]
    },
    {
      "cell_type": "markdown",
      "metadata": {
        "id": "ttLJGz_-JGne"
      },
      "source": [
        "##  Анализ результатов тестирования новой системы рекомендации товаров показал, что в тестовой группе пользователи стали чаще делать заказы, средняя выручка на пользователя, таким образом увеличилась. Новая система рекомендаций не повлияла на средний чек и количество отменённых заказов.\n",
        "\n",
        "# Рекумендую ввести новую систему рекомендаций."
      ]
    }
  ],
  "metadata": {
    "kernelspec": {
      "display_name": "Python 3",
      "language": "python",
      "name": "python3"
    },
    "language_info": {
      "codemirror_mode": {
        "name": "ipython",
        "version": 3
      },
      "file_extension": ".py",
      "mimetype": "text/x-python",
      "name": "python",
      "nbconvert_exporter": "python",
      "pygments_lexer": "ipython3",
      "version": "3.7.3"
    },
    "colab": {
      "provenance": []
    }
  },
  "nbformat": 4,
  "nbformat_minor": 0
}
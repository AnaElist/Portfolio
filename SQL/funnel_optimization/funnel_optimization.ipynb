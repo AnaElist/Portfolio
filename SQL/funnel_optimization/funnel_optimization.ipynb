{
  "cells": [
    {
      "cell_type": "markdown",
      "metadata": {
        "id": "Mp-iDLwb2zFY"
      },
      "source": [
        "## Оптимизация воронки прождаж"
      ]
    },
    {
      "cell_type": "markdown",
      "metadata": {
        "id": "4YtX04DO2zFc"
      },
      "source": [
        "#### Задача:\n",
        "\n",
        "Необходимо в одном запросе выгрузить следующую информацию о группах пользователей:\n",
        "- ARPU;\n",
        "- ARPAU;\n",
        "- CR в покупку;\n",
        "- СR активного пользователя в покупку;\n",
        "- CR пользователя из активности по математике (subject = ’math’) в покупку курса по математике.\n",
        "\n",
        "ARPU считается относительно всех пользователей, попавших в группы\n",
        "\n",
        "Активным считается пользователь, за все время решивший больше 10 задач правильно в любых дисциплинах.\n",
        "\n",
        "Активным по математике считается пользователь, за все время решивший 2 или больше задач правильно по математике."
      ]
    },
    {
      "cell_type": "raw",
      "metadata": {
        "id": "JQBE7nFH2zFc"
      },
      "source": [
        "SELECT\n",
        "    studs.test_grp AS Group,\n",
        "    COUNT(DISTINCT studs.st_id) AS Group_size,\n",
        "    SUM(checks.money) AS Common_rev,\n",
        "    ROUND(SUM(checks.money)/COUNT(DISTINCT studs.st_id), 1) AS ARPU,  --  Считаю относительно всех пользователей, попавших в группы\n",
        "    ROUND(SUM(CASE WHEN answ.right_answers > 10 THEN checks.money END)/COUNT(DISTINCT (CASE WHEN answ.right_answers > 10 THEN answ.st_id END)), 1) AS ARPAU,\n",
        "    ROUND(100*COUNT(DISTINCT checks.st_id)/COUNT(DISTINCT studs.st_id), 1)  AS CR,    -- CR выражаем в процентах\n",
        "    ROUND(100*COUNT(DISTINCT (CASE WHEN answ.right_answers >= 10 THEN checks.st_id END))/COUNT(DISTINCT (CASE WHEN answ.right_answers >= 10  THEN answ.st_id END)), 1)  AS CR_active,\n",
        "    ROUND(100*COUNT(DISTINCT (CASE WHEN checks.subject == 'Math' AND answ.right_math >= 2 THEN checks.st_id END)) /COUNT(DISTINCT (CASE WHEN answ.right_math >= 2  THEN answ.st_id END)), 1) AS CR_active_math\n",
        "FROM\n",
        "    (-- посчитаем верные ответы учеников (в т.ч. верные ответы по матиматике)\n",
        "    SELECT st_id,\n",
        "        SUM(correct) AS right_answers,\n",
        "        SUM(CASE WHEN subject == 'Math'  THEN 1 ELSE 0 END) AS right_math\n",
        "        FROM default.peas\n",
        "    GROUP BY st_id ) AS answ\n",
        "    -- чтобы ничего не потерять делаем FULL JOIN с другими таблицами\n",
        "FULL JOIN default.studs AS studs\n",
        "ON studs.st_id = answ.st_id\n",
        "FULL JOIN  default.final_project_check AS checks\n",
        "ON studs.st_id = checks.st_id\n",
        "GROUP BY studs.test_grp"
      ]
    },
    {
      "cell_type": "code",
      "execution_count": null,
      "metadata": {
        "id": "5OmZHt7e2zFc",
        "outputId": "bf1ae452-29ee-495a-a488-b2e161ed2f1b"
      },
      "outputs": [
        {
          "data": {
            "text/html": [
              "<div>\n",
              "<style scoped>\n",
              "    .dataframe tbody tr th:only-of-type {\n",
              "        vertical-align: middle;\n",
              "    }\n",
              "\n",
              "    .dataframe tbody tr th {\n",
              "        vertical-align: top;\n",
              "    }\n",
              "\n",
              "    .dataframe thead th {\n",
              "        text-align: right;\n",
              "    }\n",
              "</style>\n",
              "<table border=\"1\" class=\"dataframe\">\n",
              "  <thead>\n",
              "    <tr style=\"text-align: right;\">\n",
              "      <th></th>\n",
              "      <th>Group</th>\n",
              "      <th>Group_size</th>\n",
              "      <th>Common_rev</th>\n",
              "      <th>ARPU</th>\n",
              "      <th>ARPAU</th>\n",
              "      <th>CR</th>\n",
              "      <th>CR_active</th>\n",
              "      <th>CR_active_math</th>\n",
              "    </tr>\n",
              "  </thead>\n",
              "  <tbody>\n",
              "    <tr>\n",
              "      <th>0</th>\n",
              "      <td>control</td>\n",
              "      <td>305</td>\n",
              "      <td>1385000</td>\n",
              "      <td>4541.0</td>\n",
              "      <td>10393.7</td>\n",
              "      <td>5.2</td>\n",
              "      <td>11.4</td>\n",
              "      <td>6.0</td>\n",
              "    </tr>\n",
              "    <tr>\n",
              "      <th>1</th>\n",
              "      <td>pilot</td>\n",
              "      <td>295</td>\n",
              "      <td>3395000</td>\n",
              "      <td>11508.5</td>\n",
              "      <td>29739.6</td>\n",
              "      <td>11.2</td>\n",
              "      <td>25.7</td>\n",
              "      <td>9.1</td>\n",
              "    </tr>\n",
              "  </tbody>\n",
              "</table>\n",
              "</div>"
            ],
            "text/plain": [
              "     Group  Group_size  Common_rev     ARPU    ARPAU    CR  CR_active  \\\n",
              "0  control         305     1385000   4541.0  10393.7   5.2       11.4   \n",
              "1    pilot         295     3395000  11508.5  29739.6  11.2       25.7   \n",
              "\n",
              "   CR_active_math  \n",
              "0             6.0  \n",
              "1             9.1  "
            ]
          },
          "execution_count": 67,
          "metadata": {},
          "output_type": "execute_result"
        }
      ],
      "source": [
        "query = \"\"\"\n",
        "SELECT\n",
        "    studs.test_grp AS Group,\n",
        "    COUNT(DISTINCT studs.st_id) AS Group_size,\n",
        "    SUM(checks.money) AS Common_rev,\n",
        "    ROUND(SUM(checks.money)/COUNT(DISTINCT studs.st_id), 1) AS ARPU,  --  Считаю относительно всех пользователей, попавших в группы\n",
        "    ROUND(SUM(CASE WHEN answ.right_answers > 10 THEN checks.money END)/COUNT(DISTINCT (CASE WHEN answ.right_answers > 10 THEN answ.st_id END)), 1) AS ARPAU,\n",
        "    ROUND(100*COUNT(DISTINCT checks.st_id)/COUNT(DISTINCT studs.st_id), 1)  AS CR,    -- CR выражаем в процентах\n",
        "    ROUND(100*COUNT(DISTINCT (CASE WHEN answ.right_answers >= 10 THEN checks.st_id END))/COUNT(DISTINCT (CASE WHEN answ.right_answers >= 10  THEN answ.st_id END)), 1)  AS CR_active,\n",
        "    ROUND(100*COUNT(DISTINCT (CASE WHEN checks.subject == 'Math' AND answ.right_math >= 2 THEN checks.st_id END)) /COUNT(DISTINCT (CASE WHEN answ.right_math >= 2  THEN answ.st_id END)), 1) AS CR_active_math\n",
        "FROM\n",
        "    (-- посчитаем верные ответы учеников (в т.ч. верные ответы по матиматике)\n",
        "    SELECT st_id,\n",
        "        SUM(correct) AS right_answers,\n",
        "        SUM(CASE WHEN subject == 'Math'  THEN 1 ELSE 0 END) AS right_math\n",
        "        FROM default.peas\n",
        "    GROUP BY st_id ) AS answ\n",
        "    -- чтобы ничего не потерять делаем FULL JOIN с другими таблицами\n",
        "FULL JOIN default.studs AS studs\n",
        "ON studs.st_id = answ.st_id\n",
        "FULL JOIN  default.final_project_check AS checks\n",
        "ON studs.st_id = checks.st_id\n",
        "GROUP BY studs.test_grp\n",
        "\"\"\"\n",
        "AB_metrics = ph.read_clickhouse(query, connection=connection)\n",
        "AB_metrics"
      ]
    }
  ],
  "metadata": {
    "kernelspec": {
      "display_name": "Python 3",
      "language": "python",
      "name": "python3"
    },
    "language_info": {
      "codemirror_mode": {
        "name": "ipython",
        "version": 3
      },
      "file_extension": ".py",
      "mimetype": "text/x-python",
      "name": "python",
      "nbconvert_exporter": "python",
      "pygments_lexer": "ipython3",
      "version": "3.7.3"
    },
    "colab": {
      "provenance": []
    }
  },
  "nbformat": 4,
  "nbformat_minor": 0
}
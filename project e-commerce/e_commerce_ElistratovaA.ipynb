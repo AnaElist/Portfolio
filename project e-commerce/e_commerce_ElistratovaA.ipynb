{
  "cells": [
    {
      "cell_type": "markdown",
      "metadata": {
        "id": "xbGEP4qO5Wuo"
      },
      "source": [
        "# Проект e-commerce"
      ]
    },
    {
      "cell_type": "code",
      "execution_count": null,
      "metadata": {
        "id": "p5pDQ6JB5Wup"
      },
      "outputs": [],
      "source": [
        "import pandas as pd\n",
        "import numpy as np\n",
        "%matplotlib inline\n",
        "import matplotlib.pyplot as plt\n",
        "import seaborn as sns\n",
        "import plotly.express as px\n",
        "import datetime as dt"
      ]
    },
    {
      "cell_type": "markdown",
      "source": [
        "### Предобработка данных"
      ],
      "metadata": {
        "id": "xxsM9Wpi5abS"
      }
    },
    {
      "cell_type": "markdown",
      "metadata": {
        "id": "j6hLZcts5Wuq"
      },
      "source": [
        "Пред тем как отвечать на вопросы, ознакомимся с данными.\n",
        "Посмотрим на число столбцов, типы данных, наличие пропущенных значений, количество уникальных наблюдений в таблицах, проверим данные на присутствие дубликатов."
      ]
    },
    {
      "cell_type": "code",
      "execution_count": null,
      "metadata": {
        "scrolled": false,
        "id": "7zLlEUw_5Wuq",
        "outputId": "dc5f75bc-b3a3-4c92-fab7-984be8b6e486"
      },
      "outputs": [
        {
          "data": {
            "text/html": [
              "<div>\n",
              "<style scoped>\n",
              "    .dataframe tbody tr th:only-of-type {\n",
              "        vertical-align: middle;\n",
              "    }\n",
              "\n",
              "    .dataframe tbody tr th {\n",
              "        vertical-align: top;\n",
              "    }\n",
              "\n",
              "    .dataframe thead th {\n",
              "        text-align: right;\n",
              "    }\n",
              "</style>\n",
              "<table border=\"1\" class=\"dataframe\">\n",
              "  <thead>\n",
              "    <tr style=\"text-align: right;\">\n",
              "      <th></th>\n",
              "      <th>customer_id</th>\n",
              "      <th>customer_unique_id</th>\n",
              "      <th>customer_zip_code_prefix</th>\n",
              "      <th>customer_city</th>\n",
              "      <th>customer_state</th>\n",
              "    </tr>\n",
              "  </thead>\n",
              "  <tbody>\n",
              "    <tr>\n",
              "      <th>0</th>\n",
              "      <td>06b8999e2fba1a1fbc88172c00ba8bc7</td>\n",
              "      <td>861eff4711a542e4b93843c6dd7febb0</td>\n",
              "      <td>14409</td>\n",
              "      <td>franca</td>\n",
              "      <td>SP</td>\n",
              "    </tr>\n",
              "    <tr>\n",
              "      <th>1</th>\n",
              "      <td>18955e83d337fd6b2def6b18a428ac77</td>\n",
              "      <td>290c77bc529b7ac935b93aa66c333dc3</td>\n",
              "      <td>9790</td>\n",
              "      <td>sao bernardo do campo</td>\n",
              "      <td>SP</td>\n",
              "    </tr>\n",
              "    <tr>\n",
              "      <th>2</th>\n",
              "      <td>4e7b3e00288586ebd08712fdd0374a03</td>\n",
              "      <td>060e732b5b29e8181a18229c7b0b2b5e</td>\n",
              "      <td>1151</td>\n",
              "      <td>sao paulo</td>\n",
              "      <td>SP</td>\n",
              "    </tr>\n",
              "  </tbody>\n",
              "</table>\n",
              "</div>"
            ],
            "text/plain": [
              "                        customer_id                customer_unique_id  \\\n",
              "0  06b8999e2fba1a1fbc88172c00ba8bc7  861eff4711a542e4b93843c6dd7febb0   \n",
              "1  18955e83d337fd6b2def6b18a428ac77  290c77bc529b7ac935b93aa66c333dc3   \n",
              "2  4e7b3e00288586ebd08712fdd0374a03  060e732b5b29e8181a18229c7b0b2b5e   \n",
              "\n",
              "   customer_zip_code_prefix          customer_city customer_state  \n",
              "0                     14409                 franca             SP  \n",
              "1                      9790  sao bernardo do campo             SP  \n",
              "2                      1151              sao paulo             SP  "
            ]
          },
          "execution_count": 2,
          "metadata": {},
          "output_type": "execute_result"
        }
      ],
      "source": [
        "customers = pd.read_csv(\"olist_customers_dataset.csv\") #  —  таблица с уникальными идентификаторами пользователей\n",
        "customers.head(3)"
      ]
    },
    {
      "cell_type": "code",
      "execution_count": null,
      "metadata": {
        "id": "WbKT7Duk5Wur",
        "outputId": "0d0026fd-b46e-41d0-8002-4ce19966592b"
      },
      "outputs": [
        {
          "data": {
            "text/plain": [
              "customer_id                 object\n",
              "customer_unique_id          object\n",
              "customer_zip_code_prefix     int64\n",
              "customer_city               object\n",
              "customer_state              object\n",
              "dtype: object"
            ]
          },
          "execution_count": 3,
          "metadata": {},
          "output_type": "execute_result"
        }
      ],
      "source": [
        "customers.dtypes"
      ]
    },
    {
      "cell_type": "code",
      "execution_count": null,
      "metadata": {
        "scrolled": true,
        "id": "0qNXWktY5Wur",
        "outputId": "15576a28-00f0-400f-fd7d-eab852d3eef1"
      },
      "outputs": [
        {
          "data": {
            "text/plain": [
              "customer_id                 0\n",
              "customer_unique_id          0\n",
              "customer_zip_code_prefix    0\n",
              "customer_city               0\n",
              "customer_state              0\n",
              "dtype: int64"
            ]
          },
          "execution_count": 4,
          "metadata": {},
          "output_type": "execute_result"
        }
      ],
      "source": [
        "customers.isna().sum()"
      ]
    },
    {
      "cell_type": "code",
      "execution_count": null,
      "metadata": {
        "scrolled": true,
        "id": "e05vIdkn5Wus",
        "outputId": "d807cb0e-e4d9-42d4-9e22-1b03ee6eb5ee"
      },
      "outputs": [
        {
          "data": {
            "text/plain": [
              "(99441, 5)"
            ]
          },
          "execution_count": 5,
          "metadata": {},
          "output_type": "execute_result"
        }
      ],
      "source": [
        "customers.shape"
      ]
    },
    {
      "cell_type": "code",
      "execution_count": null,
      "metadata": {
        "id": "7XvV499q5Wus",
        "outputId": "ea014597-a49e-4876-da9c-37ad47a284c1"
      },
      "outputs": [
        {
          "data": {
            "text/plain": [
              "0"
            ]
          },
          "execution_count": 6,
          "metadata": {},
          "output_type": "execute_result"
        }
      ],
      "source": [
        "customers.duplicated().sum()"
      ]
    },
    {
      "cell_type": "code",
      "execution_count": null,
      "metadata": {
        "scrolled": false,
        "id": "-W2OenMJ5Wus",
        "outputId": "c48dd70f-b66f-439d-b844-f46792475d75"
      },
      "outputs": [
        {
          "data": {
            "text/plain": [
              "customer_id                 99441\n",
              "customer_unique_id          96096\n",
              "customer_zip_code_prefix    14994\n",
              "customer_city                4119\n",
              "customer_state                 27\n",
              "dtype: int64"
            ]
          },
          "execution_count": 7,
          "metadata": {},
          "output_type": "execute_result"
        }
      ],
      "source": [
        "# Узнаем количество уникальных заказов и количество уникальных покупателей\n",
        "customers.nunique()"
      ]
    },
    {
      "cell_type": "markdown",
      "metadata": {
        "id": "QVA1uecs5Wut"
      },
      "source": [
        "<!--  -->"
      ]
    },
    {
      "cell_type": "code",
      "execution_count": null,
      "metadata": {
        "scrolled": false,
        "id": "2Ej_rGed5Wut",
        "outputId": "5f83c8ff-fbc1-4a8e-8da9-bffca53ed546"
      },
      "outputs": [
        {
          "data": {
            "text/html": [
              "<div>\n",
              "<style scoped>\n",
              "    .dataframe tbody tr th:only-of-type {\n",
              "        vertical-align: middle;\n",
              "    }\n",
              "\n",
              "    .dataframe tbody tr th {\n",
              "        vertical-align: top;\n",
              "    }\n",
              "\n",
              "    .dataframe thead th {\n",
              "        text-align: right;\n",
              "    }\n",
              "</style>\n",
              "<table border=\"1\" class=\"dataframe\">\n",
              "  <thead>\n",
              "    <tr style=\"text-align: right;\">\n",
              "      <th></th>\n",
              "      <th>order_id</th>\n",
              "      <th>customer_id</th>\n",
              "      <th>order_status</th>\n",
              "      <th>order_purchase_timestamp</th>\n",
              "      <th>order_approved_at</th>\n",
              "      <th>order_delivered_carrier_date</th>\n",
              "      <th>order_delivered_customer_date</th>\n",
              "      <th>order_estimated_delivery_date</th>\n",
              "    </tr>\n",
              "  </thead>\n",
              "  <tbody>\n",
              "    <tr>\n",
              "      <th>0</th>\n",
              "      <td>e481f51cbdc54678b7cc49136f2d6af7</td>\n",
              "      <td>9ef432eb6251297304e76186b10a928d</td>\n",
              "      <td>delivered</td>\n",
              "      <td>2017-10-02 10:56:33</td>\n",
              "      <td>2017-10-02 11:07:15</td>\n",
              "      <td>2017-10-04 19:55:00</td>\n",
              "      <td>2017-10-10 21:25:13</td>\n",
              "      <td>2017-10-18 00:00:00</td>\n",
              "    </tr>\n",
              "    <tr>\n",
              "      <th>1</th>\n",
              "      <td>53cdb2fc8bc7dce0b6741e2150273451</td>\n",
              "      <td>b0830fb4747a6c6d20dea0b8c802d7ef</td>\n",
              "      <td>delivered</td>\n",
              "      <td>2018-07-24 20:41:37</td>\n",
              "      <td>2018-07-26 03:24:27</td>\n",
              "      <td>2018-07-26 14:31:00</td>\n",
              "      <td>2018-08-07 15:27:45</td>\n",
              "      <td>2018-08-13 00:00:00</td>\n",
              "    </tr>\n",
              "    <tr>\n",
              "      <th>2</th>\n",
              "      <td>47770eb9100c2d0c44946d9cf07ec65d</td>\n",
              "      <td>41ce2a54c0b03bf3443c3d931a367089</td>\n",
              "      <td>delivered</td>\n",
              "      <td>2018-08-08 08:38:49</td>\n",
              "      <td>2018-08-08 08:55:23</td>\n",
              "      <td>2018-08-08 13:50:00</td>\n",
              "      <td>2018-08-17 18:06:29</td>\n",
              "      <td>2018-09-04 00:00:00</td>\n",
              "    </tr>\n",
              "  </tbody>\n",
              "</table>\n",
              "</div>"
            ],
            "text/plain": [
              "                           order_id                       customer_id  \\\n",
              "0  e481f51cbdc54678b7cc49136f2d6af7  9ef432eb6251297304e76186b10a928d   \n",
              "1  53cdb2fc8bc7dce0b6741e2150273451  b0830fb4747a6c6d20dea0b8c802d7ef   \n",
              "2  47770eb9100c2d0c44946d9cf07ec65d  41ce2a54c0b03bf3443c3d931a367089   \n",
              "\n",
              "  order_status order_purchase_timestamp    order_approved_at  \\\n",
              "0    delivered      2017-10-02 10:56:33  2017-10-02 11:07:15   \n",
              "1    delivered      2018-07-24 20:41:37  2018-07-26 03:24:27   \n",
              "2    delivered      2018-08-08 08:38:49  2018-08-08 08:55:23   \n",
              "\n",
              "  order_delivered_carrier_date order_delivered_customer_date  \\\n",
              "0          2017-10-04 19:55:00           2017-10-10 21:25:13   \n",
              "1          2018-07-26 14:31:00           2018-08-07 15:27:45   \n",
              "2          2018-08-08 13:50:00           2018-08-17 18:06:29   \n",
              "\n",
              "  order_estimated_delivery_date  \n",
              "0           2017-10-18 00:00:00  \n",
              "1           2018-08-13 00:00:00  \n",
              "2           2018-09-04 00:00:00  "
            ]
          },
          "execution_count": 8,
          "metadata": {},
          "output_type": "execute_result"
        }
      ],
      "source": [
        "orders = pd.read_csv('olist_orders_dataset.csv')  #  —  таблица заказов\n",
        "orders.head(3)                                    # Проверяем корректность выгрузки"
      ]
    },
    {
      "cell_type": "code",
      "execution_count": null,
      "metadata": {
        "scrolled": false,
        "id": "PL_dLb3o5Wut",
        "outputId": "d918a08a-ec93-451b-f681-192fd63f6553"
      },
      "outputs": [
        {
          "data": {
            "text/plain": [
              "order_id                         object\n",
              "customer_id                      object\n",
              "order_status                     object\n",
              "order_purchase_timestamp         object\n",
              "order_approved_at                object\n",
              "order_delivered_carrier_date     object\n",
              "order_delivered_customer_date    object\n",
              "order_estimated_delivery_date    object\n",
              "dtype: object"
            ]
          },
          "execution_count": 9,
          "metadata": {},
          "output_type": "execute_result"
        }
      ],
      "source": [
        "# Проверим типы данных в датафрейме\n",
        "orders.dtypes"
      ]
    },
    {
      "cell_type": "code",
      "execution_count": null,
      "metadata": {
        "id": "QoGoxQU75Wut"
      },
      "outputs": [],
      "source": [
        "# Поменяем формат столбцов с датами с object на datetime\n",
        "date_cols = orders.columns[3:8]\n",
        "orders[date_cols] = orders[date_cols].apply(pd.to_datetime, format='%Y-%m-%d %H:%M:%S', errors='coerce')"
      ]
    },
    {
      "cell_type": "code",
      "execution_count": null,
      "metadata": {
        "id": "KM5wvGmD5Wuu",
        "outputId": "d7e72f76-9bef-4419-ceb8-2daff3eed6f5"
      },
      "outputs": [
        {
          "data": {
            "text/plain": [
              "order_id                                 object\n",
              "customer_id                              object\n",
              "order_status                             object\n",
              "order_purchase_timestamp         datetime64[ns]\n",
              "order_approved_at                datetime64[ns]\n",
              "order_delivered_carrier_date     datetime64[ns]\n",
              "order_delivered_customer_date    datetime64[ns]\n",
              "order_estimated_delivery_date    datetime64[ns]\n",
              "dtype: object"
            ]
          },
          "execution_count": 11,
          "metadata": {},
          "output_type": "execute_result"
        }
      ],
      "source": [
        "# Удостоверимся в имзменении типа данных\n",
        "orders.dtypes"
      ]
    },
    {
      "cell_type": "code",
      "execution_count": null,
      "metadata": {
        "scrolled": false,
        "id": "Iotmbclx5Wuu",
        "outputId": "cf691d66-ea18-4170-c087-9b6130458a90"
      },
      "outputs": [
        {
          "data": {
            "text/plain": [
              "order_id                            0\n",
              "customer_id                         0\n",
              "order_status                        0\n",
              "order_purchase_timestamp            0\n",
              "order_approved_at                 160\n",
              "order_delivered_carrier_date     1783\n",
              "order_delivered_customer_date    2965\n",
              "order_estimated_delivery_date       0\n",
              "dtype: int64"
            ]
          },
          "execution_count": 12,
          "metadata": {},
          "output_type": "execute_result"
        }
      ],
      "source": [
        "# Проверим данные на наличие пропусков\n",
        "orders.isna().sum()"
      ]
    },
    {
      "cell_type": "markdown",
      "metadata": {
        "id": "cVg4ZjkG5Wuu"
      },
      "source": [
        "Так как в датафрейме присутствуют заказы, которые находятся в процессе сборки/доставки/отменены/не подтверждены, пропуски в  столбцах с датами - это нормально."
      ]
    },
    {
      "cell_type": "code",
      "execution_count": null,
      "metadata": {
        "scrolled": false,
        "id": "QXWXj95M5Wuu",
        "outputId": "9c3bcbde-59b4-4495-b055-4572ab605568"
      },
      "outputs": [
        {
          "data": {
            "text/plain": [
              "(99441, 8)"
            ]
          },
          "execution_count": 13,
          "metadata": {},
          "output_type": "execute_result"
        }
      ],
      "source": [
        "orders.shape"
      ]
    },
    {
      "cell_type": "code",
      "execution_count": null,
      "metadata": {
        "id": "i8ihKD2Q5Wuu",
        "outputId": "d7c3a577-5b8f-40c6-e09c-074fbfc3708d"
      },
      "outputs": [
        {
          "data": {
            "text/plain": [
              "0"
            ]
          },
          "execution_count": 14,
          "metadata": {},
          "output_type": "execute_result"
        }
      ],
      "source": [
        "orders.duplicated().sum()"
      ]
    },
    {
      "cell_type": "code",
      "execution_count": null,
      "metadata": {
        "id": "bxLBD4RB5Wuv",
        "outputId": "c4bb9aba-86c0-411a-84cd-57e80ef713fc"
      },
      "outputs": [
        {
          "data": {
            "text/plain": [
              "order_id                         99441\n",
              "customer_id                      99441\n",
              "order_status                         8\n",
              "order_purchase_timestamp         98875\n",
              "order_approved_at                90733\n",
              "order_delivered_carrier_date     81018\n",
              "order_delivered_customer_date    95664\n",
              "order_estimated_delivery_date      459\n",
              "dtype: int64"
            ]
          },
          "execution_count": 15,
          "metadata": {},
          "output_type": "execute_result"
        }
      ],
      "source": [
        "# Снова проверяем количество уникальных значений\n",
        "orders.nunique()"
      ]
    },
    {
      "cell_type": "code",
      "execution_count": null,
      "metadata": {
        "scrolled": true,
        "id": "iClsYCyQ5Wuv",
        "outputId": "393bb8af-6dbc-40fb-8615-8d83adae3d62"
      },
      "outputs": [
        {
          "data": {
            "text/plain": [
              "(Timestamp('2016-09-04 21:15:19'), Timestamp('2018-10-17 17:30:18'))"
            ]
          },
          "execution_count": 16,
          "metadata": {},
          "output_type": "execute_result"
        }
      ],
      "source": [
        "# Определим за какое время мы получили данные о заказах\n",
        "orders_time_min   = orders.order_purchase_timestamp.min()\n",
        "orders_time_max   = orders.order_purchase_timestamp.max()\n",
        "\n",
        "orders_time_min, orders_time_max"
      ]
    },
    {
      "cell_type": "markdown",
      "metadata": {
        "id": "Vw21ZmFq5Wuv"
      },
      "source": [
        "<!--  -->"
      ]
    },
    {
      "cell_type": "code",
      "execution_count": null,
      "metadata": {
        "id": "qCCmLbJ05Wuv",
        "outputId": "7a67adfb-97a7-4c0d-adce-e909ef136255"
      },
      "outputs": [
        {
          "data": {
            "text/html": [
              "<div>\n",
              "<style scoped>\n",
              "    .dataframe tbody tr th:only-of-type {\n",
              "        vertical-align: middle;\n",
              "    }\n",
              "\n",
              "    .dataframe tbody tr th {\n",
              "        vertical-align: top;\n",
              "    }\n",
              "\n",
              "    .dataframe thead th {\n",
              "        text-align: right;\n",
              "    }\n",
              "</style>\n",
              "<table border=\"1\" class=\"dataframe\">\n",
              "  <thead>\n",
              "    <tr style=\"text-align: right;\">\n",
              "      <th></th>\n",
              "      <th>order_id</th>\n",
              "      <th>order_item_id</th>\n",
              "      <th>product_id</th>\n",
              "      <th>seller_id</th>\n",
              "      <th>shipping_limit_date</th>\n",
              "      <th>price</th>\n",
              "      <th>freight_value</th>\n",
              "    </tr>\n",
              "  </thead>\n",
              "  <tbody>\n",
              "    <tr>\n",
              "      <th>0</th>\n",
              "      <td>00010242fe8c5a6d1ba2dd792cb16214</td>\n",
              "      <td>1</td>\n",
              "      <td>4244733e06e7ecb4970a6e2683c13e61</td>\n",
              "      <td>48436dade18ac8b2bce089ec2a041202</td>\n",
              "      <td>2017-09-19 09:45:35</td>\n",
              "      <td>58.9</td>\n",
              "      <td>13.29</td>\n",
              "    </tr>\n",
              "    <tr>\n",
              "      <th>1</th>\n",
              "      <td>00018f77f2f0320c557190d7a144bdd3</td>\n",
              "      <td>1</td>\n",
              "      <td>e5f2d52b802189ee658865ca93d83a8f</td>\n",
              "      <td>dd7ddc04e1b6c2c614352b383efe2d36</td>\n",
              "      <td>2017-05-03 11:05:13</td>\n",
              "      <td>239.9</td>\n",
              "      <td>19.93</td>\n",
              "    </tr>\n",
              "    <tr>\n",
              "      <th>2</th>\n",
              "      <td>000229ec398224ef6ca0657da4fc703e</td>\n",
              "      <td>1</td>\n",
              "      <td>c777355d18b72b67abbeef9df44fd0fd</td>\n",
              "      <td>5b51032eddd242adc84c38acab88f23d</td>\n",
              "      <td>2018-01-18 14:48:30</td>\n",
              "      <td>199.0</td>\n",
              "      <td>17.87</td>\n",
              "    </tr>\n",
              "  </tbody>\n",
              "</table>\n",
              "</div>"
            ],
            "text/plain": [
              "                           order_id  order_item_id  \\\n",
              "0  00010242fe8c5a6d1ba2dd792cb16214              1   \n",
              "1  00018f77f2f0320c557190d7a144bdd3              1   \n",
              "2  000229ec398224ef6ca0657da4fc703e              1   \n",
              "\n",
              "                         product_id                         seller_id  \\\n",
              "0  4244733e06e7ecb4970a6e2683c13e61  48436dade18ac8b2bce089ec2a041202   \n",
              "1  e5f2d52b802189ee658865ca93d83a8f  dd7ddc04e1b6c2c614352b383efe2d36   \n",
              "2  c777355d18b72b67abbeef9df44fd0fd  5b51032eddd242adc84c38acab88f23d   \n",
              "\n",
              "  shipping_limit_date  price  freight_value  \n",
              "0 2017-09-19 09:45:35   58.9          13.29  \n",
              "1 2017-05-03 11:05:13  239.9          19.93  \n",
              "2 2018-01-18 14:48:30  199.0          17.87  "
            ]
          },
          "execution_count": 17,
          "metadata": {},
          "output_type": "execute_result"
        }
      ],
      "source": [
        "# товарные позиции, входящие в заказы\n",
        "items = pd.read_csv(\"olist_order_items_dataset.csv\", parse_dates=['shipping_limit_date'])\n",
        "items.head(3)"
      ]
    },
    {
      "cell_type": "code",
      "execution_count": null,
      "metadata": {
        "id": "TSADMMXp5Wuv",
        "outputId": "bd2fb231-8c28-41fb-e32c-0c4dbad045d4"
      },
      "outputs": [
        {
          "data": {
            "text/plain": [
              "order_id                       object\n",
              "order_item_id                   int64\n",
              "product_id                     object\n",
              "seller_id                      object\n",
              "shipping_limit_date    datetime64[ns]\n",
              "price                         float64\n",
              "freight_value                 float64\n",
              "dtype: object"
            ]
          },
          "execution_count": 18,
          "metadata": {},
          "output_type": "execute_result"
        }
      ],
      "source": [
        "items.dtypes"
      ]
    },
    {
      "cell_type": "code",
      "execution_count": null,
      "metadata": {
        "scrolled": false,
        "id": "kgNa1tU85Wuv",
        "outputId": "0e78294d-d3ac-4bcf-f67e-71e9dc7b601e"
      },
      "outputs": [
        {
          "data": {
            "text/plain": [
              "(Timestamp('2016-09-19 00:15:34'), Timestamp('2020-04-09 22:35:08'))"
            ]
          },
          "execution_count": 19,
          "metadata": {},
          "output_type": "execute_result"
        }
      ],
      "source": [
        "# Проверим максимальные даты доставки\n",
        "items_time_min = items.shipping_limit_date.min()\n",
        "items_time_max = items.shipping_limit_date.max()\n",
        "\n",
        "items_time_min, items_time_max"
      ]
    },
    {
      "cell_type": "code",
      "execution_count": null,
      "metadata": {
        "id": "rUFVmj6R5Wuw"
      },
      "outputs": [],
      "source": [
        "# Похоже, некоторые заказы, могут находится в доставке до полутора лет"
      ]
    },
    {
      "cell_type": "code",
      "execution_count": null,
      "metadata": {
        "scrolled": true,
        "id": "BWpEZj3L5Wuw",
        "outputId": "b7792cc8-ef8f-4771-cc7c-8d8a7d5d17df"
      },
      "outputs": [
        {
          "data": {
            "text/plain": [
              "order_id               0\n",
              "order_item_id          0\n",
              "product_id             0\n",
              "seller_id              0\n",
              "shipping_limit_date    0\n",
              "price                  0\n",
              "freight_value          0\n",
              "dtype: int64"
            ]
          },
          "execution_count": 21,
          "metadata": {},
          "output_type": "execute_result"
        }
      ],
      "source": [
        "items.isna().sum()"
      ]
    },
    {
      "cell_type": "code",
      "execution_count": null,
      "metadata": {
        "id": "9_DUbIVq5Wuw",
        "outputId": "f15f1ba3-f189-42c7-ec9a-53cffad3c192"
      },
      "outputs": [
        {
          "data": {
            "text/plain": [
              "(112650, 7)"
            ]
          },
          "execution_count": 22,
          "metadata": {},
          "output_type": "execute_result"
        }
      ],
      "source": [
        "items.shape"
      ]
    },
    {
      "cell_type": "code",
      "execution_count": null,
      "metadata": {
        "id": "32xiuYpL5Wuw",
        "outputId": "8578b208-7dda-459b-e768-285c1da51087"
      },
      "outputs": [
        {
          "data": {
            "text/plain": [
              "0"
            ]
          },
          "execution_count": 23,
          "metadata": {},
          "output_type": "execute_result"
        }
      ],
      "source": [
        "items.duplicated().sum()"
      ]
    },
    {
      "cell_type": "code",
      "execution_count": null,
      "metadata": {
        "scrolled": true,
        "id": "s-iuqzmH5Wuw",
        "outputId": "8b88788c-2a75-4b97-99cf-6bbeb72e117a"
      },
      "outputs": [
        {
          "data": {
            "text/plain": [
              "order_id               98666\n",
              "order_item_id             21\n",
              "product_id             32951\n",
              "seller_id               3095\n",
              "shipping_limit_date    93318\n",
              "price                   5968\n",
              "freight_value           6999\n",
              "dtype: int64"
            ]
          },
          "execution_count": 24,
          "metadata": {},
          "output_type": "execute_result"
        }
      ],
      "source": [
        "items.nunique()"
      ]
    },
    {
      "cell_type": "code",
      "execution_count": null,
      "metadata": {
        "id": "TZArAgPH5Wuw",
        "outputId": "5b1ad507-ae61-4b5f-ba6d-67cbdb7a6acf"
      },
      "outputs": [
        {
          "data": {
            "text/plain": [
              "(98666, 99441, 99441)"
            ]
          },
          "execution_count": 25,
          "metadata": {},
          "output_type": "execute_result"
        }
      ],
      "source": [
        "# Обратим внимание, что в таблице items меньше заказов, чем есть в orders и customers\n",
        "items_order_id  = items.order_id.nunique()\n",
        "customers_id    = customers.customer_id.nunique()\n",
        "orders_order_id = orders.order_id.nunique()\n",
        "# Ещё раз выведем количество уникальных значений\n",
        "items_order_id, customers_id, orders_order_id"
      ]
    },
    {
      "cell_type": "code",
      "execution_count": null,
      "metadata": {
        "id": "cnTLmfc65Wux",
        "outputId": "ccab6b68-8043-4885-bed7-d973f097855a"
      },
      "outputs": [
        {
          "data": {
            "text/plain": [
              "775"
            ]
          },
          "execution_count": 26,
          "metadata": {},
          "output_type": "execute_result"
        }
      ],
      "source": [
        "# Вычислим количество недостающих строк\n",
        "(orders_order_id - items_order_id)"
      ]
    },
    {
      "cell_type": "markdown",
      "metadata": {
        "id": "Lmx3dw5q5Wux"
      },
      "source": [
        "## 1. Сколько пользователей, которые совершили покупку только один раз?"
      ]
    },
    {
      "cell_type": "markdown",
      "metadata": {
        "id": "o0FJGURI5Wux"
      },
      "source": [
        "Покупкой будем считать заказы, которые были оплачены (есть отметка в столбце order_approved_at —  время подтверждения оплаты заказа) и не были отменены и недоступны (статус заказа - order_status - не canceled или unavailable)"
      ]
    },
    {
      "cell_type": "code",
      "execution_count": null,
      "metadata": {
        "scrolled": true,
        "id": "eweT5prO5Wux",
        "outputId": "54338aa2-3730-4e28-96de-e816300a7e6b"
      },
      "outputs": [
        {
          "data": {
            "text/html": [
              "<div>\n",
              "<style scoped>\n",
              "    .dataframe tbody tr th:only-of-type {\n",
              "        vertical-align: middle;\n",
              "    }\n",
              "\n",
              "    .dataframe tbody tr th {\n",
              "        vertical-align: top;\n",
              "    }\n",
              "\n",
              "    .dataframe thead th {\n",
              "        text-align: right;\n",
              "    }\n",
              "</style>\n",
              "<table border=\"1\" class=\"dataframe\">\n",
              "  <thead>\n",
              "    <tr style=\"text-align: right;\">\n",
              "      <th></th>\n",
              "      <th>order_status</th>\n",
              "      <th>number_of_orders</th>\n",
              "    </tr>\n",
              "  </thead>\n",
              "  <tbody>\n",
              "    <tr>\n",
              "      <th>0</th>\n",
              "      <td>delivered</td>\n",
              "      <td>96464</td>\n",
              "    </tr>\n",
              "    <tr>\n",
              "      <th>1</th>\n",
              "      <td>shipped</td>\n",
              "      <td>1107</td>\n",
              "    </tr>\n",
              "    <tr>\n",
              "      <th>2</th>\n",
              "      <td>unavailable</td>\n",
              "      <td>609</td>\n",
              "    </tr>\n",
              "    <tr>\n",
              "      <th>3</th>\n",
              "      <td>canceled</td>\n",
              "      <td>484</td>\n",
              "    </tr>\n",
              "    <tr>\n",
              "      <th>4</th>\n",
              "      <td>invoiced</td>\n",
              "      <td>314</td>\n",
              "    </tr>\n",
              "    <tr>\n",
              "      <th>5</th>\n",
              "      <td>processing</td>\n",
              "      <td>301</td>\n",
              "    </tr>\n",
              "    <tr>\n",
              "      <th>6</th>\n",
              "      <td>approved</td>\n",
              "      <td>2</td>\n",
              "    </tr>\n",
              "  </tbody>\n",
              "</table>\n",
              "</div>"
            ],
            "text/plain": [
              "  order_status  number_of_orders\n",
              "0    delivered             96464\n",
              "1      shipped              1107\n",
              "2  unavailable               609\n",
              "3     canceled               484\n",
              "4     invoiced               314\n",
              "5   processing               301\n",
              "6     approved                 2"
            ]
          },
          "execution_count": 27,
          "metadata": {},
          "output_type": "execute_result"
        }
      ],
      "source": [
        "# Посмотрим, какой статус имеют оплаченные заказы\n",
        "orders[orders['order_approved_at'].notna()].groupby('order_status', as_index=False)\\\n",
        "                                           .agg({'customer_id':'count'})\\\n",
        "                                           .sort_values(by='customer_id', ascending=False)\\\n",
        "                                           .rename(columns = {'customer_id':'number_of_orders'})\\\n",
        "                                           .reset_index(drop=True)"
      ]
    },
    {
      "cell_type": "code",
      "execution_count": null,
      "metadata": {
        "scrolled": true,
        "id": "LJLKOxl15Wux",
        "outputId": "7eaf2b0f-6157-41e0-b673-0d2a9f904dbd"
      },
      "outputs": [
        {
          "data": {
            "text/plain": [
              "order_id                          0\n",
              "customer_id                       0\n",
              "order_status                      0\n",
              "order_purchase_timestamp          0\n",
              "order_approved_at                14\n",
              "order_delivered_carrier_date      2\n",
              "order_delivered_customer_date     8\n",
              "order_estimated_delivery_date     0\n",
              "dtype: int64"
            ]
          },
          "execution_count": 28,
          "metadata": {},
          "output_type": "execute_result"
        }
      ],
      "source": [
        "# Однако мы можем найти заказы со статусом delivered без отметки об облате.\n",
        "# Далее такие заказы учитывать не будем.\n",
        "orders.query('order_status==\"delivered\"').isna().sum()"
      ]
    },
    {
      "cell_type": "code",
      "execution_count": null,
      "metadata": {
        "id": "CG6tt5lc5Wux",
        "outputId": "fe9027aa-5c4d-49cb-cf45-4bbfdc31a2ac"
      },
      "outputs": [
        {
          "data": {
            "text/html": [
              "<div>\n",
              "<style scoped>\n",
              "    .dataframe tbody tr th:only-of-type {\n",
              "        vertical-align: middle;\n",
              "    }\n",
              "\n",
              "    .dataframe tbody tr th {\n",
              "        vertical-align: top;\n",
              "    }\n",
              "\n",
              "    .dataframe thead th {\n",
              "        text-align: right;\n",
              "    }\n",
              "</style>\n",
              "<table border=\"1\" class=\"dataframe\">\n",
              "  <thead>\n",
              "    <tr style=\"text-align: right;\">\n",
              "      <th></th>\n",
              "      <th>order_id</th>\n",
              "      <th>customer_id</th>\n",
              "      <th>order_status</th>\n",
              "      <th>order_purchase_timestamp</th>\n",
              "      <th>order_approved_at</th>\n",
              "      <th>order_delivered_carrier_date</th>\n",
              "      <th>order_delivered_customer_date</th>\n",
              "      <th>order_estimated_delivery_date</th>\n",
              "    </tr>\n",
              "  </thead>\n",
              "  <tbody>\n",
              "    <tr>\n",
              "      <th>44897</th>\n",
              "      <td>a2e4c44360b4a57bdff22f3a4630c173</td>\n",
              "      <td>8886130db0ea6e9e70ba0b03d7c0d286</td>\n",
              "      <td>approved</td>\n",
              "      <td>2017-02-06 20:18:17</td>\n",
              "      <td>2017-02-06 20:30:19</td>\n",
              "      <td>NaT</td>\n",
              "      <td>NaT</td>\n",
              "      <td>2017-03-01</td>\n",
              "    </tr>\n",
              "    <tr>\n",
              "      <th>88457</th>\n",
              "      <td>132f1e724165a07f6362532bfb97486e</td>\n",
              "      <td>b2191912d8ad6eac2e4dc3b6e1459515</td>\n",
              "      <td>approved</td>\n",
              "      <td>2017-04-25 01:25:34</td>\n",
              "      <td>2017-04-30 20:32:41</td>\n",
              "      <td>NaT</td>\n",
              "      <td>NaT</td>\n",
              "      <td>2017-05-22</td>\n",
              "    </tr>\n",
              "  </tbody>\n",
              "</table>\n",
              "</div>"
            ],
            "text/plain": [
              "                               order_id                       customer_id  \\\n",
              "44897  a2e4c44360b4a57bdff22f3a4630c173  8886130db0ea6e9e70ba0b03d7c0d286   \n",
              "88457  132f1e724165a07f6362532bfb97486e  b2191912d8ad6eac2e4dc3b6e1459515   \n",
              "\n",
              "      order_status order_purchase_timestamp   order_approved_at  \\\n",
              "44897     approved      2017-02-06 20:18:17 2017-02-06 20:30:19   \n",
              "88457     approved      2017-04-25 01:25:34 2017-04-30 20:32:41   \n",
              "\n",
              "      order_delivered_carrier_date order_delivered_customer_date  \\\n",
              "44897                          NaT                           NaT   \n",
              "88457                          NaT                           NaT   \n",
              "\n",
              "      order_estimated_delivery_date  \n",
              "44897                    2017-03-01  \n",
              "88457                    2017-05-22  "
            ]
          },
          "execution_count": 29,
          "metadata": {},
          "output_type": "execute_result"
        }
      ],
      "source": [
        "# Подозрительно мало заказов со статусом approved. Проверим, всё ли с ними в порядке.\n",
        "orders.query('order_status==\"approved\"')\n",
        "# Таких заказов всего два, и для них не указана дата отправления и получения заказа.\n",
        "# При том, что ожидаемая дата доставки заказов была в 2017ом году.\n",
        "# С тех пор статус заказа давно должен был измениться, но не изменился в результате неизвестной ошибки.\n",
        "# Заказы со статусом approved не будем считать покупкой."
      ]
    },
    {
      "cell_type": "markdown",
      "metadata": {
        "id": "XFqcsFUI5Wuy"
      },
      "source": [
        "Таким образом, из оплаченных заказов отбираем находящиеся в одном из следующих статусов: invoiced — выставлен счёт (и оплачен, но сборка товара ещё не началась); processing  —  в процессе сборки заказа; shipped — отгружен со склада; delivered — доставлен пользователю."
      ]
    },
    {
      "cell_type": "code",
      "execution_count": null,
      "metadata": {
        "id": "bAb-BlPJ5Wuy"
      },
      "outputs": [],
      "source": [
        "approved_order_status = [\"invoiced\", \"processing\", \"shipped\", \"delivered\"]"
      ]
    },
    {
      "cell_type": "code",
      "execution_count": null,
      "metadata": {
        "scrolled": true,
        "id": "lrobU6vM5Wuy"
      },
      "outputs": [],
      "source": [
        "approved_orders = orders[orders['order_approved_at'].notna()].query('order_status in @approved_order_status')"
      ]
    },
    {
      "cell_type": "markdown",
      "metadata": {
        "id": "FPc6vSmj5Wu2"
      },
      "source": [
        "Чтобы посчитать количество уникальных пользователей, необходимо перейти от позаказного идентификатора customer_id  к уникальному идентификатору пользоваетеля  — customer_unique_id."
      ]
    },
    {
      "cell_type": "code",
      "execution_count": null,
      "metadata": {
        "id": "9fLjSoR05Wu2"
      },
      "outputs": [],
      "source": [
        "customers_approved_orders = approved_orders.merge(customers, on='customer_id')"
      ]
    },
    {
      "cell_type": "code",
      "execution_count": null,
      "metadata": {
        "id": "grQIdJUx5Wu3",
        "outputId": "27a2e19c-acb6-43c6-b790-d909f5a609ed"
      },
      "outputs": [
        {
          "data": {
            "text/plain": [
              "92085"
            ]
          },
          "execution_count": 33,
          "metadata": {},
          "output_type": "execute_result"
        }
      ],
      "source": [
        "approved_orders_num = customers_approved_orders.groupby('customer_unique_id', as_index=False)\\\n",
        "                                               .agg({'order_status':'count'})\\\n",
        "                                               .query('order_status==1')\\\n",
        "                                               .shape[0]\n",
        "approved_orders_num"
      ]
    },
    {
      "cell_type": "code",
      "execution_count": null,
      "metadata": {
        "id": "cxAhYo4t5Wu3",
        "outputId": "0dd8827d-bcb8-460a-cc47-067152d1ca14"
      },
      "outputs": [
        {
          "data": {
            "text/plain": [
              "95.8"
            ]
          },
          "execution_count": 34,
          "metadata": {},
          "output_type": "execute_result"
        }
      ],
      "source": [
        "# В процентном соотношении\n",
        "round(100*approved_orders_num/96096, 1)"
      ]
    },
    {
      "cell_type": "markdown",
      "metadata": {
        "id": "gnxlka-L5Wu3"
      },
      "source": [
        "### 92085 человек совершили покупку только один раз - таких пользователей 95.8%"
      ]
    },
    {
      "cell_type": "markdown",
      "metadata": {
        "id": "nHqJhvc05Wu3"
      },
      "source": [
        "<!--  -->"
      ]
    },
    {
      "cell_type": "markdown",
      "metadata": {
        "id": "LR8aXQXk5Wu3"
      },
      "source": [
        "## 2. Сколько заказов в месяц в среднем не доставляется по разным причинам (вывести детализацию по причинам)?"
      ]
    },
    {
      "cell_type": "markdown",
      "metadata": {
        "id": "uI-yu0Sk5Wu3"
      },
      "source": [
        "Недоставленными заказами будем считать заказы без указания даты доставки покупателю. Посмотрим, в каком статусе находятся такие заказы. Заодно проверим статус оплаты этих заказов."
      ]
    },
    {
      "cell_type": "code",
      "execution_count": null,
      "metadata": {
        "id": "Nx5R2Lp35Wu3",
        "outputId": "72303a4c-bc9f-43ba-925d-608ecb743c55"
      },
      "outputs": [
        {
          "data": {
            "text/html": [
              "<div>\n",
              "<style scoped>\n",
              "    .dataframe tbody tr th:only-of-type {\n",
              "        vertical-align: middle;\n",
              "    }\n",
              "\n",
              "    .dataframe tbody tr th {\n",
              "        vertical-align: top;\n",
              "    }\n",
              "\n",
              "    .dataframe thead th {\n",
              "        text-align: right;\n",
              "    }\n",
              "</style>\n",
              "<table border=\"1\" class=\"dataframe\">\n",
              "  <thead>\n",
              "    <tr style=\"text-align: right;\">\n",
              "      <th></th>\n",
              "      <th>order_status</th>\n",
              "      <th>number_of_orders</th>\n",
              "      <th>paid</th>\n",
              "    </tr>\n",
              "  </thead>\n",
              "  <tbody>\n",
              "    <tr>\n",
              "      <th>0</th>\n",
              "      <td>shipped</td>\n",
              "      <td>1107</td>\n",
              "      <td>1107</td>\n",
              "    </tr>\n",
              "    <tr>\n",
              "      <th>1</th>\n",
              "      <td>canceled</td>\n",
              "      <td>619</td>\n",
              "      <td>478</td>\n",
              "    </tr>\n",
              "    <tr>\n",
              "      <th>2</th>\n",
              "      <td>unavailable</td>\n",
              "      <td>609</td>\n",
              "      <td>609</td>\n",
              "    </tr>\n",
              "    <tr>\n",
              "      <th>3</th>\n",
              "      <td>invoiced</td>\n",
              "      <td>314</td>\n",
              "      <td>314</td>\n",
              "    </tr>\n",
              "    <tr>\n",
              "      <th>4</th>\n",
              "      <td>processing</td>\n",
              "      <td>301</td>\n",
              "      <td>301</td>\n",
              "    </tr>\n",
              "    <tr>\n",
              "      <th>5</th>\n",
              "      <td>delivered</td>\n",
              "      <td>8</td>\n",
              "      <td>8</td>\n",
              "    </tr>\n",
              "    <tr>\n",
              "      <th>6</th>\n",
              "      <td>created</td>\n",
              "      <td>5</td>\n",
              "      <td>0</td>\n",
              "    </tr>\n",
              "    <tr>\n",
              "      <th>7</th>\n",
              "      <td>approved</td>\n",
              "      <td>2</td>\n",
              "      <td>2</td>\n",
              "    </tr>\n",
              "  </tbody>\n",
              "</table>\n",
              "</div>"
            ],
            "text/plain": [
              "  order_status  number_of_orders  paid \n",
              "0      shipped              1107   1107\n",
              "1     canceled               619    478\n",
              "2  unavailable               609    609\n",
              "3     invoiced               314    314\n",
              "4   processing               301    301\n",
              "5    delivered                 8      8\n",
              "6      created                 5      0\n",
              "7     approved                 2      2"
            ]
          },
          "execution_count": 35,
          "metadata": {},
          "output_type": "execute_result"
        }
      ],
      "source": [
        "undelivered_orders = orders[orders['order_delivered_customer_date'].isna()]\\\n",
        "                            .groupby('order_status', as_index=False)\\\n",
        "                            .agg({'customer_id':'count','order_approved_at':'count'})\\\n",
        "                            .sort_values(by='customer_id', ascending=False)\\\n",
        "                            .rename(columns = {'customer_id':'number_of_orders', 'order_approved_at':'paid '})\\\n",
        "                            .reset_index(drop=True)\n",
        "undelivered_orders"
      ]
    },
    {
      "cell_type": "markdown",
      "metadata": {
        "id": "ku2l3Z785Wu4"
      },
      "source": [
        "Взглянув на статус заказов без даты доставки можно заметить, что на пятом месте идут доставленные заказы - будем считать, что они попали в эту таблицу по ошибке. Далее перейдём к расчёту недоставленных заказов в месяц."
      ]
    },
    {
      "cell_type": "code",
      "execution_count": null,
      "metadata": {
        "id": "B5HJpo_b5Wu4"
      },
      "outputs": [],
      "source": [
        "# Подготовим новый датафрейм\n",
        "undelivered_per_month = orders[orders['order_delivered_customer_date'].isna()].query('order_status != \"delivered\"')"
      ]
    },
    {
      "cell_type": "code",
      "execution_count": null,
      "metadata": {
        "id": "V5NgN-io5Wu4",
        "outputId": "b9c65356-c16f-405a-e111-c55f17742b92"
      },
      "outputs": [
        {
          "data": {
            "text/html": [
              "<div>\n",
              "<style scoped>\n",
              "    .dataframe tbody tr th:only-of-type {\n",
              "        vertical-align: middle;\n",
              "    }\n",
              "\n",
              "    .dataframe tbody tr th {\n",
              "        vertical-align: top;\n",
              "    }\n",
              "\n",
              "    .dataframe thead th {\n",
              "        text-align: right;\n",
              "    }\n",
              "</style>\n",
              "<table border=\"1\" class=\"dataframe\">\n",
              "  <thead>\n",
              "    <tr style=\"text-align: right;\">\n",
              "      <th></th>\n",
              "      <th>order_id</th>\n",
              "      <th>customer_id</th>\n",
              "      <th>order_status</th>\n",
              "      <th>order_purchase_timestamp</th>\n",
              "      <th>order_approved_at</th>\n",
              "      <th>order_delivered_carrier_date</th>\n",
              "      <th>order_delivered_customer_date</th>\n",
              "      <th>order_estimated_delivery_date</th>\n",
              "    </tr>\n",
              "  </thead>\n",
              "  <tbody>\n",
              "    <tr>\n",
              "      <th>6</th>\n",
              "      <td>136cce7faa42fdb2cefd53fdc79a6098</td>\n",
              "      <td>ed0271e0b7da060a393796590e7b737a</td>\n",
              "      <td>invoiced</td>\n",
              "      <td>2017-04-11 12:22:08</td>\n",
              "      <td>2017-04-13 13:25:17</td>\n",
              "      <td>NaT</td>\n",
              "      <td>NaT</td>\n",
              "      <td>2017-05-09</td>\n",
              "    </tr>\n",
              "    <tr>\n",
              "      <th>44</th>\n",
              "      <td>ee64d42b8cf066f35eac1cf57de1aa85</td>\n",
              "      <td>caded193e8e47b8362864762a83db3c5</td>\n",
              "      <td>shipped</td>\n",
              "      <td>2018-06-04 16:44:48</td>\n",
              "      <td>2018-06-05 04:31:18</td>\n",
              "      <td>2018-06-05 14:32:00</td>\n",
              "      <td>NaT</td>\n",
              "      <td>2018-06-28</td>\n",
              "    </tr>\n",
              "    <tr>\n",
              "      <th>103</th>\n",
              "      <td>0760a852e4e9d89eb77bf631eaaf1c84</td>\n",
              "      <td>d2a79636084590b7465af8ab374a8cf5</td>\n",
              "      <td>invoiced</td>\n",
              "      <td>2018-08-03 17:44:42</td>\n",
              "      <td>2018-08-07 06:15:14</td>\n",
              "      <td>NaT</td>\n",
              "      <td>NaT</td>\n",
              "      <td>2018-08-21</td>\n",
              "    </tr>\n",
              "  </tbody>\n",
              "</table>\n",
              "</div>"
            ],
            "text/plain": [
              "                             order_id                       customer_id  \\\n",
              "6    136cce7faa42fdb2cefd53fdc79a6098  ed0271e0b7da060a393796590e7b737a   \n",
              "44   ee64d42b8cf066f35eac1cf57de1aa85  caded193e8e47b8362864762a83db3c5   \n",
              "103  0760a852e4e9d89eb77bf631eaaf1c84  d2a79636084590b7465af8ab374a8cf5   \n",
              "\n",
              "    order_status order_purchase_timestamp   order_approved_at  \\\n",
              "6       invoiced      2017-04-11 12:22:08 2017-04-13 13:25:17   \n",
              "44       shipped      2018-06-04 16:44:48 2018-06-05 04:31:18   \n",
              "103     invoiced      2018-08-03 17:44:42 2018-08-07 06:15:14   \n",
              "\n",
              "    order_delivered_carrier_date order_delivered_customer_date  \\\n",
              "6                            NaT                           NaT   \n",
              "44           2018-06-05 14:32:00                           NaT   \n",
              "103                          NaT                           NaT   \n",
              "\n",
              "    order_estimated_delivery_date  \n",
              "6                      2017-05-09  \n",
              "44                     2018-06-28  \n",
              "103                    2018-08-21  "
            ]
          },
          "execution_count": 37,
          "metadata": {},
          "output_type": "execute_result"
        }
      ],
      "source": [
        "undelivered_per_month.head(3)"
      ]
    },
    {
      "cell_type": "code",
      "execution_count": null,
      "metadata": {
        "id": "QAwWzIKj5Wu4"
      },
      "outputs": [],
      "source": [
        "# Чтобы корректно разбить заказы по месяцам поменяем формат даты\n",
        "undelivered_per_month['order_purchase_timestamp'] = undelivered_per_month['order_purchase_timestamp'].dt.strftime('%Y-%m')"
      ]
    },
    {
      "cell_type": "code",
      "execution_count": null,
      "metadata": {
        "scrolled": true,
        "id": "4uLuYAaP5Wu4",
        "outputId": "408425f7-b059-4fe3-dcf4-eef5509b45af"
      },
      "outputs": [
        {
          "data": {
            "text/html": [
              "<div>\n",
              "<style scoped>\n",
              "    .dataframe tbody tr th:only-of-type {\n",
              "        vertical-align: middle;\n",
              "    }\n",
              "\n",
              "    .dataframe tbody tr th {\n",
              "        vertical-align: top;\n",
              "    }\n",
              "\n",
              "    .dataframe thead th {\n",
              "        text-align: right;\n",
              "    }\n",
              "</style>\n",
              "<table border=\"1\" class=\"dataframe\">\n",
              "  <thead>\n",
              "    <tr style=\"text-align: right;\">\n",
              "      <th></th>\n",
              "      <th>order_status</th>\n",
              "      <th>order_purchase_timestamp</th>\n",
              "      <th>customer_id</th>\n",
              "    </tr>\n",
              "  </thead>\n",
              "  <tbody>\n",
              "    <tr>\n",
              "      <th>0</th>\n",
              "      <td>approved</td>\n",
              "      <td>2017-02</td>\n",
              "      <td>1</td>\n",
              "    </tr>\n",
              "    <tr>\n",
              "      <th>1</th>\n",
              "      <td>approved</td>\n",
              "      <td>2017-04</td>\n",
              "      <td>1</td>\n",
              "    </tr>\n",
              "    <tr>\n",
              "      <th>2</th>\n",
              "      <td>canceled</td>\n",
              "      <td>2016-09</td>\n",
              "      <td>2</td>\n",
              "    </tr>\n",
              "  </tbody>\n",
              "</table>\n",
              "</div>"
            ],
            "text/plain": [
              "  order_status order_purchase_timestamp  customer_id\n",
              "0     approved                  2017-02            1\n",
              "1     approved                  2017-04            1\n",
              "2     canceled                  2016-09            2"
            ]
          },
          "execution_count": 39,
          "metadata": {},
          "output_type": "execute_result"
        }
      ],
      "source": [
        "# Проверим формат даты\n",
        "undelivered_per_month.groupby(['order_status', 'order_purchase_timestamp'], as_index=False)\\\n",
        "                      .agg({'customer_id':'count'})\\\n",
        "                      .head(3)"
      ]
    },
    {
      "cell_type": "code",
      "execution_count": null,
      "metadata": {
        "id": "0POyykse5Wu4",
        "outputId": "0692432b-349a-4d8e-d417-1a08ac5f0606"
      },
      "outputs": [
        {
          "data": {
            "text/plain": [
              "24"
            ]
          },
          "execution_count": 40,
          "metadata": {},
          "output_type": "execute_result"
        }
      ],
      "source": [
        "undelivered_per_month.order_purchase_timestamp.nunique()"
      ]
    },
    {
      "cell_type": "code",
      "execution_count": null,
      "metadata": {
        "scrolled": false,
        "id": "iiQDYVJ85Wu5"
      },
      "outputs": [],
      "source": [
        "undelivered_per_month_short = undelivered_per_month\\\n",
        "                      .groupby(['order_status', 'order_purchase_timestamp'], as_index=False)\\\n",
        "                      .agg({'customer_id':'count'})\\\n",
        "                      .groupby('order_status', as_index=False)\\\n",
        "                      .agg({'customer_id':'sum'})\\\n",
        "                      .sort_values(by='customer_id', ascending=False)\\\n",
        "                      .rename(columns = {'customer_id':'undelivered_per_month'})\\\n",
        "                      .reset_index(drop=True)\n",
        "undelivered_per_month_short.undelivered_per_month = (undelivered_per_month_short.undelivered_per_month/24)\n",
        "\n",
        "# Если во второй агрегации искать среднее, то оно будет посчитано только по месяцам,\n",
        "# в которых был отмечен заказ, а не по всему анализируемому периоду"
      ]
    },
    {
      "cell_type": "code",
      "execution_count": null,
      "metadata": {
        "id": "k6KtqLy45Wu5"
      },
      "outputs": [],
      "source": [
        "undelivered_per_month_short.undelivered_per_month = undelivered_per_month_short.undelivered_per_month.round(decimals=1)"
      ]
    },
    {
      "cell_type": "code",
      "execution_count": null,
      "metadata": {
        "id": "jkTIw_4o5Wu5",
        "outputId": "c7d35f35-0619-489b-d315-dd6d04d5a2b0"
      },
      "outputs": [
        {
          "data": {
            "text/html": [
              "<div>\n",
              "<style scoped>\n",
              "    .dataframe tbody tr th:only-of-type {\n",
              "        vertical-align: middle;\n",
              "    }\n",
              "\n",
              "    .dataframe tbody tr th {\n",
              "        vertical-align: top;\n",
              "    }\n",
              "\n",
              "    .dataframe thead th {\n",
              "        text-align: right;\n",
              "    }\n",
              "</style>\n",
              "<table border=\"1\" class=\"dataframe\">\n",
              "  <thead>\n",
              "    <tr style=\"text-align: right;\">\n",
              "      <th></th>\n",
              "      <th>order_status</th>\n",
              "      <th>undelivered_per_month</th>\n",
              "    </tr>\n",
              "  </thead>\n",
              "  <tbody>\n",
              "    <tr>\n",
              "      <th>0</th>\n",
              "      <td>shipped</td>\n",
              "      <td>46.1</td>\n",
              "    </tr>\n",
              "    <tr>\n",
              "      <th>1</th>\n",
              "      <td>canceled</td>\n",
              "      <td>25.8</td>\n",
              "    </tr>\n",
              "    <tr>\n",
              "      <th>2</th>\n",
              "      <td>unavailable</td>\n",
              "      <td>25.4</td>\n",
              "    </tr>\n",
              "    <tr>\n",
              "      <th>3</th>\n",
              "      <td>invoiced</td>\n",
              "      <td>13.1</td>\n",
              "    </tr>\n",
              "    <tr>\n",
              "      <th>4</th>\n",
              "      <td>processing</td>\n",
              "      <td>12.5</td>\n",
              "    </tr>\n",
              "    <tr>\n",
              "      <th>5</th>\n",
              "      <td>created</td>\n",
              "      <td>0.2</td>\n",
              "    </tr>\n",
              "    <tr>\n",
              "      <th>6</th>\n",
              "      <td>approved</td>\n",
              "      <td>0.1</td>\n",
              "    </tr>\n",
              "  </tbody>\n",
              "</table>\n",
              "</div>"
            ],
            "text/plain": [
              "  order_status  undelivered_per_month\n",
              "0      shipped                   46.1\n",
              "1     canceled                   25.8\n",
              "2  unavailable                   25.4\n",
              "3     invoiced                   13.1\n",
              "4   processing                   12.5\n",
              "5      created                    0.2\n",
              "6     approved                    0.1"
            ]
          },
          "execution_count": 43,
          "metadata": {},
          "output_type": "execute_result"
        }
      ],
      "source": [
        "undelivered_per_month_short"
      ]
    },
    {
      "cell_type": "markdown",
      "metadata": {
        "id": "AVc_Jr2P5Wu5"
      },
      "source": [
        "### Как видно из таблицы выше, значительная часть недоставленных заказов находится в пути, так и должно быть. Далее идут заказы, которые были отменены или недоступны.  Вслед за ними заказы со сформированным счётом и находящиеся в обработке.\n",
        "### Реже одного раза в месяц встречаются новые заказы, которые ещё не были оплачены. И на последнем месте находятся заказы, застрявшие в статусе \"approved\"."
      ]
    },
    {
      "cell_type": "markdown",
      "metadata": {
        "id": "Lb8tKqrh5Wu5"
      },
      "source": [
        ""
      ]
    },
    {
      "cell_type": "markdown",
      "metadata": {
        "id": "7lSnNpzu5Wu5"
      },
      "source": [
        "## 3. По каждому товару определить, в какой день недели товар чаще всего покупается.\n"
      ]
    },
    {
      "cell_type": "code",
      "execution_count": null,
      "metadata": {
        "scrolled": true,
        "id": "_vEvmZni5Wu6",
        "outputId": "22923d8a-cccd-4cfa-ba68-c9cce7f0af6c"
      },
      "outputs": [
        {
          "data": {
            "text/html": [
              "<div>\n",
              "<style scoped>\n",
              "    .dataframe tbody tr th:only-of-type {\n",
              "        vertical-align: middle;\n",
              "    }\n",
              "\n",
              "    .dataframe tbody tr th {\n",
              "        vertical-align: top;\n",
              "    }\n",
              "\n",
              "    .dataframe thead th {\n",
              "        text-align: right;\n",
              "    }\n",
              "</style>\n",
              "<table border=\"1\" class=\"dataframe\">\n",
              "  <thead>\n",
              "    <tr style=\"text-align: right;\">\n",
              "      <th></th>\n",
              "      <th>order_id</th>\n",
              "      <th>order_item_id</th>\n",
              "      <th>product_id</th>\n",
              "      <th>seller_id</th>\n",
              "      <th>shipping_limit_date</th>\n",
              "      <th>price</th>\n",
              "      <th>freight_value</th>\n",
              "      <th>customer_id</th>\n",
              "      <th>order_status</th>\n",
              "      <th>order_purchase_timestamp</th>\n",
              "      <th>order_approved_at</th>\n",
              "      <th>order_delivered_carrier_date</th>\n",
              "      <th>order_delivered_customer_date</th>\n",
              "      <th>order_estimated_delivery_date</th>\n",
              "    </tr>\n",
              "  </thead>\n",
              "  <tbody>\n",
              "    <tr>\n",
              "      <th>0</th>\n",
              "      <td>00010242fe8c5a6d1ba2dd792cb16214</td>\n",
              "      <td>1</td>\n",
              "      <td>4244733e06e7ecb4970a6e2683c13e61</td>\n",
              "      <td>48436dade18ac8b2bce089ec2a041202</td>\n",
              "      <td>2017-09-19 09:45:35</td>\n",
              "      <td>58.9</td>\n",
              "      <td>13.29</td>\n",
              "      <td>3ce436f183e68e07877b285a838db11a</td>\n",
              "      <td>delivered</td>\n",
              "      <td>2017-09-13 08:59:02</td>\n",
              "      <td>2017-09-13 09:45:35</td>\n",
              "      <td>2017-09-19 18:34:16</td>\n",
              "      <td>2017-09-20 23:43:48</td>\n",
              "      <td>2017-09-29</td>\n",
              "    </tr>\n",
              "    <tr>\n",
              "      <th>1</th>\n",
              "      <td>00018f77f2f0320c557190d7a144bdd3</td>\n",
              "      <td>1</td>\n",
              "      <td>e5f2d52b802189ee658865ca93d83a8f</td>\n",
              "      <td>dd7ddc04e1b6c2c614352b383efe2d36</td>\n",
              "      <td>2017-05-03 11:05:13</td>\n",
              "      <td>239.9</td>\n",
              "      <td>19.93</td>\n",
              "      <td>f6dd3ec061db4e3987629fe6b26e5cce</td>\n",
              "      <td>delivered</td>\n",
              "      <td>2017-04-26 10:53:06</td>\n",
              "      <td>2017-04-26 11:05:13</td>\n",
              "      <td>2017-05-04 14:35:00</td>\n",
              "      <td>2017-05-12 16:04:24</td>\n",
              "      <td>2017-05-15</td>\n",
              "    </tr>\n",
              "    <tr>\n",
              "      <th>2</th>\n",
              "      <td>000229ec398224ef6ca0657da4fc703e</td>\n",
              "      <td>1</td>\n",
              "      <td>c777355d18b72b67abbeef9df44fd0fd</td>\n",
              "      <td>5b51032eddd242adc84c38acab88f23d</td>\n",
              "      <td>2018-01-18 14:48:30</td>\n",
              "      <td>199.0</td>\n",
              "      <td>17.87</td>\n",
              "      <td>6489ae5e4333f3693df5ad4372dab6d3</td>\n",
              "      <td>delivered</td>\n",
              "      <td>2018-01-14 14:33:31</td>\n",
              "      <td>2018-01-14 14:48:30</td>\n",
              "      <td>2018-01-16 12:36:48</td>\n",
              "      <td>2018-01-22 13:19:16</td>\n",
              "      <td>2018-02-05</td>\n",
              "    </tr>\n",
              "  </tbody>\n",
              "</table>\n",
              "</div>"
            ],
            "text/plain": [
              "                           order_id  order_item_id  \\\n",
              "0  00010242fe8c5a6d1ba2dd792cb16214              1   \n",
              "1  00018f77f2f0320c557190d7a144bdd3              1   \n",
              "2  000229ec398224ef6ca0657da4fc703e              1   \n",
              "\n",
              "                         product_id                         seller_id  \\\n",
              "0  4244733e06e7ecb4970a6e2683c13e61  48436dade18ac8b2bce089ec2a041202   \n",
              "1  e5f2d52b802189ee658865ca93d83a8f  dd7ddc04e1b6c2c614352b383efe2d36   \n",
              "2  c777355d18b72b67abbeef9df44fd0fd  5b51032eddd242adc84c38acab88f23d   \n",
              "\n",
              "  shipping_limit_date  price  freight_value                       customer_id  \\\n",
              "0 2017-09-19 09:45:35   58.9          13.29  3ce436f183e68e07877b285a838db11a   \n",
              "1 2017-05-03 11:05:13  239.9          19.93  f6dd3ec061db4e3987629fe6b26e5cce   \n",
              "2 2018-01-18 14:48:30  199.0          17.87  6489ae5e4333f3693df5ad4372dab6d3   \n",
              "\n",
              "  order_status order_purchase_timestamp   order_approved_at  \\\n",
              "0    delivered      2017-09-13 08:59:02 2017-09-13 09:45:35   \n",
              "1    delivered      2017-04-26 10:53:06 2017-04-26 11:05:13   \n",
              "2    delivered      2018-01-14 14:33:31 2018-01-14 14:48:30   \n",
              "\n",
              "  order_delivered_carrier_date order_delivered_customer_date  \\\n",
              "0          2017-09-19 18:34:16           2017-09-20 23:43:48   \n",
              "1          2017-05-04 14:35:00           2017-05-12 16:04:24   \n",
              "2          2018-01-16 12:36:48           2018-01-22 13:19:16   \n",
              "\n",
              "  order_estimated_delivery_date  \n",
              "0                    2017-09-29  \n",
              "1                    2017-05-15  \n",
              "2                    2018-02-05  "
            ]
          },
          "execution_count": 44,
          "metadata": {},
          "output_type": "execute_result"
        }
      ],
      "source": [
        "# Чтобы видеть и идентиыикатора товара и дату, объеденим данные по товарам с данными о заказах,\n",
        "# которые мы ранее посчитали покупками\n",
        "items_a_orders = items.merge(approved_orders)\n",
        "items_a_orders.head(3)"
      ]
    },
    {
      "cell_type": "code",
      "execution_count": null,
      "metadata": {
        "id": "pM1gFZ6T5Wu6"
      },
      "outputs": [],
      "source": [
        "# Поменяем формат даты на дни недели\n",
        "# Точкой отчёта будем считать дату создания заказа\n",
        "items_a_orders['order_purchase_timestamp'] = items_a_orders['order_purchase_timestamp'].dt.day_name()"
      ]
    },
    {
      "cell_type": "code",
      "execution_count": null,
      "metadata": {
        "id": "HEx2ei0d5Wu6",
        "outputId": "4268c226-9f87-4f68-81ba-99d53d037398"
      },
      "outputs": [
        {
          "data": {
            "text/plain": [
              "order_id                                 object\n",
              "order_item_id                             int64\n",
              "product_id                               object\n",
              "seller_id                                object\n",
              "shipping_limit_date              datetime64[ns]\n",
              "price                                   float64\n",
              "freight_value                           float64\n",
              "customer_id                              object\n",
              "order_status                             object\n",
              "order_purchase_timestamp                 object\n",
              "order_approved_at                datetime64[ns]\n",
              "order_delivered_carrier_date     datetime64[ns]\n",
              "order_delivered_customer_date    datetime64[ns]\n",
              "order_estimated_delivery_date    datetime64[ns]\n",
              "dtype: object"
            ]
          },
          "execution_count": 46,
          "metadata": {},
          "output_type": "execute_result"
        }
      ],
      "source": [
        "items_a_orders.dtypes"
      ]
    },
    {
      "cell_type": "code",
      "execution_count": null,
      "metadata": {
        "scrolled": true,
        "id": "tMT4TNvT5Wu6"
      },
      "outputs": [],
      "source": [
        "max_orders_weekday = items_a_orders.groupby(['product_id', 'order_purchase_timestamp'], as_index=False)\\\n",
        "                                   .agg({'price':'count'})\\\n",
        "                                   .sort_values(by='price', ascending=False)\\\n",
        "                                   .rename(columns = {'price':'max_orders_day'})\\\n",
        "                                   .drop_duplicates('product_id')\\\n",
        "                                   .reset_index(drop=True)"
      ]
    },
    {
      "cell_type": "code",
      "execution_count": null,
      "metadata": {
        "scrolled": false,
        "id": "iWu-6upM5Wu6",
        "outputId": "43da86ae-302e-4265-d7f7-b380ab294309"
      },
      "outputs": [
        {
          "data": {
            "text/html": [
              "<div>\n",
              "<style scoped>\n",
              "    .dataframe tbody tr th:only-of-type {\n",
              "        vertical-align: middle;\n",
              "    }\n",
              "\n",
              "    .dataframe tbody tr th {\n",
              "        vertical-align: top;\n",
              "    }\n",
              "\n",
              "    .dataframe thead th {\n",
              "        text-align: right;\n",
              "    }\n",
              "</style>\n",
              "<table border=\"1\" class=\"dataframe\">\n",
              "  <thead>\n",
              "    <tr style=\"text-align: right;\">\n",
              "      <th></th>\n",
              "      <th>product_id</th>\n",
              "      <th>order_purchase_timestamp</th>\n",
              "      <th>max_orders_day</th>\n",
              "    </tr>\n",
              "  </thead>\n",
              "  <tbody>\n",
              "    <tr>\n",
              "      <th>0</th>\n",
              "      <td>422879e10f46682990de24d770e7f83d</td>\n",
              "      <td>Wednesday</td>\n",
              "      <td>93</td>\n",
              "    </tr>\n",
              "    <tr>\n",
              "      <th>1</th>\n",
              "      <td>99a4788cb24856965c36a24e339b6058</td>\n",
              "      <td>Monday</td>\n",
              "      <td>92</td>\n",
              "    </tr>\n",
              "    <tr>\n",
              "      <th>2</th>\n",
              "      <td>aca2eb7d00ea1a7b8ebd4e68314663af</td>\n",
              "      <td>Thursday</td>\n",
              "      <td>89</td>\n",
              "    </tr>\n",
              "    <tr>\n",
              "      <th>3</th>\n",
              "      <td>53b36df67ebb7c41585e8d54d6772e08</td>\n",
              "      <td>Tuesday</td>\n",
              "      <td>76</td>\n",
              "    </tr>\n",
              "    <tr>\n",
              "      <th>4</th>\n",
              "      <td>389d119b48cf3043d311335e499d9c6b</td>\n",
              "      <td>Thursday</td>\n",
              "      <td>67</td>\n",
              "    </tr>\n",
              "  </tbody>\n",
              "</table>\n",
              "</div>"
            ],
            "text/plain": [
              "                         product_id order_purchase_timestamp  max_orders_day\n",
              "0  422879e10f46682990de24d770e7f83d                Wednesday              93\n",
              "1  99a4788cb24856965c36a24e339b6058                   Monday              92\n",
              "2  aca2eb7d00ea1a7b8ebd4e68314663af                 Thursday              89\n",
              "3  53b36df67ebb7c41585e8d54d6772e08                  Tuesday              76\n",
              "4  389d119b48cf3043d311335e499d9c6b                 Thursday              67"
            ]
          },
          "execution_count": 48,
          "metadata": {},
          "output_type": "execute_result"
        }
      ],
      "source": [
        "max_orders_weekday.head()"
      ]
    },
    {
      "cell_type": "code",
      "execution_count": null,
      "metadata": {
        "id": "EXuf7Ayr5Wu6",
        "outputId": "c1c7b93b-a3f8-4587-b523-5529640bf8a9"
      },
      "outputs": [
        {
          "data": {
            "text/plain": [
              "count      32724\n",
              "unique         7\n",
              "top       Monday\n",
              "freq        5781\n",
              "Name: order_purchase_timestamp, dtype: object"
            ]
          },
          "execution_count": 49,
          "metadata": {},
          "output_type": "execute_result"
        }
      ],
      "source": [
        "# Посмотрим на описание данных по столбцам\n",
        "max_orders_weekday.order_purchase_timestamp.describe()"
      ]
    },
    {
      "cell_type": "code",
      "execution_count": null,
      "metadata": {
        "scrolled": true,
        "id": "aL0NHco75Wu7",
        "outputId": "a4d5cb90-60b2-4009-f83f-155484560702"
      },
      "outputs": [
        {
          "data": {
            "text/plain": [
              "count    32724.00\n",
              "mean         1.67\n",
              "std          2.29\n",
              "min          1.00\n",
              "25%          1.00\n",
              "50%          1.00\n",
              "75%          2.00\n",
              "max         93.00\n",
              "Name: max_orders_day, dtype: float64"
            ]
          },
          "execution_count": 50,
          "metadata": {},
          "output_type": "execute_result"
        }
      ],
      "source": [
        "max_orders_weekday.max_orders_day.describe().round(2)"
      ]
    },
    {
      "cell_type": "code",
      "execution_count": null,
      "metadata": {
        "id": "3D14i3pk5Wu7",
        "outputId": "3653072a-300f-485b-a4db-cffb45a00d0b"
      },
      "outputs": [
        {
          "data": {
            "text/plain": [
              "(23625, 72)"
            ]
          },
          "execution_count": 51,
          "metadata": {},
          "output_type": "execute_result"
        }
      ],
      "source": [
        "# Товары, которые покупали не чаще одного раза в день недли\n",
        "one_per_weekday    = max_orders_weekday.query('max_orders_day==1').shape[0]\n",
        "one_per_weekday_pc = round(100*one_per_weekday/max_orders_weekday.shape[0])\n",
        "one_per_weekday, one_per_weekday_pc"
      ]
    },
    {
      "cell_type": "code",
      "execution_count": null,
      "metadata": {
        "id": "EnVbDWyt5Wu7",
        "outputId": "6172d3cb-c9b3-4bc0-ffd0-a3e6b0b48981"
      },
      "outputs": [
        {
          "data": {
            "text/plain": [
              "count       9099\n",
              "unique         7\n",
              "top       Monday\n",
              "freq        1627\n",
              "Name: order_purchase_timestamp, dtype: object"
            ]
          },
          "execution_count": 52,
          "metadata": {},
          "output_type": "execute_result"
        }
      ],
      "source": [
        "# Товары, которые покупали чаще одного раза в день недли\n",
        "min_two_per_weekday = max_orders_weekday.query('max_orders_day>1')\n",
        "min_two_per_weekday.order_purchase_timestamp.describe()"
      ]
    },
    {
      "cell_type": "code",
      "execution_count": null,
      "metadata": {
        "id": "w0lVLvU45Wu7",
        "outputId": "628f64ab-0d60-4133-e67e-16ccc1f1ecc1"
      },
      "outputs": [
        {
          "data": {
            "text/plain": [
              "count    9099.00\n",
              "mean        3.42\n",
              "std         3.81\n",
              "min         2.00\n",
              "25%         2.00\n",
              "50%         2.00\n",
              "75%         4.00\n",
              "max        93.00\n",
              "Name: max_orders_day, dtype: float64"
            ]
          },
          "execution_count": 53,
          "metadata": {},
          "output_type": "execute_result"
        }
      ],
      "source": [
        "min_two_per_weekday.max_orders_day.describe().round(2)"
      ]
    },
    {
      "cell_type": "markdown",
      "metadata": {
        "id": "bTEmq_rb5Wu7"
      },
      "source": [
        "### Выше была построена таблица  \"max_orders_weekday\", в которой напротив каждого товара указан самый популярный день покупок.\n",
        "### Стоит понимать, что нельзя корректно определить наиболее популярный день для товаров, которые покупали не чаще одного раза в день недли. Таких товаров в нашей таблице 23625 единиц ил 72%.\n",
        "### Чаще всего покупатели делают заказ в понедельник."
      ]
    },
    {
      "cell_type": "markdown",
      "metadata": {
        "id": "XvZz1YNk5Wu7"
      },
      "source": [
        "<!--  -->"
      ]
    },
    {
      "cell_type": "markdown",
      "metadata": {
        "id": "V5dojdn75Wu8"
      },
      "source": [
        "## 4. Сколько у каждого из пользователей в среднем покупок в неделю (по месяцам)?"
      ]
    },
    {
      "cell_type": "markdown",
      "metadata": {
        "id": "u3AxpKIc5Wu8"
      },
      "source": [
        "Не стоит забывать, что внутри месяца может быть не целое количество недель. Например, в ноябре 2021 года 4,28 недели. И внутри метрики это нужно учесть."
      ]
    },
    {
      "cell_type": "code",
      "execution_count": null,
      "metadata": {
        "id": "YOVqwI515Wu8"
      },
      "outputs": [],
      "source": [
        "# Добавим новые столбцы с годом/месяцем и количеством дней в месяце\n",
        "customers_approved_orders['order_YM'] = customers_approved_orders.order_purchase_timestamp.dt.strftime('%Y-%m')\n",
        "customers_approved_orders['day_in_month'] = customers_approved_orders.order_purchase_timestamp.dt.days_in_month"
      ]
    },
    {
      "cell_type": "code",
      "execution_count": null,
      "metadata": {
        "id": "sboEcaUl5Wu8"
      },
      "outputs": [],
      "source": [
        "customers_approved_orders['order_M'] = customers_approved_orders.order_purchase_timestamp.dt.strftime('%B')"
      ]
    },
    {
      "cell_type": "code",
      "execution_count": null,
      "metadata": {
        "id": "MKgGQ4BQ5Wu8"
      },
      "outputs": [],
      "source": [
        "# Посчитаем количество недель в месяце\n",
        "customers_approved_orders['week_in_month'] = customers_approved_orders['day_in_month']/7"
      ]
    },
    {
      "cell_type": "code",
      "execution_count": null,
      "metadata": {
        "scrolled": false,
        "id": "T7GeLPo_5Wu8",
        "outputId": "9024ea15-0657-4620-b475-e7b8edba56ca"
      },
      "outputs": [
        {
          "data": {
            "text/html": [
              "<div>\n",
              "<style scoped>\n",
              "    .dataframe tbody tr th:only-of-type {\n",
              "        vertical-align: middle;\n",
              "    }\n",
              "\n",
              "    .dataframe tbody tr th {\n",
              "        vertical-align: top;\n",
              "    }\n",
              "\n",
              "    .dataframe thead th {\n",
              "        text-align: right;\n",
              "    }\n",
              "</style>\n",
              "<table border=\"1\" class=\"dataframe\">\n",
              "  <thead>\n",
              "    <tr style=\"text-align: right;\">\n",
              "      <th></th>\n",
              "      <th>customer_unique_id</th>\n",
              "      <th>order_YM</th>\n",
              "      <th>order_M</th>\n",
              "      <th>week_in_month</th>\n",
              "      <th>number_of_orders</th>\n",
              "    </tr>\n",
              "  </thead>\n",
              "  <tbody>\n",
              "    <tr>\n",
              "      <th>0</th>\n",
              "      <td>0000366f3b9a7992bf8c76cfdf3221e2</td>\n",
              "      <td>2018-05</td>\n",
              "      <td>May</td>\n",
              "      <td>4.428571</td>\n",
              "      <td>1</td>\n",
              "    </tr>\n",
              "    <tr>\n",
              "      <th>1</th>\n",
              "      <td>0000b849f77a49e4a4ce2b2a4ca5be3f</td>\n",
              "      <td>2018-05</td>\n",
              "      <td>May</td>\n",
              "      <td>4.428571</td>\n",
              "      <td>1</td>\n",
              "    </tr>\n",
              "    <tr>\n",
              "      <th>2</th>\n",
              "      <td>0000f46a3911fa3c0805444483337064</td>\n",
              "      <td>2017-03</td>\n",
              "      <td>March</td>\n",
              "      <td>4.428571</td>\n",
              "      <td>1</td>\n",
              "    </tr>\n",
              "  </tbody>\n",
              "</table>\n",
              "</div>"
            ],
            "text/plain": [
              "                 customer_unique_id order_YM order_M  week_in_month  \\\n",
              "0  0000366f3b9a7992bf8c76cfdf3221e2  2018-05     May       4.428571   \n",
              "1  0000b849f77a49e4a4ce2b2a4ca5be3f  2018-05     May       4.428571   \n",
              "2  0000f46a3911fa3c0805444483337064  2017-03   March       4.428571   \n",
              "\n",
              "   number_of_orders  \n",
              "0                 1  \n",
              "1                 1  \n",
              "2                 1  "
            ]
          },
          "execution_count": 57,
          "metadata": {},
          "output_type": "execute_result"
        }
      ],
      "source": [
        "# Посчитаем количество покупок в месяц\n",
        "per_week_monthly = customers_approved_orders.groupby(['customer_unique_id','order_YM', 'order_M', 'week_in_month'], as_index=False)\\\n",
        "                                            .agg({'order_purchase_timestamp':'count'})\\\n",
        "                                            .rename(columns = {'order_purchase_timestamp':'number_of_orders'})\\\n",
        "                                            .reset_index(drop=True)\n",
        "per_week_monthly.head(3)"
      ]
    },
    {
      "cell_type": "code",
      "execution_count": null,
      "metadata": {
        "scrolled": false,
        "id": "8dZ8E9w55Wu8",
        "outputId": "6c4d8a53-fbca-400a-bed4-cdd5a3df4625"
      },
      "outputs": [
        {
          "data": {
            "text/html": [
              "<div>\n",
              "<style scoped>\n",
              "    .dataframe tbody tr th:only-of-type {\n",
              "        vertical-align: middle;\n",
              "    }\n",
              "\n",
              "    .dataframe tbody tr th {\n",
              "        vertical-align: top;\n",
              "    }\n",
              "\n",
              "    .dataframe thead th {\n",
              "        text-align: right;\n",
              "    }\n",
              "</style>\n",
              "<table border=\"1\" class=\"dataframe\">\n",
              "  <thead>\n",
              "    <tr style=\"text-align: right;\">\n",
              "      <th></th>\n",
              "      <th>customer_unique_id</th>\n",
              "      <th>order_YM</th>\n",
              "      <th>order_M</th>\n",
              "      <th>week_in_month</th>\n",
              "      <th>number_of_orders</th>\n",
              "      <th>orders_per_week</th>\n",
              "    </tr>\n",
              "  </thead>\n",
              "  <tbody>\n",
              "    <tr>\n",
              "      <th>0</th>\n",
              "      <td>0000366f3b9a7992bf8c76cfdf3221e2</td>\n",
              "      <td>2018-05</td>\n",
              "      <td>May</td>\n",
              "      <td>4.4286</td>\n",
              "      <td>1</td>\n",
              "      <td>0.2258</td>\n",
              "    </tr>\n",
              "    <tr>\n",
              "      <th>1</th>\n",
              "      <td>0000b849f77a49e4a4ce2b2a4ca5be3f</td>\n",
              "      <td>2018-05</td>\n",
              "      <td>May</td>\n",
              "      <td>4.4286</td>\n",
              "      <td>1</td>\n",
              "      <td>0.2258</td>\n",
              "    </tr>\n",
              "    <tr>\n",
              "      <th>2</th>\n",
              "      <td>0000f46a3911fa3c0805444483337064</td>\n",
              "      <td>2017-03</td>\n",
              "      <td>March</td>\n",
              "      <td>4.4286</td>\n",
              "      <td>1</td>\n",
              "      <td>0.2258</td>\n",
              "    </tr>\n",
              "    <tr>\n",
              "      <th>3</th>\n",
              "      <td>0000f6ccb0745a6a4b88665a16c9f078</td>\n",
              "      <td>2017-10</td>\n",
              "      <td>October</td>\n",
              "      <td>4.4286</td>\n",
              "      <td>1</td>\n",
              "      <td>0.2258</td>\n",
              "    </tr>\n",
              "    <tr>\n",
              "      <th>4</th>\n",
              "      <td>0004aac84e0df4da2b147fca70cf8255</td>\n",
              "      <td>2017-11</td>\n",
              "      <td>November</td>\n",
              "      <td>4.2857</td>\n",
              "      <td>1</td>\n",
              "      <td>0.2333</td>\n",
              "    </tr>\n",
              "  </tbody>\n",
              "</table>\n",
              "</div>"
            ],
            "text/plain": [
              "                 customer_unique_id order_YM   order_M  week_in_month  \\\n",
              "0  0000366f3b9a7992bf8c76cfdf3221e2  2018-05       May         4.4286   \n",
              "1  0000b849f77a49e4a4ce2b2a4ca5be3f  2018-05       May         4.4286   \n",
              "2  0000f46a3911fa3c0805444483337064  2017-03     March         4.4286   \n",
              "3  0000f6ccb0745a6a4b88665a16c9f078  2017-10   October         4.4286   \n",
              "4  0004aac84e0df4da2b147fca70cf8255  2017-11  November         4.2857   \n",
              "\n",
              "   number_of_orders  orders_per_week  \n",
              "0                 1           0.2258  \n",
              "1                 1           0.2258  \n",
              "2                 1           0.2258  \n",
              "3                 1           0.2258  \n",
              "4                 1           0.2333  "
            ]
          },
          "execution_count": 58,
          "metadata": {},
          "output_type": "execute_result"
        }
      ],
      "source": [
        "# Посчитаем сколько покупок в неделю было по месяцам\n",
        "per_week_monthly['orders_per_week']= per_week_monthly.number_of_orders/per_week_monthly.week_in_month\n",
        "per_week_monthly = per_week_monthly.round(4)\n",
        "per_week_monthly.head()"
      ]
    },
    {
      "cell_type": "code",
      "execution_count": null,
      "metadata": {
        "scrolled": false,
        "id": "U9KmaUYx5Wu9",
        "outputId": "c042bd9b-eec6-43d3-de02-8c2d8b2d0faf"
      },
      "outputs": [
        {
          "data": {
            "text/plain": [
              "0.2258    58022\n",
              "0.2333    29571\n",
              "0.2500     7979\n",
              "0.4516      725\n",
              "0.4667      339\n",
              "0.5000      160\n",
              "0.6774       25\n",
              "0.7000       13\n",
              "0.7500        6\n",
              "1.0000        3\n",
              "0.9032        2\n",
              "0.9333        2\n",
              "1.3548        1\n",
              "Name: orders_per_week, dtype: int64"
            ]
          },
          "execution_count": 59,
          "metadata": {},
          "output_type": "execute_result"
        }
      ],
      "source": [
        "# Поссмотрим как часто встречаются те или иные значения\n",
        "per_week_monthly.sort_values(by='orders_per_week', ascending=True).orders_per_week.value_counts()"
      ]
    },
    {
      "cell_type": "code",
      "execution_count": null,
      "metadata": {
        "scrolled": false,
        "id": "igDxJUFC5Wu9",
        "outputId": "3c1fa72d-7324-4f81-ebf1-99e557341f9d"
      },
      "outputs": [
        {
          "data": {
            "text/plain": [
              "0.2258    59.910\n",
              "0.2333    30.533\n",
              "0.2500     8.239\n",
              "0.4516     0.749\n",
              "0.4667     0.350\n",
              "0.5000     0.165\n",
              "0.6774     0.026\n",
              "0.7000     0.013\n",
              "0.7500     0.006\n",
              "1.0000     0.003\n",
              "0.9032     0.002\n",
              "0.9333     0.002\n",
              "1.3548     0.001\n",
              "Name: orders_per_week, dtype: float64"
            ]
          },
          "execution_count": 60,
          "metadata": {},
          "output_type": "execute_result"
        }
      ],
      "source": [
        "# И то же самое в процентах\n",
        "round(per_week_monthly.sort_values(by='orders_per_week', ascending=True).orders_per_week.value_counts()*100/96848, 3)"
      ]
    },
    {
      "cell_type": "code",
      "execution_count": null,
      "metadata": {
        "scrolled": true,
        "id": "vuMuQPS_5Wu9",
        "outputId": "a4d82705-0789-40c1-fdde-c967fefe6311"
      },
      "outputs": [
        {
          "data": {
            "text/plain": [
              "count    96848.000\n",
              "mean         0.233\n",
              "std          0.029\n",
              "min          0.226\n",
              "25%          0.226\n",
              "50%          0.226\n",
              "75%          0.233\n",
              "max          1.355\n",
              "Name: orders_per_week, dtype: float64"
            ]
          },
          "execution_count": 61,
          "metadata": {},
          "output_type": "execute_result"
        }
      ],
      "source": [
        "per_week_monthly['orders_per_week'].describe().round(3)"
      ]
    },
    {
      "cell_type": "markdown",
      "metadata": {
        "id": "F4WO1_Qe5Wu9"
      },
      "source": [
        "### Получена таблица \"per_week_monthly\", в  которой расчитано среднее количество покупок в неделю  по месяцам, в которых совершилсь покупки.  \n",
        "### При том что 99% покупателей совершают покупку не чаще раза в месяц, и 96% пользователей совершили покупку только один раз, метрика, расчитанная на одного пользователя, кажется неинформативной."
      ]
    },
    {
      "cell_type": "markdown",
      "metadata": {
        "id": "SeXgsfZl5Wu-"
      },
      "source": [
        "<!--  -->"
      ]
    },
    {
      "cell_type": "markdown",
      "metadata": {
        "id": "4KcEQbl85Wu-"
      },
      "source": [
        "## 5. Используя pandas, проведи когортный анализ пользователей. В период с января по декабрь выяви когорту с самым высоким retention на 3й месяц."
      ]
    },
    {
      "cell_type": "code",
      "execution_count": null,
      "metadata": {
        "id": "xYm8r38s5Wu-",
        "outputId": "bf74fd37-4989-4b85-891a-c034d8bc069a"
      },
      "outputs": [
        {
          "data": {
            "text/plain": [
              "(Timestamp('2016-09-04 21:15:19'), Timestamp('2018-10-17 17:30:18'))"
            ]
          },
          "execution_count": 62,
          "metadata": {},
          "output_type": "execute_result"
        }
      ],
      "source": [
        "orders_time_min, orders_time_max"
      ]
    },
    {
      "cell_type": "markdown",
      "metadata": {
        "id": "MuTF_-955Wu-"
      },
      "source": [
        "Ориентируясь на диапазон дат, возьмём данные с января по декабрь 2017 и ещё 4 месяца, чтобы посчитать retention на 3й месяц."
      ]
    },
    {
      "cell_type": "code",
      "execution_count": null,
      "metadata": {
        "scrolled": false,
        "id": "0lVpTRE75Wu-"
      },
      "outputs": [],
      "source": [
        "df5 = customers_approved_orders[['customer_unique_id', 'customer_zip_code_prefix', 'order_YM']]\\\n",
        "                                               .query('\"2018-04\" >=order_YM >= \"2017-01\"  ')"
      ]
    },
    {
      "cell_type": "code",
      "execution_count": null,
      "metadata": {
        "id": "men5YVc15Wu_"
      },
      "outputs": [],
      "source": [
        "# Подготовим столбец с месяцами, в которые попадут следующии покупки пользователей\n",
        "month = df5.order_YM.sort_values(ascending=True).unique()\n",
        "month = pd.DataFrame(month).rename(columns= {0:'month'})"
      ]
    },
    {
      "cell_type": "code",
      "execution_count": null,
      "metadata": {
        "id": "C_Zmx2jw5Wu_"
      },
      "outputs": [],
      "source": [
        "# Подготовим таблицу, в которой будет обозначен месяц первой покупки\n",
        "customers_first_buy = df5.groupby('customer_unique_id', as_index=False).agg({'order_YM':'min'})"
      ]
    },
    {
      "cell_type": "code",
      "execution_count": null,
      "metadata": {
        "id": "kVEEGn5t5Wu_"
      },
      "outputs": [],
      "source": [
        "# Создадим столбец для последующего объединения датафреймов\n",
        "customers_first_buy['key'] = 1\n",
        "month['key']               = 1"
      ]
    },
    {
      "cell_type": "code",
      "execution_count": null,
      "metadata": {
        "id": "XAxC2mrO5Wu_"
      },
      "outputs": [],
      "source": [
        "# Этот датафрейм будет заготовкой для финального датафрейма retention\n",
        "template = customers_first_buy.merge(month, on='key')"
      ]
    },
    {
      "cell_type": "code",
      "execution_count": null,
      "metadata": {
        "scrolled": false,
        "id": "WgZSMIZF5Wu_",
        "outputId": "492cde0b-dfa0-41ee-cc8a-4440da516937"
      },
      "outputs": [
        {
          "data": {
            "text/html": [
              "<div>\n",
              "<style scoped>\n",
              "    .dataframe tbody tr th:only-of-type {\n",
              "        vertical-align: middle;\n",
              "    }\n",
              "\n",
              "    .dataframe tbody tr th {\n",
              "        vertical-align: top;\n",
              "    }\n",
              "\n",
              "    .dataframe thead th {\n",
              "        text-align: right;\n",
              "    }\n",
              "</style>\n",
              "<table border=\"1\" class=\"dataframe\">\n",
              "  <thead>\n",
              "    <tr style=\"text-align: right;\">\n",
              "      <th></th>\n",
              "      <th>customer_unique_id</th>\n",
              "      <th>order_YM</th>\n",
              "      <th>key</th>\n",
              "      <th>month</th>\n",
              "    </tr>\n",
              "  </thead>\n",
              "  <tbody>\n",
              "    <tr>\n",
              "      <th>2</th>\n",
              "      <td>0000f46a3911fa3c0805444483337064</td>\n",
              "      <td>2017-03</td>\n",
              "      <td>1</td>\n",
              "      <td>2017-03</td>\n",
              "    </tr>\n",
              "    <tr>\n",
              "      <th>3</th>\n",
              "      <td>0000f46a3911fa3c0805444483337064</td>\n",
              "      <td>2017-03</td>\n",
              "      <td>1</td>\n",
              "      <td>2017-04</td>\n",
              "    </tr>\n",
              "    <tr>\n",
              "      <th>4</th>\n",
              "      <td>0000f46a3911fa3c0805444483337064</td>\n",
              "      <td>2017-03</td>\n",
              "      <td>1</td>\n",
              "      <td>2017-05</td>\n",
              "    </tr>\n",
              "    <tr>\n",
              "      <th>5</th>\n",
              "      <td>0000f46a3911fa3c0805444483337064</td>\n",
              "      <td>2017-03</td>\n",
              "      <td>1</td>\n",
              "      <td>2017-06</td>\n",
              "    </tr>\n",
              "    <tr>\n",
              "      <th>6</th>\n",
              "      <td>0000f46a3911fa3c0805444483337064</td>\n",
              "      <td>2017-03</td>\n",
              "      <td>1</td>\n",
              "      <td>2017-07</td>\n",
              "    </tr>\n",
              "  </tbody>\n",
              "</table>\n",
              "</div>"
            ],
            "text/plain": [
              "                 customer_unique_id order_YM  key    month\n",
              "2  0000f46a3911fa3c0805444483337064  2017-03    1  2017-03\n",
              "3  0000f46a3911fa3c0805444483337064  2017-03    1  2017-04\n",
              "4  0000f46a3911fa3c0805444483337064  2017-03    1  2017-05\n",
              "5  0000f46a3911fa3c0805444483337064  2017-03    1  2017-06\n",
              "6  0000f46a3911fa3c0805444483337064  2017-03    1  2017-07"
            ]
          },
          "execution_count": 68,
          "metadata": {},
          "output_type": "execute_result"
        }
      ],
      "source": [
        "# Убираем месяцы предшествующие первой покупке\n",
        "template = template[template.month >= template.order_YM]\n",
        "template.head()"
      ]
    },
    {
      "cell_type": "code",
      "execution_count": null,
      "metadata": {
        "id": "ndAL8wm65Wu_",
        "outputId": "60f55c37-b1c9-4ee7-805a-a329facf9203"
      },
      "outputs": [
        {
          "data": {
            "text/html": [
              "<div>\n",
              "<style scoped>\n",
              "    .dataframe tbody tr th:only-of-type {\n",
              "        vertical-align: middle;\n",
              "    }\n",
              "\n",
              "    .dataframe tbody tr th {\n",
              "        vertical-align: top;\n",
              "    }\n",
              "\n",
              "    .dataframe thead th {\n",
              "        text-align: right;\n",
              "    }\n",
              "</style>\n",
              "<table border=\"1\" class=\"dataframe\">\n",
              "  <thead>\n",
              "    <tr style=\"text-align: right;\">\n",
              "      <th></th>\n",
              "      <th>customer_unique_id</th>\n",
              "      <th>customer_zip_code_prefix</th>\n",
              "      <th>month</th>\n",
              "    </tr>\n",
              "  </thead>\n",
              "  <tbody>\n",
              "    <tr>\n",
              "      <th>0</th>\n",
              "      <td>7c396fd4830fd04220f754e42b4e5bff</td>\n",
              "      <td>3149</td>\n",
              "      <td>2017-10</td>\n",
              "    </tr>\n",
              "    <tr>\n",
              "      <th>3</th>\n",
              "      <td>7c142cf63193a1473d2e66489a9ae977</td>\n",
              "      <td>59296</td>\n",
              "      <td>2017-11</td>\n",
              "    </tr>\n",
              "  </tbody>\n",
              "</table>\n",
              "</div>"
            ],
            "text/plain": [
              "                 customer_unique_id  customer_zip_code_prefix    month\n",
              "0  7c396fd4830fd04220f754e42b4e5bff                      3149  2017-10\n",
              "3  7c142cf63193a1473d2e66489a9ae977                     59296  2017-11"
            ]
          },
          "execution_count": 69,
          "metadata": {},
          "output_type": "execute_result"
        }
      ],
      "source": [
        "# Меняем в начальном датафрейме название колонки с месяцем,\n",
        "# чтобы провести в дальнейшем объединение по вспомогательной колонке month\n",
        "df5.columns = ['customer_unique_id', 'customer_zip_code_prefix', 'month']\n",
        "df5.head(2)"
      ]
    },
    {
      "cell_type": "code",
      "execution_count": null,
      "metadata": {
        "scrolled": true,
        "id": "pkijMOY-5WvA"
      },
      "outputs": [],
      "source": [
        "retention = template.merge(df5, how=\"left\", on=['customer_unique_id', 'month'])"
      ]
    },
    {
      "cell_type": "code",
      "execution_count": null,
      "metadata": {
        "id": "WupKulcq5WvA"
      },
      "outputs": [],
      "source": [
        "# Из столбца customer_zip_code_prefix формируем счётчик покупок\n",
        "retention['counter'] = (retention['customer_zip_code_prefix'] >0)*1"
      ]
    },
    {
      "cell_type": "code",
      "execution_count": null,
      "metadata": {
        "scrolled": true,
        "id": "yfP6CUZW5WvA",
        "outputId": "123da1ed-521a-4ef3-cece-c07fa46a30fd"
      },
      "outputs": [
        {
          "data": {
            "text/html": [
              "<div>\n",
              "<style scoped>\n",
              "    .dataframe tbody tr th:only-of-type {\n",
              "        vertical-align: middle;\n",
              "    }\n",
              "\n",
              "    .dataframe tbody tr th {\n",
              "        vertical-align: top;\n",
              "    }\n",
              "\n",
              "    .dataframe thead th {\n",
              "        text-align: right;\n",
              "    }\n",
              "</style>\n",
              "<table border=\"1\" class=\"dataframe\">\n",
              "  <thead>\n",
              "    <tr style=\"text-align: right;\">\n",
              "      <th></th>\n",
              "      <th>customer_unique_id</th>\n",
              "      <th>order_YM</th>\n",
              "      <th>key</th>\n",
              "      <th>month</th>\n",
              "      <th>customer_zip_code_prefix</th>\n",
              "      <th>counter</th>\n",
              "    </tr>\n",
              "  </thead>\n",
              "  <tbody>\n",
              "    <tr>\n",
              "      <th>0</th>\n",
              "      <td>0000f46a3911fa3c0805444483337064</td>\n",
              "      <td>2017-03</td>\n",
              "      <td>1</td>\n",
              "      <td>2017-03</td>\n",
              "      <td>88115.0</td>\n",
              "      <td>1</td>\n",
              "    </tr>\n",
              "    <tr>\n",
              "      <th>1</th>\n",
              "      <td>0000f46a3911fa3c0805444483337064</td>\n",
              "      <td>2017-03</td>\n",
              "      <td>1</td>\n",
              "      <td>2017-04</td>\n",
              "      <td>NaN</td>\n",
              "      <td>0</td>\n",
              "    </tr>\n",
              "  </tbody>\n",
              "</table>\n",
              "</div>"
            ],
            "text/plain": [
              "                 customer_unique_id order_YM  key    month  \\\n",
              "0  0000f46a3911fa3c0805444483337064  2017-03    1  2017-03   \n",
              "1  0000f46a3911fa3c0805444483337064  2017-03    1  2017-04   \n",
              "\n",
              "   customer_zip_code_prefix  counter  \n",
              "0                   88115.0        1  \n",
              "1                       NaN        0  "
            ]
          },
          "execution_count": 72,
          "metadata": {},
          "output_type": "execute_result"
        }
      ],
      "source": [
        "retention.head(2)"
      ]
    },
    {
      "cell_type": "code",
      "execution_count": null,
      "metadata": {
        "scrolled": true,
        "id": "L-QhiQxs5WvA"
      },
      "outputs": [],
      "source": [
        "# Избавляемся от лишних столбцов\n",
        "retention = retention[['customer_unique_id', 'order_YM', 'month', 'counter']]"
      ]
    },
    {
      "cell_type": "code",
      "execution_count": null,
      "metadata": {
        "scrolled": true,
        "id": "zFkdGVyv5WvA"
      },
      "outputs": [],
      "source": [
        "# retention будем выражать в процентах\n",
        "retention_by_month = round(100*retention.pivot_table(index='order_YM', columns='month', values='counter', aggfunc='mean'), 2)"
      ]
    },
    {
      "cell_type": "code",
      "execution_count": null,
      "metadata": {
        "scrolled": false,
        "id": "PKJVDwN75WvA",
        "outputId": "e3d09a34-51f3-4813-9a8d-1e6df48f5e89"
      },
      "outputs": [
        {
          "data": {
            "text/html": [
              "<div>\n",
              "<style scoped>\n",
              "    .dataframe tbody tr th:only-of-type {\n",
              "        vertical-align: middle;\n",
              "    }\n",
              "\n",
              "    .dataframe tbody tr th {\n",
              "        vertical-align: top;\n",
              "    }\n",
              "\n",
              "    .dataframe thead th {\n",
              "        text-align: right;\n",
              "    }\n",
              "</style>\n",
              "<table border=\"1\" class=\"dataframe\">\n",
              "  <thead>\n",
              "    <tr style=\"text-align: right;\">\n",
              "      <th>month</th>\n",
              "      <th>2017-01</th>\n",
              "      <th>2017-02</th>\n",
              "      <th>2017-03</th>\n",
              "      <th>2017-04</th>\n",
              "      <th>2017-05</th>\n",
              "      <th>2017-06</th>\n",
              "      <th>2017-07</th>\n",
              "      <th>2017-08</th>\n",
              "      <th>2017-09</th>\n",
              "      <th>2017-10</th>\n",
              "      <th>2017-11</th>\n",
              "      <th>2017-12</th>\n",
              "      <th>2018-01</th>\n",
              "      <th>2018-02</th>\n",
              "      <th>2018-03</th>\n",
              "      <th>2018-04</th>\n",
              "    </tr>\n",
              "    <tr>\n",
              "      <th>order_YM</th>\n",
              "      <th></th>\n",
              "      <th></th>\n",
              "      <th></th>\n",
              "      <th></th>\n",
              "      <th></th>\n",
              "      <th></th>\n",
              "      <th></th>\n",
              "      <th></th>\n",
              "      <th></th>\n",
              "      <th></th>\n",
              "      <th></th>\n",
              "      <th></th>\n",
              "      <th></th>\n",
              "      <th></th>\n",
              "      <th></th>\n",
              "      <th></th>\n",
              "    </tr>\n",
              "  </thead>\n",
              "  <tbody>\n",
              "    <tr>\n",
              "      <th>2017-01</th>\n",
              "      <td>100.0</td>\n",
              "      <td>0.4</td>\n",
              "      <td>0.27</td>\n",
              "      <td>0.13</td>\n",
              "      <td>0.40</td>\n",
              "      <td>0.13</td>\n",
              "      <td>0.40</td>\n",
              "      <td>0.13</td>\n",
              "      <td>0.13</td>\n",
              "      <td>0.00</td>\n",
              "      <td>0.40</td>\n",
              "      <td>0.13</td>\n",
              "      <td>0.67</td>\n",
              "      <td>0.40</td>\n",
              "      <td>0.13</td>\n",
              "      <td>0.13</td>\n",
              "    </tr>\n",
              "    <tr>\n",
              "      <th>2017-02</th>\n",
              "      <td>NaN</td>\n",
              "      <td>100.0</td>\n",
              "      <td>0.24</td>\n",
              "      <td>0.30</td>\n",
              "      <td>0.12</td>\n",
              "      <td>0.42</td>\n",
              "      <td>0.12</td>\n",
              "      <td>0.24</td>\n",
              "      <td>0.18</td>\n",
              "      <td>0.06</td>\n",
              "      <td>0.18</td>\n",
              "      <td>0.12</td>\n",
              "      <td>0.30</td>\n",
              "      <td>0.12</td>\n",
              "      <td>0.18</td>\n",
              "      <td>0.12</td>\n",
              "    </tr>\n",
              "    <tr>\n",
              "      <th>2017-03</th>\n",
              "      <td>NaN</td>\n",
              "      <td>NaN</td>\n",
              "      <td>100.00</td>\n",
              "      <td>0.54</td>\n",
              "      <td>0.35</td>\n",
              "      <td>0.47</td>\n",
              "      <td>0.35</td>\n",
              "      <td>0.16</td>\n",
              "      <td>0.16</td>\n",
              "      <td>0.31</td>\n",
              "      <td>0.35</td>\n",
              "      <td>0.08</td>\n",
              "      <td>0.39</td>\n",
              "      <td>0.12</td>\n",
              "      <td>0.23</td>\n",
              "      <td>0.12</td>\n",
              "    </tr>\n",
              "    <tr>\n",
              "      <th>2017-04</th>\n",
              "      <td>NaN</td>\n",
              "      <td>NaN</td>\n",
              "      <td>NaN</td>\n",
              "      <td>100.00</td>\n",
              "      <td>0.64</td>\n",
              "      <td>0.26</td>\n",
              "      <td>0.21</td>\n",
              "      <td>0.30</td>\n",
              "      <td>0.26</td>\n",
              "      <td>0.39</td>\n",
              "      <td>0.30</td>\n",
              "      <td>0.30</td>\n",
              "      <td>0.17</td>\n",
              "      <td>0.26</td>\n",
              "      <td>0.09</td>\n",
              "      <td>0.09</td>\n",
              "    </tr>\n",
              "    <tr>\n",
              "      <th>2017-05</th>\n",
              "      <td>NaN</td>\n",
              "      <td>NaN</td>\n",
              "      <td>NaN</td>\n",
              "      <td>NaN</td>\n",
              "      <td>100.00</td>\n",
              "      <td>0.51</td>\n",
              "      <td>0.51</td>\n",
              "      <td>0.40</td>\n",
              "      <td>0.31</td>\n",
              "      <td>0.40</td>\n",
              "      <td>0.48</td>\n",
              "      <td>0.14</td>\n",
              "      <td>0.25</td>\n",
              "      <td>0.31</td>\n",
              "      <td>0.25</td>\n",
              "      <td>0.34</td>\n",
              "    </tr>\n",
              "    <tr>\n",
              "      <th>2017-06</th>\n",
              "      <td>NaN</td>\n",
              "      <td>NaN</td>\n",
              "      <td>NaN</td>\n",
              "      <td>NaN</td>\n",
              "      <td>NaN</td>\n",
              "      <td>100.00</td>\n",
              "      <td>0.45</td>\n",
              "      <td>0.39</td>\n",
              "      <td>0.39</td>\n",
              "      <td>0.26</td>\n",
              "      <td>0.39</td>\n",
              "      <td>0.35</td>\n",
              "      <td>0.23</td>\n",
              "      <td>0.13</td>\n",
              "      <td>0.23</td>\n",
              "      <td>0.32</td>\n",
              "    </tr>\n",
              "    <tr>\n",
              "      <th>2017-07</th>\n",
              "      <td>NaN</td>\n",
              "      <td>NaN</td>\n",
              "      <td>NaN</td>\n",
              "      <td>NaN</td>\n",
              "      <td>NaN</td>\n",
              "      <td>NaN</td>\n",
              "      <td>100.00</td>\n",
              "      <td>0.58</td>\n",
              "      <td>0.34</td>\n",
              "      <td>0.24</td>\n",
              "      <td>0.34</td>\n",
              "      <td>0.21</td>\n",
              "      <td>0.31</td>\n",
              "      <td>0.10</td>\n",
              "      <td>0.21</td>\n",
              "      <td>0.29</td>\n",
              "    </tr>\n",
              "    <tr>\n",
              "      <th>2017-08</th>\n",
              "      <td>NaN</td>\n",
              "      <td>NaN</td>\n",
              "      <td>NaN</td>\n",
              "      <td>NaN</td>\n",
              "      <td>NaN</td>\n",
              "      <td>NaN</td>\n",
              "      <td>NaN</td>\n",
              "      <td>100.00</td>\n",
              "      <td>0.70</td>\n",
              "      <td>0.39</td>\n",
              "      <td>0.27</td>\n",
              "      <td>0.36</td>\n",
              "      <td>0.58</td>\n",
              "      <td>0.29</td>\n",
              "      <td>0.27</td>\n",
              "      <td>0.15</td>\n",
              "    </tr>\n",
              "    <tr>\n",
              "      <th>2017-09</th>\n",
              "      <td>NaN</td>\n",
              "      <td>NaN</td>\n",
              "      <td>NaN</td>\n",
              "      <td>NaN</td>\n",
              "      <td>NaN</td>\n",
              "      <td>NaN</td>\n",
              "      <td>NaN</td>\n",
              "      <td>NaN</td>\n",
              "      <td>100.00</td>\n",
              "      <td>0.69</td>\n",
              "      <td>0.54</td>\n",
              "      <td>0.39</td>\n",
              "      <td>0.44</td>\n",
              "      <td>0.32</td>\n",
              "      <td>0.22</td>\n",
              "      <td>0.25</td>\n",
              "    </tr>\n",
              "    <tr>\n",
              "      <th>2017-10</th>\n",
              "      <td>NaN</td>\n",
              "      <td>NaN</td>\n",
              "      <td>NaN</td>\n",
              "      <td>NaN</td>\n",
              "      <td>NaN</td>\n",
              "      <td>NaN</td>\n",
              "      <td>NaN</td>\n",
              "      <td>NaN</td>\n",
              "      <td>NaN</td>\n",
              "      <td>100.00</td>\n",
              "      <td>0.75</td>\n",
              "      <td>0.25</td>\n",
              "      <td>0.09</td>\n",
              "      <td>0.25</td>\n",
              "      <td>0.20</td>\n",
              "      <td>0.20</td>\n",
              "    </tr>\n",
              "    <tr>\n",
              "      <th>2017-11</th>\n",
              "      <td>NaN</td>\n",
              "      <td>NaN</td>\n",
              "      <td>NaN</td>\n",
              "      <td>NaN</td>\n",
              "      <td>NaN</td>\n",
              "      <td>NaN</td>\n",
              "      <td>NaN</td>\n",
              "      <td>NaN</td>\n",
              "      <td>NaN</td>\n",
              "      <td>NaN</td>\n",
              "      <td>100.00</td>\n",
              "      <td>0.58</td>\n",
              "      <td>0.40</td>\n",
              "      <td>0.17</td>\n",
              "      <td>0.19</td>\n",
              "      <td>0.19</td>\n",
              "    </tr>\n",
              "    <tr>\n",
              "      <th>2017-12</th>\n",
              "      <td>NaN</td>\n",
              "      <td>NaN</td>\n",
              "      <td>NaN</td>\n",
              "      <td>NaN</td>\n",
              "      <td>NaN</td>\n",
              "      <td>NaN</td>\n",
              "      <td>NaN</td>\n",
              "      <td>NaN</td>\n",
              "      <td>NaN</td>\n",
              "      <td>NaN</td>\n",
              "      <td>NaN</td>\n",
              "      <td>100.00</td>\n",
              "      <td>0.22</td>\n",
              "      <td>0.29</td>\n",
              "      <td>0.40</td>\n",
              "      <td>0.26</td>\n",
              "    </tr>\n",
              "    <tr>\n",
              "      <th>2018-01</th>\n",
              "      <td>NaN</td>\n",
              "      <td>NaN</td>\n",
              "      <td>NaN</td>\n",
              "      <td>NaN</td>\n",
              "      <td>NaN</td>\n",
              "      <td>NaN</td>\n",
              "      <td>NaN</td>\n",
              "      <td>NaN</td>\n",
              "      <td>NaN</td>\n",
              "      <td>NaN</td>\n",
              "      <td>NaN</td>\n",
              "      <td>NaN</td>\n",
              "      <td>100.00</td>\n",
              "      <td>0.33</td>\n",
              "      <td>0.36</td>\n",
              "      <td>0.29</td>\n",
              "    </tr>\n",
              "    <tr>\n",
              "      <th>2018-02</th>\n",
              "      <td>NaN</td>\n",
              "      <td>NaN</td>\n",
              "      <td>NaN</td>\n",
              "      <td>NaN</td>\n",
              "      <td>NaN</td>\n",
              "      <td>NaN</td>\n",
              "      <td>NaN</td>\n",
              "      <td>NaN</td>\n",
              "      <td>NaN</td>\n",
              "      <td>NaN</td>\n",
              "      <td>NaN</td>\n",
              "      <td>NaN</td>\n",
              "      <td>NaN</td>\n",
              "      <td>100.00</td>\n",
              "      <td>0.36</td>\n",
              "      <td>0.41</td>\n",
              "    </tr>\n",
              "    <tr>\n",
              "      <th>2018-03</th>\n",
              "      <td>NaN</td>\n",
              "      <td>NaN</td>\n",
              "      <td>NaN</td>\n",
              "      <td>NaN</td>\n",
              "      <td>NaN</td>\n",
              "      <td>NaN</td>\n",
              "      <td>NaN</td>\n",
              "      <td>NaN</td>\n",
              "      <td>NaN</td>\n",
              "      <td>NaN</td>\n",
              "      <td>NaN</td>\n",
              "      <td>NaN</td>\n",
              "      <td>NaN</td>\n",
              "      <td>NaN</td>\n",
              "      <td>100.00</td>\n",
              "      <td>0.40</td>\n",
              "    </tr>\n",
              "    <tr>\n",
              "      <th>2018-04</th>\n",
              "      <td>NaN</td>\n",
              "      <td>NaN</td>\n",
              "      <td>NaN</td>\n",
              "      <td>NaN</td>\n",
              "      <td>NaN</td>\n",
              "      <td>NaN</td>\n",
              "      <td>NaN</td>\n",
              "      <td>NaN</td>\n",
              "      <td>NaN</td>\n",
              "      <td>NaN</td>\n",
              "      <td>NaN</td>\n",
              "      <td>NaN</td>\n",
              "      <td>NaN</td>\n",
              "      <td>NaN</td>\n",
              "      <td>NaN</td>\n",
              "      <td>100.00</td>\n",
              "    </tr>\n",
              "  </tbody>\n",
              "</table>\n",
              "</div>"
            ],
            "text/plain": [
              "month     2017-01  2017-02  2017-03  2017-04  2017-05  2017-06  2017-07  \\\n",
              "order_YM                                                                  \n",
              "2017-01     100.0      0.4     0.27     0.13     0.40     0.13     0.40   \n",
              "2017-02       NaN    100.0     0.24     0.30     0.12     0.42     0.12   \n",
              "2017-03       NaN      NaN   100.00     0.54     0.35     0.47     0.35   \n",
              "2017-04       NaN      NaN      NaN   100.00     0.64     0.26     0.21   \n",
              "2017-05       NaN      NaN      NaN      NaN   100.00     0.51     0.51   \n",
              "2017-06       NaN      NaN      NaN      NaN      NaN   100.00     0.45   \n",
              "2017-07       NaN      NaN      NaN      NaN      NaN      NaN   100.00   \n",
              "2017-08       NaN      NaN      NaN      NaN      NaN      NaN      NaN   \n",
              "2017-09       NaN      NaN      NaN      NaN      NaN      NaN      NaN   \n",
              "2017-10       NaN      NaN      NaN      NaN      NaN      NaN      NaN   \n",
              "2017-11       NaN      NaN      NaN      NaN      NaN      NaN      NaN   \n",
              "2017-12       NaN      NaN      NaN      NaN      NaN      NaN      NaN   \n",
              "2018-01       NaN      NaN      NaN      NaN      NaN      NaN      NaN   \n",
              "2018-02       NaN      NaN      NaN      NaN      NaN      NaN      NaN   \n",
              "2018-03       NaN      NaN      NaN      NaN      NaN      NaN      NaN   \n",
              "2018-04       NaN      NaN      NaN      NaN      NaN      NaN      NaN   \n",
              "\n",
              "month     2017-08  2017-09  2017-10  2017-11  2017-12  2018-01  2018-02  \\\n",
              "order_YM                                                                  \n",
              "2017-01      0.13     0.13     0.00     0.40     0.13     0.67     0.40   \n",
              "2017-02      0.24     0.18     0.06     0.18     0.12     0.30     0.12   \n",
              "2017-03      0.16     0.16     0.31     0.35     0.08     0.39     0.12   \n",
              "2017-04      0.30     0.26     0.39     0.30     0.30     0.17     0.26   \n",
              "2017-05      0.40     0.31     0.40     0.48     0.14     0.25     0.31   \n",
              "2017-06      0.39     0.39     0.26     0.39     0.35     0.23     0.13   \n",
              "2017-07      0.58     0.34     0.24     0.34     0.21     0.31     0.10   \n",
              "2017-08    100.00     0.70     0.39     0.27     0.36     0.58     0.29   \n",
              "2017-09       NaN   100.00     0.69     0.54     0.39     0.44     0.32   \n",
              "2017-10       NaN      NaN   100.00     0.75     0.25     0.09     0.25   \n",
              "2017-11       NaN      NaN      NaN   100.00     0.58     0.40     0.17   \n",
              "2017-12       NaN      NaN      NaN      NaN   100.00     0.22     0.29   \n",
              "2018-01       NaN      NaN      NaN      NaN      NaN   100.00     0.33   \n",
              "2018-02       NaN      NaN      NaN      NaN      NaN      NaN   100.00   \n",
              "2018-03       NaN      NaN      NaN      NaN      NaN      NaN      NaN   \n",
              "2018-04       NaN      NaN      NaN      NaN      NaN      NaN      NaN   \n",
              "\n",
              "month     2018-03  2018-04  \n",
              "order_YM                    \n",
              "2017-01      0.13     0.13  \n",
              "2017-02      0.18     0.12  \n",
              "2017-03      0.23     0.12  \n",
              "2017-04      0.09     0.09  \n",
              "2017-05      0.25     0.34  \n",
              "2017-06      0.23     0.32  \n",
              "2017-07      0.21     0.29  \n",
              "2017-08      0.27     0.15  \n",
              "2017-09      0.22     0.25  \n",
              "2017-10      0.20     0.20  \n",
              "2017-11      0.19     0.19  \n",
              "2017-12      0.40     0.26  \n",
              "2018-01      0.36     0.29  \n",
              "2018-02      0.36     0.41  \n",
              "2018-03    100.00     0.40  \n",
              "2018-04       NaN   100.00  "
            ]
          },
          "execution_count": 75,
          "metadata": {},
          "output_type": "execute_result"
        }
      ],
      "source": [
        "# Результат получили, но хотелось бы привести таблицу к более удобному для восприятия виду\n",
        "retention_by_month"
      ]
    },
    {
      "cell_type": "code",
      "execution_count": null,
      "metadata": {
        "id": "UgcbhVv35WvA",
        "outputId": "db2e83ad-3b47-4480-e1a3-3abb73640810"
      },
      "outputs": [
        {
          "data": {
            "text/plain": [
              "customer_unique_id    object\n",
              "order_YM              object\n",
              "month                 object\n",
              "counter                int64\n",
              "dtype: object"
            ]
          },
          "execution_count": 76,
          "metadata": {},
          "output_type": "execute_result"
        }
      ],
      "source": [
        "retention.dtypes"
      ]
    },
    {
      "cell_type": "code",
      "execution_count": null,
      "metadata": {
        "id": "XlCLof0M5WvB"
      },
      "outputs": [],
      "source": [
        "retention.dtypes\n",
        "retention.order_YM = pd.to_datetime(retention.order_YM, format='%Y-%m', errors='coerce')\n",
        "retention.month    = pd.to_datetime(retention.month,    format='%Y-%m', errors='coerce')"
      ]
    },
    {
      "cell_type": "code",
      "execution_count": null,
      "metadata": {
        "id": "vFBt5YDv5WvB",
        "outputId": "5c5b624c-cc78-438f-870c-8fa478a138b2"
      },
      "outputs": [
        {
          "data": {
            "text/html": [
              "<div>\n",
              "<style scoped>\n",
              "    .dataframe tbody tr th:only-of-type {\n",
              "        vertical-align: middle;\n",
              "    }\n",
              "\n",
              "    .dataframe tbody tr th {\n",
              "        vertical-align: top;\n",
              "    }\n",
              "\n",
              "    .dataframe thead th {\n",
              "        text-align: right;\n",
              "    }\n",
              "</style>\n",
              "<table border=\"1\" class=\"dataframe\">\n",
              "  <thead>\n",
              "    <tr style=\"text-align: right;\">\n",
              "      <th></th>\n",
              "      <th>customer_unique_id</th>\n",
              "      <th>order_YM</th>\n",
              "      <th>month</th>\n",
              "      <th>counter</th>\n",
              "      <th>months_passed</th>\n",
              "    </tr>\n",
              "  </thead>\n",
              "  <tbody>\n",
              "    <tr>\n",
              "      <th>0</th>\n",
              "      <td>0000f46a3911fa3c0805444483337064</td>\n",
              "      <td>2017-03-01</td>\n",
              "      <td>2017-03-01</td>\n",
              "      <td>1</td>\n",
              "      <td>0</td>\n",
              "    </tr>\n",
              "    <tr>\n",
              "      <th>1</th>\n",
              "      <td>0000f46a3911fa3c0805444483337064</td>\n",
              "      <td>2017-03-01</td>\n",
              "      <td>2017-04-01</td>\n",
              "      <td>0</td>\n",
              "      <td>1</td>\n",
              "    </tr>\n",
              "    <tr>\n",
              "      <th>2</th>\n",
              "      <td>0000f46a3911fa3c0805444483337064</td>\n",
              "      <td>2017-03-01</td>\n",
              "      <td>2017-05-01</td>\n",
              "      <td>0</td>\n",
              "      <td>2</td>\n",
              "    </tr>\n",
              "  </tbody>\n",
              "</table>\n",
              "</div>"
            ],
            "text/plain": [
              "                 customer_unique_id   order_YM      month  counter  \\\n",
              "0  0000f46a3911fa3c0805444483337064 2017-03-01 2017-03-01        1   \n",
              "1  0000f46a3911fa3c0805444483337064 2017-03-01 2017-04-01        0   \n",
              "2  0000f46a3911fa3c0805444483337064 2017-03-01 2017-05-01        0   \n",
              "\n",
              "   months_passed  \n",
              "0              0  \n",
              "1              1  \n",
              "2              2  "
            ]
          },
          "execution_count": 78,
          "metadata": {},
          "output_type": "execute_result"
        }
      ],
      "source": [
        "# Посчитаем номер каждого следующего месяца за месяцем первой покупки\n",
        "retention['months_passed'] = ((retention['month'] - retention['order_YM'])/np.timedelta64(1, 'M')).round().astype(int)\n",
        "retention.head(3)"
      ]
    },
    {
      "cell_type": "code",
      "execution_count": null,
      "metadata": {
        "id": "0-bVksSG5WvB"
      },
      "outputs": [],
      "source": [
        "retention.order_YM = retention.order_YM.dt.strftime('%Y-%m')\n",
        "retention.month    = retention.month.dt.strftime('%Y-%m')"
      ]
    },
    {
      "cell_type": "code",
      "execution_count": null,
      "metadata": {
        "id": "AwKiXrVD5WvB"
      },
      "outputs": [],
      "source": [
        "# Построим таблицу с номером прошедшего месяца в качестве индекса столбцов. Снова выразим retention в процентах\n",
        "retention_by_months_passed = round(100*retention.pivot_table(index='order_YM', columns='months_passed', values='counter', aggfunc='mean'), 2)\n",
        "# Оставим только нужный диапазон\n",
        "retention_by_months_passed = retention_by_months_passed['2017-01-01':'2017-12-01']"
      ]
    },
    {
      "cell_type": "code",
      "execution_count": null,
      "metadata": {
        "scrolled": true,
        "id": "YoDyyJes5WvB",
        "outputId": "14292189-a09d-46ec-dca9-e66350e8228b"
      },
      "outputs": [
        {
          "data": {
            "text/html": [
              "<div>\n",
              "<style scoped>\n",
              "    .dataframe tbody tr th:only-of-type {\n",
              "        vertical-align: middle;\n",
              "    }\n",
              "\n",
              "    .dataframe tbody tr th {\n",
              "        vertical-align: top;\n",
              "    }\n",
              "\n",
              "    .dataframe thead th {\n",
              "        text-align: right;\n",
              "    }\n",
              "</style>\n",
              "<table border=\"1\" class=\"dataframe\">\n",
              "  <thead>\n",
              "    <tr style=\"text-align: right;\">\n",
              "      <th>months_passed</th>\n",
              "      <th>0</th>\n",
              "      <th>1</th>\n",
              "      <th>2</th>\n",
              "      <th>3</th>\n",
              "      <th>4</th>\n",
              "      <th>5</th>\n",
              "      <th>6</th>\n",
              "      <th>7</th>\n",
              "      <th>8</th>\n",
              "      <th>9</th>\n",
              "      <th>10</th>\n",
              "      <th>11</th>\n",
              "      <th>12</th>\n",
              "      <th>13</th>\n",
              "      <th>14</th>\n",
              "      <th>15</th>\n",
              "    </tr>\n",
              "    <tr>\n",
              "      <th>order_YM</th>\n",
              "      <th></th>\n",
              "      <th></th>\n",
              "      <th></th>\n",
              "      <th></th>\n",
              "      <th></th>\n",
              "      <th></th>\n",
              "      <th></th>\n",
              "      <th></th>\n",
              "      <th></th>\n",
              "      <th></th>\n",
              "      <th></th>\n",
              "      <th></th>\n",
              "      <th></th>\n",
              "      <th></th>\n",
              "      <th></th>\n",
              "      <th></th>\n",
              "    </tr>\n",
              "  </thead>\n",
              "  <tbody>\n",
              "    <tr>\n",
              "      <th>2017-02</th>\n",
              "      <td>100.0</td>\n",
              "      <td>0.24</td>\n",
              "      <td>0.30</td>\n",
              "      <td>0.12</td>\n",
              "      <td>0.42</td>\n",
              "      <td>0.12</td>\n",
              "      <td>0.24</td>\n",
              "      <td>0.18</td>\n",
              "      <td>0.06</td>\n",
              "      <td>0.18</td>\n",
              "      <td>0.12</td>\n",
              "      <td>0.30</td>\n",
              "      <td>0.12</td>\n",
              "      <td>0.18</td>\n",
              "      <td>0.12</td>\n",
              "      <td>NaN</td>\n",
              "    </tr>\n",
              "    <tr>\n",
              "      <th>2017-03</th>\n",
              "      <td>100.0</td>\n",
              "      <td>0.54</td>\n",
              "      <td>0.35</td>\n",
              "      <td>0.47</td>\n",
              "      <td>0.35</td>\n",
              "      <td>0.16</td>\n",
              "      <td>0.16</td>\n",
              "      <td>0.31</td>\n",
              "      <td>0.35</td>\n",
              "      <td>0.08</td>\n",
              "      <td>0.39</td>\n",
              "      <td>0.12</td>\n",
              "      <td>0.23</td>\n",
              "      <td>0.12</td>\n",
              "      <td>NaN</td>\n",
              "      <td>NaN</td>\n",
              "    </tr>\n",
              "    <tr>\n",
              "      <th>2017-04</th>\n",
              "      <td>100.0</td>\n",
              "      <td>0.64</td>\n",
              "      <td>0.26</td>\n",
              "      <td>0.21</td>\n",
              "      <td>0.30</td>\n",
              "      <td>0.26</td>\n",
              "      <td>0.39</td>\n",
              "      <td>0.30</td>\n",
              "      <td>0.30</td>\n",
              "      <td>0.17</td>\n",
              "      <td>0.26</td>\n",
              "      <td>0.09</td>\n",
              "      <td>0.09</td>\n",
              "      <td>NaN</td>\n",
              "      <td>NaN</td>\n",
              "      <td>NaN</td>\n",
              "    </tr>\n",
              "    <tr>\n",
              "      <th>2017-05</th>\n",
              "      <td>100.0</td>\n",
              "      <td>0.51</td>\n",
              "      <td>0.51</td>\n",
              "      <td>0.40</td>\n",
              "      <td>0.31</td>\n",
              "      <td>0.40</td>\n",
              "      <td>0.48</td>\n",
              "      <td>0.14</td>\n",
              "      <td>0.25</td>\n",
              "      <td>0.31</td>\n",
              "      <td>0.25</td>\n",
              "      <td>0.34</td>\n",
              "      <td>NaN</td>\n",
              "      <td>NaN</td>\n",
              "      <td>NaN</td>\n",
              "      <td>NaN</td>\n",
              "    </tr>\n",
              "    <tr>\n",
              "      <th>2017-06</th>\n",
              "      <td>100.0</td>\n",
              "      <td>0.45</td>\n",
              "      <td>0.39</td>\n",
              "      <td>0.39</td>\n",
              "      <td>0.26</td>\n",
              "      <td>0.39</td>\n",
              "      <td>0.35</td>\n",
              "      <td>0.23</td>\n",
              "      <td>0.13</td>\n",
              "      <td>0.23</td>\n",
              "      <td>0.32</td>\n",
              "      <td>NaN</td>\n",
              "      <td>NaN</td>\n",
              "      <td>NaN</td>\n",
              "      <td>NaN</td>\n",
              "      <td>NaN</td>\n",
              "    </tr>\n",
              "    <tr>\n",
              "      <th>2017-07</th>\n",
              "      <td>100.0</td>\n",
              "      <td>0.58</td>\n",
              "      <td>0.34</td>\n",
              "      <td>0.24</td>\n",
              "      <td>0.34</td>\n",
              "      <td>0.21</td>\n",
              "      <td>0.31</td>\n",
              "      <td>0.10</td>\n",
              "      <td>0.21</td>\n",
              "      <td>0.29</td>\n",
              "      <td>NaN</td>\n",
              "      <td>NaN</td>\n",
              "      <td>NaN</td>\n",
              "      <td>NaN</td>\n",
              "      <td>NaN</td>\n",
              "      <td>NaN</td>\n",
              "    </tr>\n",
              "    <tr>\n",
              "      <th>2017-08</th>\n",
              "      <td>100.0</td>\n",
              "      <td>0.70</td>\n",
              "      <td>0.39</td>\n",
              "      <td>0.27</td>\n",
              "      <td>0.36</td>\n",
              "      <td>0.58</td>\n",
              "      <td>0.29</td>\n",
              "      <td>0.27</td>\n",
              "      <td>0.15</td>\n",
              "      <td>NaN</td>\n",
              "      <td>NaN</td>\n",
              "      <td>NaN</td>\n",
              "      <td>NaN</td>\n",
              "      <td>NaN</td>\n",
              "      <td>NaN</td>\n",
              "      <td>NaN</td>\n",
              "    </tr>\n",
              "    <tr>\n",
              "      <th>2017-09</th>\n",
              "      <td>100.0</td>\n",
              "      <td>0.69</td>\n",
              "      <td>0.54</td>\n",
              "      <td>0.39</td>\n",
              "      <td>0.44</td>\n",
              "      <td>0.32</td>\n",
              "      <td>0.22</td>\n",
              "      <td>0.25</td>\n",
              "      <td>NaN</td>\n",
              "      <td>NaN</td>\n",
              "      <td>NaN</td>\n",
              "      <td>NaN</td>\n",
              "      <td>NaN</td>\n",
              "      <td>NaN</td>\n",
              "      <td>NaN</td>\n",
              "      <td>NaN</td>\n",
              "    </tr>\n",
              "    <tr>\n",
              "      <th>2017-10</th>\n",
              "      <td>100.0</td>\n",
              "      <td>0.75</td>\n",
              "      <td>0.25</td>\n",
              "      <td>0.09</td>\n",
              "      <td>0.25</td>\n",
              "      <td>0.20</td>\n",
              "      <td>0.20</td>\n",
              "      <td>NaN</td>\n",
              "      <td>NaN</td>\n",
              "      <td>NaN</td>\n",
              "      <td>NaN</td>\n",
              "      <td>NaN</td>\n",
              "      <td>NaN</td>\n",
              "      <td>NaN</td>\n",
              "      <td>NaN</td>\n",
              "      <td>NaN</td>\n",
              "    </tr>\n",
              "    <tr>\n",
              "      <th>2017-11</th>\n",
              "      <td>100.0</td>\n",
              "      <td>0.58</td>\n",
              "      <td>0.40</td>\n",
              "      <td>0.17</td>\n",
              "      <td>0.19</td>\n",
              "      <td>0.19</td>\n",
              "      <td>NaN</td>\n",
              "      <td>NaN</td>\n",
              "      <td>NaN</td>\n",
              "      <td>NaN</td>\n",
              "      <td>NaN</td>\n",
              "      <td>NaN</td>\n",
              "      <td>NaN</td>\n",
              "      <td>NaN</td>\n",
              "      <td>NaN</td>\n",
              "      <td>NaN</td>\n",
              "    </tr>\n",
              "    <tr>\n",
              "      <th>2017-12</th>\n",
              "      <td>100.0</td>\n",
              "      <td>0.22</td>\n",
              "      <td>0.29</td>\n",
              "      <td>0.40</td>\n",
              "      <td>0.26</td>\n",
              "      <td>NaN</td>\n",
              "      <td>NaN</td>\n",
              "      <td>NaN</td>\n",
              "      <td>NaN</td>\n",
              "      <td>NaN</td>\n",
              "      <td>NaN</td>\n",
              "      <td>NaN</td>\n",
              "      <td>NaN</td>\n",
              "      <td>NaN</td>\n",
              "      <td>NaN</td>\n",
              "      <td>NaN</td>\n",
              "    </tr>\n",
              "  </tbody>\n",
              "</table>\n",
              "</div>"
            ],
            "text/plain": [
              "months_passed     0     1     2     3     4     5     6     7     8     9   \\\n",
              "order_YM                                                                     \n",
              "2017-02        100.0  0.24  0.30  0.12  0.42  0.12  0.24  0.18  0.06  0.18   \n",
              "2017-03        100.0  0.54  0.35  0.47  0.35  0.16  0.16  0.31  0.35  0.08   \n",
              "2017-04        100.0  0.64  0.26  0.21  0.30  0.26  0.39  0.30  0.30  0.17   \n",
              "2017-05        100.0  0.51  0.51  0.40  0.31  0.40  0.48  0.14  0.25  0.31   \n",
              "2017-06        100.0  0.45  0.39  0.39  0.26  0.39  0.35  0.23  0.13  0.23   \n",
              "2017-07        100.0  0.58  0.34  0.24  0.34  0.21  0.31  0.10  0.21  0.29   \n",
              "2017-08        100.0  0.70  0.39  0.27  0.36  0.58  0.29  0.27  0.15   NaN   \n",
              "2017-09        100.0  0.69  0.54  0.39  0.44  0.32  0.22  0.25   NaN   NaN   \n",
              "2017-10        100.0  0.75  0.25  0.09  0.25  0.20  0.20   NaN   NaN   NaN   \n",
              "2017-11        100.0  0.58  0.40  0.17  0.19  0.19   NaN   NaN   NaN   NaN   \n",
              "2017-12        100.0  0.22  0.29  0.40  0.26   NaN   NaN   NaN   NaN   NaN   \n",
              "\n",
              "months_passed    10    11    12    13    14  15  \n",
              "order_YM                                         \n",
              "2017-02        0.12  0.30  0.12  0.18  0.12 NaN  \n",
              "2017-03        0.39  0.12  0.23  0.12   NaN NaN  \n",
              "2017-04        0.26  0.09  0.09   NaN   NaN NaN  \n",
              "2017-05        0.25  0.34   NaN   NaN   NaN NaN  \n",
              "2017-06        0.32   NaN   NaN   NaN   NaN NaN  \n",
              "2017-07         NaN   NaN   NaN   NaN   NaN NaN  \n",
              "2017-08         NaN   NaN   NaN   NaN   NaN NaN  \n",
              "2017-09         NaN   NaN   NaN   NaN   NaN NaN  \n",
              "2017-10         NaN   NaN   NaN   NaN   NaN NaN  \n",
              "2017-11         NaN   NaN   NaN   NaN   NaN NaN  \n",
              "2017-12         NaN   NaN   NaN   NaN   NaN NaN  "
            ]
          },
          "execution_count": 81,
          "metadata": {},
          "output_type": "execute_result"
        }
      ],
      "source": [
        "retention_by_months_passed"
      ]
    },
    {
      "cell_type": "code",
      "execution_count": null,
      "metadata": {
        "scrolled": true,
        "id": "zSBmmvpK5WvB",
        "outputId": "51b87d58-f1d5-42a7-eb1a-d9caab844303"
      },
      "outputs": [
        {
          "data": {
            "text/plain": [
              "'2017-03'"
            ]
          },
          "execution_count": 82,
          "metadata": {},
          "output_type": "execute_result"
        }
      ],
      "source": [
        "# Выявляем когорту с самым высоким retention на 3й месяц\n",
        "retention_by_months_passed[3].idxmax()"
      ]
    },
    {
      "cell_type": "code",
      "execution_count": null,
      "metadata": {
        "scrolled": true,
        "id": "uIl5ktiU5WvC",
        "outputId": "57713a36-45e4-4c74-e4ae-3ab8202dfa8c"
      },
      "outputs": [
        {
          "data": {
            "text/plain": [
              "0.47"
            ]
          },
          "execution_count": 83,
          "metadata": {},
          "output_type": "execute_result"
        }
      ],
      "source": [
        "retention_by_months_passed[3].max()"
      ]
    },
    {
      "cell_type": "code",
      "execution_count": null,
      "metadata": {
        "id": "kjAxjwU35WvC",
        "outputId": "d45d384b-3404-4fec-b9fc-2668b99ab40e"
      },
      "outputs": [
        {
          "data": {
            "text/plain": [
              "Text(0.5, 1.0, 'Когортный анализ пользователей 2017 \\n')"
            ]
          },
          "execution_count": 84,
          "metadata": {},
          "output_type": "execute_result"
        },
        {
          "data": {
            "image/png": "[encoded data removed]",
            "text/plain": [
              "<Figure size 1584x1008 with 2 Axes>"
            ]
          },
          "metadata": {
            "needs_background": "light"
          },
          "output_type": "display_data"
        }
      ],
      "source": [
        "plt.rcParams['figure.figsize'] = [22, 14]\n",
        "fontsize_ticks = 14\n",
        "\n",
        "hmap = sns.heatmap(retention_by_months_passed, \\\n",
        "           vmax=0.8, annot=True, \\\n",
        "           fmt=\".2f\", \\\n",
        "           yticklabels=['2017-01', '2017-02', '2017-03', '2017-04', '2017-05', '2017-06',\\\n",
        "                        '2017-07', '2017-08', '2017-09', '2017-10', '2017-11', '2017-12'])\n",
        "\n",
        "plt.ylabel('Дата первой покупки \\n',                 size=16)\n",
        "plt.xlabel('\\n Вернулись через столько месяцев',     size=16)\n",
        "plt.title('Когортный анализ пользователей 2017 \\n',  size=20)"
      ]
    },
    {
      "cell_type": "markdown",
      "metadata": {
        "id": "y8l7Z8EI5WvC"
      },
      "source": [
        "### Был проведён когортный анализ пользователей я января по декабрь 2017. Результаты представлены в виде таблицы retention_by_months_passed а также визуализированы с помощью sns.heatmap. Исходя из картинки можно сделать вывод, что пользователи, которые возвращаются, чаще делают следущую покупку в первые 2 месяца,  следующие за первой покупкой.\n",
        "### Когортой с самым высоким retention на 3й месяц стали пользователи пришедшие в марте 2017 года, для этой когорты retention составляет 0.47%"
      ]
    },
    {
      "cell_type": "markdown",
      "metadata": {
        "id": "AKd7qBlU5WvC"
      },
      "source": [
        "<!--  -->"
      ]
    },
    {
      "cell_type": "markdown",
      "metadata": {
        "id": "nbeD1oBJ5WvC"
      },
      "source": [
        "## 6. Используя python, построй RFM-сегментацию пользователей, чтобы качественно оценить свою аудиторию."
      ]
    },
    {
      "cell_type": "code",
      "execution_count": null,
      "metadata": {
        "id": "SrEiOot05WvC"
      },
      "outputs": [],
      "source": [
        "# Для начала, создадим датафрейм со всей необходимой инофрмацией\n",
        "pre_table = customers_approved_orders.merge(items, on='order_id', how='inner')[['order_id', 'order_purchase_timestamp', 'customer_unique_id', 'price']]"
      ]
    },
    {
      "cell_type": "code",
      "execution_count": null,
      "metadata": {
        "id": "7We-Mjl45WvC",
        "outputId": "20bb969d-0e22-4540-bbe1-c9c6f4ae5ffa"
      },
      "outputs": [
        {
          "data": {
            "text/html": [
              "<div>\n",
              "<style scoped>\n",
              "    .dataframe tbody tr th:only-of-type {\n",
              "        vertical-align: middle;\n",
              "    }\n",
              "\n",
              "    .dataframe tbody tr th {\n",
              "        vertical-align: top;\n",
              "    }\n",
              "\n",
              "    .dataframe thead th {\n",
              "        text-align: right;\n",
              "    }\n",
              "</style>\n",
              "<table border=\"1\" class=\"dataframe\">\n",
              "  <thead>\n",
              "    <tr style=\"text-align: right;\">\n",
              "      <th></th>\n",
              "      <th>order_id</th>\n",
              "      <th>order_purchase_timestamp</th>\n",
              "      <th>customer_unique_id</th>\n",
              "      <th>price</th>\n",
              "    </tr>\n",
              "  </thead>\n",
              "  <tbody>\n",
              "    <tr>\n",
              "      <th>0</th>\n",
              "      <td>00010242fe8c5a6d1ba2dd792cb16214</td>\n",
              "      <td>2017-09-13 08:59:02</td>\n",
              "      <td>871766c5855e863f6eccc05f988b23cb</td>\n",
              "      <td>58.9</td>\n",
              "    </tr>\n",
              "    <tr>\n",
              "      <th>1</th>\n",
              "      <td>00018f77f2f0320c557190d7a144bdd3</td>\n",
              "      <td>2017-04-26 10:53:06</td>\n",
              "      <td>eb28e67c4c0b83846050ddfb8a35d051</td>\n",
              "      <td>239.9</td>\n",
              "    </tr>\n",
              "    <tr>\n",
              "      <th>4</th>\n",
              "      <td>00042b26cf59d7ce69dfabb4e55b4fd9</td>\n",
              "      <td>2017-02-04 13:57:51</td>\n",
              "      <td>64b576fb70d441e8f1b2d7d446e483c5</td>\n",
              "      <td>199.9</td>\n",
              "    </tr>\n",
              "    <tr>\n",
              "      <th>5</th>\n",
              "      <td>00048cc3ae777c65dbb7d2a0634bc1ea</td>\n",
              "      <td>2017-05-15 21:42:34</td>\n",
              "      <td>85c835d128beae5b4ce8602c491bf385</td>\n",
              "      <td>21.9</td>\n",
              "    </tr>\n",
              "    <tr>\n",
              "      <th>6</th>\n",
              "      <td>00054e8431b9d7675808bcb819fb4a32</td>\n",
              "      <td>2017-12-10 11:53:48</td>\n",
              "      <td>635d9ac1680f03288e72ada3a1035803</td>\n",
              "      <td>19.9</td>\n",
              "    </tr>\n",
              "  </tbody>\n",
              "</table>\n",
              "</div>"
            ],
            "text/plain": [
              "                           order_id order_purchase_timestamp  \\\n",
              "0  00010242fe8c5a6d1ba2dd792cb16214      2017-09-13 08:59:02   \n",
              "1  00018f77f2f0320c557190d7a144bdd3      2017-04-26 10:53:06   \n",
              "4  00042b26cf59d7ce69dfabb4e55b4fd9      2017-02-04 13:57:51   \n",
              "5  00048cc3ae777c65dbb7d2a0634bc1ea      2017-05-15 21:42:34   \n",
              "6  00054e8431b9d7675808bcb819fb4a32      2017-12-10 11:53:48   \n",
              "\n",
              "                 customer_unique_id  price  \n",
              "0  871766c5855e863f6eccc05f988b23cb   58.9  \n",
              "1  eb28e67c4c0b83846050ddfb8a35d051  239.9  \n",
              "4  64b576fb70d441e8f1b2d7d446e483c5  199.9  \n",
              "5  85c835d128beae5b4ce8602c491bf385   21.9  \n",
              "6  635d9ac1680f03288e72ada3a1035803   19.9  "
            ]
          },
          "execution_count": 86,
          "metadata": {},
          "output_type": "execute_result"
        }
      ],
      "source": [
        "# Посчитаем стоимость каждого заказа (суммируем цены всех товаров в заказе)\n",
        "pre_table = pre_table.groupby(['order_id', 'order_purchase_timestamp', 'customer_unique_id'], as_index=False)\\\n",
        "                     .agg({'price':'sum'})\\\n",
        "                     .query('\"2018-01\" > order_purchase_timestamp >= \"2017-01\"')\n",
        "pre_table.head()"
      ]
    },
    {
      "cell_type": "markdown",
      "metadata": {
        "id": "fOkJ3H4k5WvD"
      },
      "source": [
        "Сделаем RFM анализ, как это принято, за период в 1 год. Возьмём 2017 год как в предыдущем задании.В показателе R надо посчитать время от последней покупки до текущей даты. Текущей датой будем считать первый день после окончания рассматриваемого периода, т.е. 01/01/2018."
      ]
    },
    {
      "cell_type": "code",
      "execution_count": null,
      "metadata": {
        "id": "FQ6J94-G5WvD"
      },
      "outputs": [],
      "source": [
        "from datetime import timedelta"
      ]
    },
    {
      "cell_type": "code",
      "execution_count": null,
      "metadata": {
        "scrolled": true,
        "id": "C2eQcVKx5WvD",
        "outputId": "b3e31692-ca98-432a-cf19-79d632c37d9f"
      },
      "outputs": [
        {
          "data": {
            "text/plain": [
              "Timestamp('2017-12-31 23:29:31')"
            ]
          },
          "execution_count": 88,
          "metadata": {},
          "output_type": "execute_result"
        }
      ],
      "source": [
        "pre_table['order_purchase_timestamp'].max()"
      ]
    },
    {
      "cell_type": "code",
      "execution_count": null,
      "metadata": {
        "id": "Rrjep_3B5WvD"
      },
      "outputs": [],
      "source": [
        "today = pre_table['order_purchase_timestamp'].max() + timedelta(days=1)"
      ]
    },
    {
      "cell_type": "code",
      "execution_count": null,
      "metadata": {
        "id": "hFcuuKk25WvD"
      },
      "outputs": [],
      "source": [
        "pre_table['Recency'] = pre_table['order_purchase_timestamp'].apply(lambda x: (today - x).days)"
      ]
    },
    {
      "cell_type": "code",
      "execution_count": null,
      "metadata": {
        "id": "hfzMwqDO5WvD",
        "outputId": "db6138e6-eed4-49ad-afb8-f706f129fa4d"
      },
      "outputs": [
        {
          "data": {
            "text/html": [
              "<div>\n",
              "<style scoped>\n",
              "    .dataframe tbody tr th:only-of-type {\n",
              "        vertical-align: middle;\n",
              "    }\n",
              "\n",
              "    .dataframe tbody tr th {\n",
              "        vertical-align: top;\n",
              "    }\n",
              "\n",
              "    .dataframe thead th {\n",
              "        text-align: right;\n",
              "    }\n",
              "</style>\n",
              "<table border=\"1\" class=\"dataframe\">\n",
              "  <thead>\n",
              "    <tr style=\"text-align: right;\">\n",
              "      <th></th>\n",
              "      <th>customer_unique_id</th>\n",
              "      <th>Recency</th>\n",
              "      <th>Frequency</th>\n",
              "      <th>Monetary</th>\n",
              "    </tr>\n",
              "  </thead>\n",
              "  <tbody>\n",
              "    <tr>\n",
              "      <th>0</th>\n",
              "      <td>0000f46a3911fa3c0805444483337064</td>\n",
              "      <td>297</td>\n",
              "      <td>1</td>\n",
              "      <td>69.00</td>\n",
              "    </tr>\n",
              "    <tr>\n",
              "      <th>1</th>\n",
              "      <td>0000f6ccb0745a6a4b88665a16c9f078</td>\n",
              "      <td>81</td>\n",
              "      <td>1</td>\n",
              "      <td>25.99</td>\n",
              "    </tr>\n",
              "    <tr>\n",
              "      <th>2</th>\n",
              "      <td>0004aac84e0df4da2b147fca70cf8255</td>\n",
              "      <td>48</td>\n",
              "      <td>1</td>\n",
              "      <td>180.00</td>\n",
              "    </tr>\n",
              "    <tr>\n",
              "      <th>3</th>\n",
              "      <td>0005e1862207bf6ccc02e4228effd9a0</td>\n",
              "      <td>302</td>\n",
              "      <td>1</td>\n",
              "      <td>135.00</td>\n",
              "    </tr>\n",
              "    <tr>\n",
              "      <th>4</th>\n",
              "      <td>0006fdc98a402fceb4eb0ee528f6a8d4</td>\n",
              "      <td>167</td>\n",
              "      <td>1</td>\n",
              "      <td>13.90</td>\n",
              "    </tr>\n",
              "  </tbody>\n",
              "</table>\n",
              "</div>"
            ],
            "text/plain": [
              "                 customer_unique_id  Recency  Frequency  Monetary\n",
              "0  0000f46a3911fa3c0805444483337064      297          1     69.00\n",
              "1  0000f6ccb0745a6a4b88665a16c9f078       81          1     25.99\n",
              "2  0004aac84e0df4da2b147fca70cf8255       48          1    180.00\n",
              "3  0005e1862207bf6ccc02e4228effd9a0      302          1    135.00\n",
              "4  0006fdc98a402fceb4eb0ee528f6a8d4      167          1     13.90"
            ]
          },
          "execution_count": 91,
          "metadata": {},
          "output_type": "execute_result"
        }
      ],
      "source": [
        "RFM_pre_table = pre_table.groupby('customer_unique_id', as_index=False)\\\n",
        "                          .agg({'Recency':'min', 'order_id':'count', 'price':sum})\\\n",
        "                          .rename(columns={'order_id': 'Frequency', 'price': 'Monetary'})\n",
        "RFM_pre_table.head()"
      ]
    },
    {
      "cell_type": "markdown",
      "metadata": {
        "id": "ioaqpWsi5WvD"
      },
      "source": [
        "Теперь разобъём значения каждой категории на 5 групп и присвоим этим группа оценку от 1 до 5, где 1 - наименее выгодная ситуация, а 5 - наиболее."
      ]
    },
    {
      "cell_type": "code",
      "execution_count": null,
      "metadata": {
        "scrolled": true,
        "id": "PcnggrmD5WvE",
        "outputId": "3a1a5429-dde0-42be-8368-57982511fe05"
      },
      "outputs": [
        {
          "data": {
            "text/plain": [
              "{'Recency': {0.2: 38.0, 0.4: 92.0, 0.6: 156.0, 0.8: 232.0},\n",
              " 'Frequency': {0.2: 1.0, 0.4: 1.0, 0.6: 1.0, 0.8: 1.0},\n",
              " 'Monetary': {0.2: 39.9, 0.4: 68.9, 0.6: 108.56399999999987, 0.8: 179.96}}"
            ]
          },
          "execution_count": 92,
          "metadata": {},
          "output_type": "execute_result"
        }
      ],
      "source": [
        "# Проверим, будет ли удобно разбить показатели на квантили.\n",
        "quintiles = RFM_pre_table[['Recency', 'Frequency', 'Monetary']].quantile([0.2, 0.4, 0.6, 0.8]).to_dict()\n",
        "quintiles"
      ]
    },
    {
      "cell_type": "markdown",
      "metadata": {
        "id": "A7YYdpsp5WvE"
      },
      "source": [
        "Для Recency деление на равные квантили будет адекватным решением, для Monetary тоже, только округлим значения, для Frequency, выберу интервалы исходя из встречающихся значений, чтобы группы получили разную оценку в зависимости от числа покупок."
      ]
    },
    {
      "cell_type": "code",
      "execution_count": null,
      "metadata": {
        "id": "_mO_NmDa5WvE",
        "outputId": "761959b0-cef1-4a8e-ccb0-544d5f86221b"
      },
      "outputs": [
        {
          "data": {
            "text/plain": [
              "array([1, 2, 3, 6, 5, 4, 9])"
            ]
          },
          "execution_count": 93,
          "metadata": {},
          "output_type": "execute_result"
        }
      ],
      "source": [
        "RFM_pre_table.Frequency.unique()"
      ]
    },
    {
      "cell_type": "code",
      "execution_count": null,
      "metadata": {
        "id": "1guOR4p-5WvE"
      },
      "outputs": [],
      "source": [
        "quintiles['Frequency'] = {0.2: 1.0, 0.4: 2.0, 0.6: 3.0, 0.8: 5.0}\n",
        "quintiles['Monetary']  = {0.2: 40, 0.4: 70, 0.6: 110, 0.8: 180}"
      ]
    },
    {
      "cell_type": "code",
      "execution_count": null,
      "metadata": {
        "scrolled": false,
        "id": "XVaklFZr5WvE",
        "outputId": "a23fdcfa-8c67-4a80-bc9f-bea89a9f15ef"
      },
      "outputs": [
        {
          "data": {
            "text/plain": [
              "{'Recency': {0.2: 38.0, 0.4: 92.0, 0.6: 156.0, 0.8: 232.0},\n",
              " 'Frequency': {0.2: 1.0, 0.4: 2.0, 0.6: 3.0, 0.8: 5.0},\n",
              " 'Monetary': {0.2: 40, 0.4: 70, 0.6: 110, 0.8: 180}}"
            ]
          },
          "execution_count": 95,
          "metadata": {},
          "output_type": "execute_result"
        }
      ],
      "source": [
        "quintiles"
      ]
    },
    {
      "cell_type": "markdown",
      "metadata": {
        "id": "u2iMsvrT5WvE"
      },
      "source": [
        "Буду вносить оценки в итоговую таблицу с помощью метода pd.cut"
      ]
    },
    {
      "cell_type": "code",
      "execution_count": null,
      "metadata": {
        "id": "dJ79EY-05WvF"
      },
      "outputs": [],
      "source": [
        "RFM_pre_table['R'] = pd.cut(RFM_pre_table.Recency, \\\n",
        "                                              bins=5, \\\n",
        "                                              labels  = [5, 4, 3, 2, 1])"
      ]
    },
    {
      "cell_type": "code",
      "execution_count": null,
      "metadata": {
        "id": "YW8iJ0Cf5WvF"
      },
      "outputs": [],
      "source": [
        "RFM_pre_table['F'] = pd.cut(RFM_pre_table.Frequency, \\\n",
        "                                              bins=[0, 1, 2, 3, 5, 9], \\\n",
        "                                              labels  = [1, 2, 3, 4, 5])"
      ]
    },
    {
      "cell_type": "code",
      "execution_count": null,
      "metadata": {
        "scrolled": false,
        "id": "Lqsd4QKg5WvF"
      },
      "outputs": [],
      "source": [
        "# Прописываю bins основываясь на интервалах\n",
        "# {0.2: 40, 0.4: 70, 0.6: 110, 0.8: 180}\n",
        "RFM_pre_table['M'] = pd.cut(RFM_pre_table.Monetary, \\\n",
        "                                               bins=[0, 40, 70, 110, 180, 13500], \\\n",
        "                                               labels  = [1, 2, 3, 4, 5])"
      ]
    },
    {
      "cell_type": "code",
      "execution_count": null,
      "metadata": {
        "id": "o6aL0Kfa5WvF"
      },
      "outputs": [],
      "source": [
        "# Меняем тип переменных, потому что функция map  не работает с категориальными\n",
        "RFM_pre_table['M'] = RFM_pre_table['M'].astype('object')\n",
        "RFM_pre_table['F'] = RFM_pre_table['F'].astype('object')\n",
        "RFM_pre_table['R'] = RFM_pre_table['R'].astype('object')"
      ]
    },
    {
      "cell_type": "code",
      "execution_count": null,
      "metadata": {
        "scrolled": true,
        "id": "q6UYpbIW5WvF",
        "outputId": "d5d1eb72-bf06-43bb-fedd-255258daec12"
      },
      "outputs": [
        {
          "data": {
            "text/html": [
              "<div>\n",
              "<style scoped>\n",
              "    .dataframe tbody tr th:only-of-type {\n",
              "        vertical-align: middle;\n",
              "    }\n",
              "\n",
              "    .dataframe tbody tr th {\n",
              "        vertical-align: top;\n",
              "    }\n",
              "\n",
              "    .dataframe thead th {\n",
              "        text-align: right;\n",
              "    }\n",
              "</style>\n",
              "<table border=\"1\" class=\"dataframe\">\n",
              "  <thead>\n",
              "    <tr style=\"text-align: right;\">\n",
              "      <th></th>\n",
              "      <th>customer_unique_id</th>\n",
              "      <th>Recency</th>\n",
              "      <th>Frequency</th>\n",
              "      <th>Monetary</th>\n",
              "      <th>R</th>\n",
              "      <th>F</th>\n",
              "      <th>M</th>\n",
              "      <th>RFM</th>\n",
              "    </tr>\n",
              "  </thead>\n",
              "  <tbody>\n",
              "    <tr>\n",
              "      <th>0</th>\n",
              "      <td>0000f46a3911fa3c0805444483337064</td>\n",
              "      <td>297</td>\n",
              "      <td>1</td>\n",
              "      <td>69.00</td>\n",
              "      <td>1</td>\n",
              "      <td>1</td>\n",
              "      <td>2</td>\n",
              "      <td>112</td>\n",
              "    </tr>\n",
              "    <tr>\n",
              "      <th>1</th>\n",
              "      <td>0000f6ccb0745a6a4b88665a16c9f078</td>\n",
              "      <td>81</td>\n",
              "      <td>1</td>\n",
              "      <td>25.99</td>\n",
              "      <td>4</td>\n",
              "      <td>1</td>\n",
              "      <td>1</td>\n",
              "      <td>411</td>\n",
              "    </tr>\n",
              "    <tr>\n",
              "      <th>2</th>\n",
              "      <td>0004aac84e0df4da2b147fca70cf8255</td>\n",
              "      <td>48</td>\n",
              "      <td>1</td>\n",
              "      <td>180.00</td>\n",
              "      <td>5</td>\n",
              "      <td>1</td>\n",
              "      <td>4</td>\n",
              "      <td>514</td>\n",
              "    </tr>\n",
              "    <tr>\n",
              "      <th>3</th>\n",
              "      <td>0005e1862207bf6ccc02e4228effd9a0</td>\n",
              "      <td>302</td>\n",
              "      <td>1</td>\n",
              "      <td>135.00</td>\n",
              "      <td>1</td>\n",
              "      <td>1</td>\n",
              "      <td>4</td>\n",
              "      <td>114</td>\n",
              "    </tr>\n",
              "    <tr>\n",
              "      <th>4</th>\n",
              "      <td>0006fdc98a402fceb4eb0ee528f6a8d4</td>\n",
              "      <td>167</td>\n",
              "      <td>1</td>\n",
              "      <td>13.90</td>\n",
              "      <td>3</td>\n",
              "      <td>1</td>\n",
              "      <td>1</td>\n",
              "      <td>311</td>\n",
              "    </tr>\n",
              "  </tbody>\n",
              "</table>\n",
              "</div>"
            ],
            "text/plain": [
              "                 customer_unique_id  Recency  Frequency  Monetary  R  F  M  \\\n",
              "0  0000f46a3911fa3c0805444483337064      297          1     69.00  1  1  2   \n",
              "1  0000f6ccb0745a6a4b88665a16c9f078       81          1     25.99  4  1  1   \n",
              "2  0004aac84e0df4da2b147fca70cf8255       48          1    180.00  5  1  4   \n",
              "3  0005e1862207bf6ccc02e4228effd9a0      302          1    135.00  1  1  4   \n",
              "4  0006fdc98a402fceb4eb0ee528f6a8d4      167          1     13.90  3  1  1   \n",
              "\n",
              "   RFM  \n",
              "0  112  \n",
              "1  411  \n",
              "2  514  \n",
              "3  114  \n",
              "4  311  "
            ]
          },
          "execution_count": 100,
          "metadata": {},
          "output_type": "execute_result"
        }
      ],
      "source": [
        "RFM_pre_table['RFM'] = RFM_pre_table['R'].map(str) + RFM_pre_table['F'].map(str) + RFM_pre_table['M'].map(str)\n",
        "RFM_table = RFM_pre_table\n",
        "RFM_table.head()"
      ]
    },
    {
      "cell_type": "code",
      "execution_count": null,
      "metadata": {
        "id": "i01Sy8p45WvF",
        "outputId": "ce889d8f-d13e-4378-af99-90e1fed63139"
      },
      "outputs": [
        {
          "data": {
            "text/html": [
              "<div>\n",
              "<style scoped>\n",
              "    .dataframe tbody tr th:only-of-type {\n",
              "        vertical-align: middle;\n",
              "    }\n",
              "\n",
              "    .dataframe tbody tr th {\n",
              "        vertical-align: top;\n",
              "    }\n",
              "\n",
              "    .dataframe thead th {\n",
              "        text-align: right;\n",
              "    }\n",
              "</style>\n",
              "<table border=\"1\" class=\"dataframe\">\n",
              "  <thead>\n",
              "    <tr style=\"text-align: right;\">\n",
              "      <th></th>\n",
              "      <th>Frequency</th>\n",
              "      <th>Recency</th>\n",
              "      <th>Monetary</th>\n",
              "    </tr>\n",
              "    <tr>\n",
              "      <th>score</th>\n",
              "      <th></th>\n",
              "      <th></th>\n",
              "      <th></th>\n",
              "    </tr>\n",
              "  </thead>\n",
              "  <tbody>\n",
              "    <tr>\n",
              "      <th>1</th>\n",
              "      <td>(0:1]</td>\n",
              "      <td>(232:365]</td>\n",
              "      <td>(0:40]</td>\n",
              "    </tr>\n",
              "    <tr>\n",
              "      <th>2</th>\n",
              "      <td>(1:2]</td>\n",
              "      <td>(156:232]</td>\n",
              "      <td>(40:70]</td>\n",
              "    </tr>\n",
              "    <tr>\n",
              "      <th>3</th>\n",
              "      <td>(2:3]</td>\n",
              "      <td>(92:156]</td>\n",
              "      <td>(70:110]</td>\n",
              "    </tr>\n",
              "    <tr>\n",
              "      <th>4</th>\n",
              "      <td>(3:5]</td>\n",
              "      <td>(38:92]</td>\n",
              "      <td>(110:180]</td>\n",
              "    </tr>\n",
              "    <tr>\n",
              "      <th>5</th>\n",
              "      <td>(5:9]</td>\n",
              "      <td>(0:38]</td>\n",
              "      <td>(180:13500]</td>\n",
              "    </tr>\n",
              "  </tbody>\n",
              "</table>\n",
              "</div>"
            ],
            "text/plain": [
              "      Frequency    Recency     Monetary\n",
              "score                                  \n",
              "1         (0:1]  (232:365]       (0:40]\n",
              "2         (1:2]  (156:232]      (40:70]\n",
              "3         (2:3]   (92:156]     (70:110]\n",
              "4         (3:5]    (38:92]    (110:180]\n",
              "5         (5:9]     (0:38]  (180:13500]"
            ]
          },
          "execution_count": 101,
          "metadata": {},
          "output_type": "execute_result"
        }
      ],
      "source": [
        "# Границы каждого сегмента всегда можно посмотреть в этой таблице\n",
        "RFM_values =  pd.DataFrame( {'Frequency': ['(0:1]', '(1:2]', '(2:3]', '(3:5]','(5:9]'],\n",
        "               'Recency':   ['(232:365]', '(156:232]', '(92:156]', '(38:92]',  '(0:38]'],\n",
        "               'Monetary':  ['(0:40]', '(40:70]', '(70:110]', '(110:180]', '(180:13500]']},\n",
        "                index   = [1, 2, 3, 4, 5] )\n",
        "RFM_values.index.name = 'score'\n",
        "RFM_values"
      ]
    },
    {
      "cell_type": "markdown",
      "metadata": {
        "id": "6PNpTQRx5WvF"
      },
      "source": [
        "#### Анализ сегментов"
      ]
    },
    {
      "cell_type": "code",
      "execution_count": null,
      "metadata": {
        "id": "OS-yMzQx5WvG",
        "outputId": "34cad961-a407-4223-e962-796e340179b4"
      },
      "outputs": [
        {
          "data": {
            "text/plain": [
              "72"
            ]
          },
          "execution_count": 102,
          "metadata": {},
          "output_type": "execute_result"
        }
      ],
      "source": [
        "# RFM анализ может выделить до 125 сегментов. У нас получилось 72 комбинации.\n",
        "RFM_pre_table.RFM.nunique()"
      ]
    },
    {
      "cell_type": "markdown",
      "metadata": {
        "id": "AzBu0e8u5WvG"
      },
      "source": [
        "Для анализа сегменты обычно объединяются в небольшое количество групп (5-12 категорий).\n",
        "Учитывая специфику данных - большое количество разовых покупок, низкие значения частоты покупок, выделю 8 групп, которые описаны ниже.\n",
        "    1. 'one-time'        - клиенты сделали одну покупку достаточно давно и не вернулись;\n",
        "    2. 'at risk'         - эти клиенты сделали несколько покупок, но прошло много времени. Рискуем их потерять.\n",
        "    3. 'can\\'t loose'    - эти клиенты совершали большое количество покупок, но давно не возвращались. Важно их сохранить!\n",
        "    4. 'need attention'  - клиенты занимающие промежуточное положение\n",
        "    5. 'loyal'           - лояльные клиенты\n",
        "    6. 'new'             - новые клиенты\n",
        "    7. 'promising'       - потенциальные лояльные клиенты\n",
        "    8. 'VIP'             - самые важные лояльные клиенты с большим количеством покупок"
      ]
    },
    {
      "cell_type": "markdown",
      "metadata": {
        "id": "6vQTmcqj5WvG"
      },
      "source": [
        "В дальнейшем компания может работать с каждым из сегментов отдельно, например, разослать персональные предложения, предложить скидки, участия в бонусной программе."
      ]
    },
    {
      "cell_type": "code",
      "execution_count": null,
      "metadata": {
        "scrolled": false,
        "id": "gWWN1E7L5WvG",
        "outputId": "82df41e0-95ea-415f-e899-a16466dc846f"
      },
      "outputs": [
        {
          "data": {
            "text/html": [
              "<div>\n",
              "<style scoped>\n",
              "    .dataframe tbody tr th:only-of-type {\n",
              "        vertical-align: middle;\n",
              "    }\n",
              "\n",
              "    .dataframe tbody tr th {\n",
              "        vertical-align: top;\n",
              "    }\n",
              "\n",
              "    .dataframe thead th {\n",
              "        text-align: right;\n",
              "    }\n",
              "</style>\n",
              "<table border=\"1\" class=\"dataframe\">\n",
              "  <thead>\n",
              "    <tr style=\"text-align: right;\">\n",
              "      <th></th>\n",
              "      <th>customer_unique_id</th>\n",
              "      <th>Recency</th>\n",
              "      <th>Frequency</th>\n",
              "      <th>Monetary</th>\n",
              "      <th>R</th>\n",
              "      <th>F</th>\n",
              "      <th>M</th>\n",
              "      <th>RFM</th>\n",
              "      <th>Segment</th>\n",
              "    </tr>\n",
              "  </thead>\n",
              "  <tbody>\n",
              "    <tr>\n",
              "      <th>0</th>\n",
              "      <td>0000f46a3911fa3c0805444483337064</td>\n",
              "      <td>297</td>\n",
              "      <td>1</td>\n",
              "      <td>69.00</td>\n",
              "      <td>1</td>\n",
              "      <td>1</td>\n",
              "      <td>2</td>\n",
              "      <td>112</td>\n",
              "      <td>one-time</td>\n",
              "    </tr>\n",
              "    <tr>\n",
              "      <th>1</th>\n",
              "      <td>0000f6ccb0745a6a4b88665a16c9f078</td>\n",
              "      <td>81</td>\n",
              "      <td>1</td>\n",
              "      <td>25.99</td>\n",
              "      <td>4</td>\n",
              "      <td>1</td>\n",
              "      <td>1</td>\n",
              "      <td>411</td>\n",
              "      <td>new</td>\n",
              "    </tr>\n",
              "    <tr>\n",
              "      <th>2</th>\n",
              "      <td>0004aac84e0df4da2b147fca70cf8255</td>\n",
              "      <td>48</td>\n",
              "      <td>1</td>\n",
              "      <td>180.00</td>\n",
              "      <td>5</td>\n",
              "      <td>1</td>\n",
              "      <td>4</td>\n",
              "      <td>514</td>\n",
              "      <td>new</td>\n",
              "    </tr>\n",
              "    <tr>\n",
              "      <th>3</th>\n",
              "      <td>0005e1862207bf6ccc02e4228effd9a0</td>\n",
              "      <td>302</td>\n",
              "      <td>1</td>\n",
              "      <td>135.00</td>\n",
              "      <td>1</td>\n",
              "      <td>1</td>\n",
              "      <td>4</td>\n",
              "      <td>114</td>\n",
              "      <td>one-time</td>\n",
              "    </tr>\n",
              "    <tr>\n",
              "      <th>4</th>\n",
              "      <td>0006fdc98a402fceb4eb0ee528f6a8d4</td>\n",
              "      <td>167</td>\n",
              "      <td>1</td>\n",
              "      <td>13.90</td>\n",
              "      <td>3</td>\n",
              "      <td>1</td>\n",
              "      <td>1</td>\n",
              "      <td>311</td>\n",
              "      <td>one-time</td>\n",
              "    </tr>\n",
              "  </tbody>\n",
              "</table>\n",
              "</div>"
            ],
            "text/plain": [
              "                 customer_unique_id  Recency  Frequency  Monetary  R  F  M  \\\n",
              "0  0000f46a3911fa3c0805444483337064      297          1     69.00  1  1  2   \n",
              "1  0000f6ccb0745a6a4b88665a16c9f078       81          1     25.99  4  1  1   \n",
              "2  0004aac84e0df4da2b147fca70cf8255       48          1    180.00  5  1  4   \n",
              "3  0005e1862207bf6ccc02e4228effd9a0      302          1    135.00  1  1  4   \n",
              "4  0006fdc98a402fceb4eb0ee528f6a8d4      167          1     13.90  3  1  1   \n",
              "\n",
              "   RFM   Segment  \n",
              "0  112  one-time  \n",
              "1  411       new  \n",
              "2  514       new  \n",
              "3  114  one-time  \n",
              "4  311  one-time  "
            ]
          },
          "execution_count": 103,
          "metadata": {},
          "output_type": "execute_result"
        }
      ],
      "source": [
        "segt_map = {\n",
        "    r'[1-3]1': 'one-time',\n",
        "    r'[1-2][2-3]': 'at risk',\n",
        "    r'[1-2][4-5]': 'can\\'t loose',\n",
        "    r'3[2-3]': 'need attention',\n",
        "    r'3[4-5]': 'loyal',\n",
        "    r'[4-5][1-2]': 'new',\n",
        "    r'[4-5]3': 'promising',\n",
        "    r'[4-5][4-5]': 'VIP'\n",
        "}\n",
        "RFM_table['Segment'] = RFM_table['R'].map(str) + RFM_table['F'].map(str)\n",
        "RFM_table['Segment'] = RFM_table['Segment'].replace(segt_map, regex=True)\n",
        "RFM_table.head()"
      ]
    },
    {
      "cell_type": "code",
      "execution_count": null,
      "metadata": {
        "id": "hVHwdJIh5WvG"
      },
      "outputs": [],
      "source": [
        "# ????\n",
        "# Меняем тип переменных, потому что функция map  не работает с категориальными\n",
        "RFM_pre_table['M'] = RFM_pre_table['M'].astype('category')\n",
        "RFM_pre_table['F'] = RFM_pre_table['F'].astype('category')\n",
        "RFM_pre_table['R'] = RFM_pre_table['R'].astype('category')"
      ]
    },
    {
      "cell_type": "code",
      "execution_count": null,
      "metadata": {
        "scrolled": true,
        "id": "BS-4TcuD5WvG",
        "outputId": "5a233840-55d9-4917-934a-73a5bc998be4"
      },
      "outputs": [
        {
          "data": {
            "text/html": [
              "<div>\n",
              "<style scoped>\n",
              "    .dataframe tbody tr th:only-of-type {\n",
              "        vertical-align: middle;\n",
              "    }\n",
              "\n",
              "    .dataframe tbody tr th {\n",
              "        vertical-align: top;\n",
              "    }\n",
              "\n",
              "    .dataframe thead th {\n",
              "        text-align: right;\n",
              "    }\n",
              "</style>\n",
              "<table border=\"1\" class=\"dataframe\">\n",
              "  <thead>\n",
              "    <tr style=\"text-align: right;\">\n",
              "      <th></th>\n",
              "      <th>Segment</th>\n",
              "    </tr>\n",
              "  </thead>\n",
              "  <tbody>\n",
              "    <tr>\n",
              "      <th>loyal</th>\n",
              "      <td>1</td>\n",
              "    </tr>\n",
              "    <tr>\n",
              "      <th>can't loose</th>\n",
              "      <td>4</td>\n",
              "    </tr>\n",
              "    <tr>\n",
              "      <th>VIP</th>\n",
              "      <td>14</td>\n",
              "    </tr>\n",
              "    <tr>\n",
              "      <th>promising</th>\n",
              "      <td>49</td>\n",
              "    </tr>\n",
              "    <tr>\n",
              "      <th>at risk</th>\n",
              "      <td>214</td>\n",
              "    </tr>\n",
              "    <tr>\n",
              "      <th>need attention</th>\n",
              "      <td>232</td>\n",
              "    </tr>\n",
              "    <tr>\n",
              "      <th>one-time</th>\n",
              "      <td>18185</td>\n",
              "    </tr>\n",
              "    <tr>\n",
              "      <th>new</th>\n",
              "      <td>24316</td>\n",
              "    </tr>\n",
              "  </tbody>\n",
              "</table>\n",
              "</div>"
            ],
            "text/plain": [
              "                Segment\n",
              "loyal                 1\n",
              "can't loose           4\n",
              "VIP                  14\n",
              "promising            49\n",
              "at risk             214\n",
              "need attention      232\n",
              "one-time          18185\n",
              "new               24316"
            ]
          },
          "execution_count": 105,
          "metadata": {},
          "output_type": "execute_result"
        }
      ],
      "source": [
        "# Оценим объём сегментов\n",
        "segments_counts = RFM_table['Segment'].value_counts().sort_values(ascending=True).to_frame()\n",
        "segments_counts"
      ]
    },
    {
      "cell_type": "markdown",
      "metadata": {
        "id": "za0gED-t5WvG"
      },
      "source": [
        "Отдельно рассмотрим категории одной покупкой (F=1) и большим числом покупок (F=[2:5]), поскольку эти категории несоизмеримы."
      ]
    },
    {
      "cell_type": "code",
      "execution_count": null,
      "metadata": {
        "id": "9BaWYgba5WvH",
        "outputId": "2ffa6260-7db3-4a74-d827-eca8cdfb7908"
      },
      "outputs": [
        {
          "data": {
            "image/png": "[encoded data removed]",
            "text/plain": [
              "<Figure size 1008x432 with 1 Axes>"
            ]
          },
          "metadata": {
            "needs_background": "light"
          },
          "output_type": "display_data"
        }
      ],
      "source": [
        "a = sns.barplot(data=segments_counts, x=segments_counts.index[0:6], y=segments_counts.Segment[0:6],  palette='mako')\n",
        "for bar in a.patches:\n",
        "    a.annotate(format(bar.get_height(), '.0f'),\n",
        "                       (bar.get_x() + bar.get_width() / 2,\n",
        "                        bar.get_height()), ha='center', va='center',\n",
        "                        size=15, xytext=(0, 8),\n",
        "                        textcoords='offset points')\n",
        "a.set_frame_on(False)\n",
        "a.tick_params(left=False, labelleft=False, bottom=False)\n",
        "plt.ylabel('', size=16)\n",
        "plt.rc('xtick', labelsize= 14 )\n",
        "plt.rc('ytick', labelsize= 14 )\n",
        "plt.rcParams['figure.figsize'] = [14, 6]\n"
      ]
    },
    {
      "cell_type": "markdown",
      "metadata": {
        "id": "DT1KUJL75WvH"
      },
      "source": [
        "Результаты анализа сегментов вызывают беспокойство. Крайне мало лояльных клиентов, потенциально лояльных, VIP клиентов. Требуется работа по сохранению пользователей в зоне риска и в переходном сегменте - 'need attention'."
      ]
    },
    {
      "cell_type": "code",
      "execution_count": null,
      "metadata": {
        "id": "MGmsH-AC5WvH",
        "outputId": "9405a19a-e6fa-4cea-f15a-1a59f57852d0"
      },
      "outputs": [
        {
          "data": {
            "image/png": "[encoded data removed]",
            "text/plain": [
              "<Figure size 288x432 with 1 Axes>"
            ]
          },
          "metadata": {
            "needs_background": "light"
          },
          "output_type": "display_data"
        }
      ],
      "source": [
        "plt.rcParams['figure.figsize'] = [4, 6]\n",
        "b = sns.barplot(data=segments_counts, x=segments_counts.index[6:8], y=segments_counts.Segment[6:8],  palette='mako')\n",
        "for bar in b.patches:\n",
        "    b.annotate(format(bar.get_height(), '.0f'),\n",
        "                       (bar.get_x() + bar.get_width() / 2,\n",
        "                        bar.get_height()), ha='center', va='center',\n",
        "                        size=15, xytext=(0, 8),\n",
        "                        textcoords='offset points')\n",
        "b.set_frame_on(False)\n",
        "b.tick_params(left=False, labelleft=False, bottom=False)\n",
        "plt.ylabel('', size=16)\n",
        "plt.rc('xtick', labelsize= 14 )\n",
        "plt.rc('ytick', labelsize= 14 )"
      ]
    },
    {
      "cell_type": "markdown",
      "metadata": {
        "id": "yT3W9Sd85WvK"
      },
      "source": [
        "Большое количество покупателей совершают только одну покупку и не возвращаются. Стоит уделить этому внимание."
      ]
    },
    {
      "cell_type": "markdown",
      "metadata": {
        "id": "GJx-d0QO5WvK"
      },
      "source": [
        "\n"
      ]
    },
    {
      "cell_type": "markdown",
      "metadata": {
        "id": "qkPCLjYK5WvK"
      },
      "source": [
        "#### Анализ групп внутри каждой метрики"
      ]
    },
    {
      "cell_type": "code",
      "execution_count": null,
      "metadata": {
        "id": "3_EpDSpd5WvK",
        "outputId": "2fa7571d-a9de-4931-dbc6-1e17e33172c4"
      },
      "outputs": [
        {
          "data": {
            "text/html": [
              "<div>\n",
              "<style scoped>\n",
              "    .dataframe tbody tr th:only-of-type {\n",
              "        vertical-align: middle;\n",
              "    }\n",
              "\n",
              "    .dataframe tbody tr th {\n",
              "        vertical-align: top;\n",
              "    }\n",
              "\n",
              "    .dataframe thead th {\n",
              "        text-align: right;\n",
              "    }\n",
              "</style>\n",
              "<table border=\"1\" class=\"dataframe\">\n",
              "  <thead>\n",
              "    <tr style=\"text-align: right;\">\n",
              "      <th></th>\n",
              "      <th>F_score</th>\n",
              "      <th>F</th>\n",
              "    </tr>\n",
              "  </thead>\n",
              "  <tbody>\n",
              "    <tr>\n",
              "      <th>0</th>\n",
              "      <td>5</td>\n",
              "      <td>2</td>\n",
              "    </tr>\n",
              "    <tr>\n",
              "      <th>1</th>\n",
              "      <td>4</td>\n",
              "      <td>17</td>\n",
              "    </tr>\n",
              "    <tr>\n",
              "      <th>2</th>\n",
              "      <td>3</td>\n",
              "      <td>76</td>\n",
              "    </tr>\n",
              "    <tr>\n",
              "      <th>3</th>\n",
              "      <td>2</td>\n",
              "      <td>1124</td>\n",
              "    </tr>\n",
              "    <tr>\n",
              "      <th>4</th>\n",
              "      <td>1</td>\n",
              "      <td>41796</td>\n",
              "    </tr>\n",
              "  </tbody>\n",
              "</table>\n",
              "</div>"
            ],
            "text/plain": [
              "  F_score      F\n",
              "0       5      2\n",
              "1       4     17\n",
              "2       3     76\n",
              "3       2   1124\n",
              "4       1  41796"
            ]
          },
          "execution_count": 109,
          "metadata": {},
          "output_type": "execute_result"
        }
      ],
      "source": [
        "F_scounts = (RFM_table['F'].value_counts().sort_values(ascending=True)).reset_index().rename(columns={'index':'F_score'})\n",
        "F_scounts"
      ]
    },
    {
      "cell_type": "code",
      "execution_count": null,
      "metadata": {
        "id": "aRmaC2Ex5WvK",
        "outputId": "a14f5994-7b80-40cc-ecfb-6f5b759d0d80"
      },
      "outputs": [
        {
          "data": {
            "text/html": [
              "<div>\n",
              "<style scoped>\n",
              "    .dataframe tbody tr th:only-of-type {\n",
              "        vertical-align: middle;\n",
              "    }\n",
              "\n",
              "    .dataframe tbody tr th {\n",
              "        vertical-align: top;\n",
              "    }\n",
              "\n",
              "    .dataframe thead th {\n",
              "        text-align: right;\n",
              "    }\n",
              "</style>\n",
              "<table border=\"1\" class=\"dataframe\">\n",
              "  <thead>\n",
              "    <tr style=\"text-align: right;\">\n",
              "      <th></th>\n",
              "      <th>F_score</th>\n",
              "      <th>F</th>\n",
              "    </tr>\n",
              "  </thead>\n",
              "  <tbody>\n",
              "    <tr>\n",
              "      <th>0</th>\n",
              "      <td>5</td>\n",
              "      <td>2</td>\n",
              "    </tr>\n",
              "    <tr>\n",
              "      <th>1</th>\n",
              "      <td>4</td>\n",
              "      <td>17</td>\n",
              "    </tr>\n",
              "    <tr>\n",
              "      <th>2</th>\n",
              "      <td>3</td>\n",
              "      <td>76</td>\n",
              "    </tr>\n",
              "    <tr>\n",
              "      <th>3</th>\n",
              "      <td>2</td>\n",
              "      <td>1124</td>\n",
              "    </tr>\n",
              "    <tr>\n",
              "      <th>4</th>\n",
              "      <td>1</td>\n",
              "      <td>41796</td>\n",
              "    </tr>\n",
              "  </tbody>\n",
              "</table>\n",
              "</div>"
            ],
            "text/plain": [
              "  F_score      F\n",
              "0       5      2\n",
              "1       4     17\n",
              "2       3     76\n",
              "3       2   1124\n",
              "4       1  41796"
            ]
          },
          "execution_count": 110,
          "metadata": {},
          "output_type": "execute_result"
        }
      ],
      "source": [
        "F_scounts = (RFM_table['F'].value_counts().sort_values(ascending=True)).reset_index().rename(columns={'index':'F_score'})\n",
        "F_scounts"
      ]
    },
    {
      "cell_type": "code",
      "execution_count": null,
      "metadata": {
        "id": "vMlP72Go5WvL",
        "outputId": "5322fb02-1f18-44d3-c7cb-02fc090d6e38"
      },
      "outputs": [
        {
          "data": {
            "image/png": "[encoded data removed]",
            "text/plain": [
              "<Figure size 504x432 with 1 Axes>"
            ]
          },
          "metadata": {
            "needs_background": "light"
          },
          "output_type": "display_data"
        }
      ],
      "source": [
        "plt.rcParams['figure.figsize'] = [7, 6]\n",
        "\n",
        "F_score = sns.barplot(data=F_scounts, x=\"F_score\", y='F', color='darkcyan')\n",
        "F_score.set_yscale('log')\n",
        "fontsize_ticks = 14\n",
        "\n",
        "for bar in F_score.patches:\n",
        "    F_score.annotate(format(bar.get_height(), '.0f'),\n",
        "                       (bar.get_x() + bar.get_width() / 2,\n",
        "                        bar.get_height()), ha='center', va='center',\n",
        "                        size=15, xytext=(0, 8),\n",
        "                        textcoords='offset points')\n",
        "\n",
        "F_score.set_frame_on(False)\n",
        "F_score.tick_params(left=False, labelleft=False, bottom=False)\n",
        "\n",
        "plt.ylabel('Количество пользователей \\n', size=16)\n",
        "plt.xlabel('')\n",
        "F_score.set_title('Распределение Frequency \\n', fontsize=16)\n",
        "plt.rc('xtick', labelsize= 14 )\n",
        "plt.rc('ytick', labelsize= 14 )\n",
        "\n",
        "# Распределение построено в логарифмической шкале по оси OY"
      ]
    },
    {
      "cell_type": "markdown",
      "metadata": {
        "id": "zqI1HT5-5WvL"
      },
      "source": [
        "Подавляющее большинство пользователей совершили только одну покупку. Возможно, дело в специфики продаваемых товаров. А возможно, покупатели остались не довольны качеством товара, сервисом, скоростью доставки и т.п. Для выявления причин было бы хорошо провести дополнительный анализ."
      ]
    },
    {
      "cell_type": "code",
      "execution_count": null,
      "metadata": {
        "id": "hwqxTqU25WvL",
        "outputId": "1d4caa85-4865-49d6-a383-dede41faf780"
      },
      "outputs": [
        {
          "data": {
            "image/png": "[encoded data removed]",
            "text/plain": [
              "<Figure size 1008x432 with 2 Axes>"
            ]
          },
          "metadata": {
            "needs_background": "light"
          },
          "output_type": "display_data"
        }
      ],
      "source": [
        "fig, axes = plt.subplots(nrows=1, ncols=2, figsize=(14, 6))\n",
        "\n",
        "for i, p in enumerate(['R', 'M']):\n",
        "    parameters = {'R':'Recency', 'M':'Monetary'}\n",
        "    y = RFM_table[p].value_counts().sort_index()\n",
        "    x = y.index\n",
        "    ax = axes[i]\n",
        "    bars = ax.bar(x, y, color='darkcyan')\n",
        "    ax.set_frame_on(False)\n",
        "    ax.tick_params(left=False, labelleft=False, bottom=False)\n",
        "    ax.set_title('Распределение {}'.format(parameters[p]),\n",
        "                fontsize=14)\n",
        "    for bar in bars:\n",
        "        value = bar.get_height()\n",
        "        if value == y.max():\n",
        "            bar.set_color('darkcyan')\n",
        "        ax.text(bar.get_x() + bar.get_width() / 2,\n",
        "                value - 5,\n",
        "                '{}\\n({}%)'.format(int(value), int(value * 100 / y.sum())),\n",
        "               ha='center',\n",
        "               va='top',\n",
        "               color='w')\n",
        "\n",
        "plt.show()"
      ]
    },
    {
      "cell_type": "markdown",
      "metadata": {
        "id": "eQ-qHqnX5WvL"
      },
      "source": [
        "В распределении Recency, количество пользователей возрастает от первой к последней категории. Такая динамик может говорить о сезонности покупок, об успешности компании по привлечению клиентов или о наличии тренда на товары анализируемой платформы.\n",
        "Распределение 'Monetary' линейное."
      ]
    }
  ],
  "metadata": {
    "kernelspec": {
      "display_name": "Python 3",
      "language": "python",
      "name": "python3"
    },
    "language_info": {
      "codemirror_mode": {
        "name": "ipython",
        "version": 3
      },
      "file_extension": ".py",
      "mimetype": "text/x-python",
      "name": "python",
      "nbconvert_exporter": "python",
      "pygments_lexer": "ipython3",
      "version": "3.7.3"
    },
    "colab": {
      "provenance": []
    }
  },
  "nbformat": 4,
  "nbformat_minor": 0
}